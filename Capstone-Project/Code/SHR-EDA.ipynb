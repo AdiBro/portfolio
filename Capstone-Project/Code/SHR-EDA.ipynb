{
 "cells": [
  {
   "cell_type": "markdown",
   "metadata": {},
   "source": [
    "## Supplementary Homicide Report EDA"
   ]
  },
  {
   "cell_type": "code",
   "execution_count": 2,
   "metadata": {
    "collapsed": true
   },
   "outputs": [],
   "source": [
    "# Necessary imports:\n",
    "import numpy as np\n",
    "import pandas as pd\n",
    "import matplotlib\n",
    "import matplotlib.pyplot as plt\n",
    "plt.style.use('fivethirtyeight')\n",
    "import seaborn as sns\n",
    "from __future__ import division"
   ]
  },
  {
   "cell_type": "code",
   "execution_count": 3,
   "metadata": {
    "collapsed": true
   },
   "outputs": [],
   "source": [
    "# Display plots in Jupyter Notebook\n",
    "%matplotlib inline\n",
    "\n",
    "# Increase maximum rows and columns to 999 (instead of the default 60)\n",
    "pd.options.display.max_rows = 999\n",
    "pd.options.display.max_columns = 999"
   ]
  },
  {
   "cell_type": "code",
   "execution_count": 4,
   "metadata": {},
   "outputs": [
    {
     "name": "stderr",
     "output_type": "stream",
     "text": [
      "/Users/adibronshtein/anaconda2/lib/python2.7/site-packages/IPython/core/interactiveshell.py:2717: DtypeWarning: Columns (15,19) have mixed types. Specify dtype option on import or set low_memory=False.\n",
      "  interactivity=interactivity, compiler=compiler, result=result)\n"
     ]
    }
   ],
   "source": [
    "# Load in the Supplementary Homicide Report (SHR)\n",
    "shr = pd.read_csv('/Users/adibronshtein/Documents/Datasets/Capstone/SHR1976_2015.csv')"
   ]
  },
  {
   "cell_type": "code",
   "execution_count": 6,
   "metadata": {
    "scrolled": true
   },
   "outputs": [
    {
     "data": {
      "text/html": [
       "<div>\n",
       "<style>\n",
       "    .dataframe thead tr:only-child th {\n",
       "        text-align: right;\n",
       "    }\n",
       "\n",
       "    .dataframe thead th {\n",
       "        text-align: left;\n",
       "    }\n",
       "\n",
       "    .dataframe tbody tr th {\n",
       "        vertical-align: top;\n",
       "    }\n",
       "</style>\n",
       "<table border=\"1\" class=\"dataframe\">\n",
       "  <thead>\n",
       "    <tr style=\"text-align: right;\">\n",
       "      <th></th>\n",
       "      <th>ID</th>\n",
       "      <th>CNTYFIPS</th>\n",
       "      <th>Ori</th>\n",
       "      <th>State</th>\n",
       "      <th>Agency</th>\n",
       "      <th>Agentype</th>\n",
       "      <th>Source</th>\n",
       "      <th>Solved</th>\n",
       "      <th>Year</th>\n",
       "      <th>StateName</th>\n",
       "      <th>Month</th>\n",
       "      <th>Incident</th>\n",
       "      <th>ActionType</th>\n",
       "      <th>Homicide</th>\n",
       "      <th>Situation</th>\n",
       "      <th>VicAge</th>\n",
       "      <th>VicSex</th>\n",
       "      <th>VicRace</th>\n",
       "      <th>VicEthnic</th>\n",
       "      <th>OffAge</th>\n",
       "      <th>OffSex</th>\n",
       "      <th>OffRace</th>\n",
       "      <th>OffEthnic</th>\n",
       "      <th>Weapon</th>\n",
       "      <th>Relationship</th>\n",
       "      <th>Circumstance</th>\n",
       "      <th>Subcircum</th>\n",
       "      <th>VicCount</th>\n",
       "      <th>OffCount</th>\n",
       "      <th>FileDate</th>\n",
       "      <th>fstate</th>\n",
       "      <th>MSA</th>\n",
       "      <th>StateName2</th>\n",
       "    </tr>\n",
       "  </thead>\n",
       "  <tbody>\n",
       "    <tr>\n",
       "      <th>0</th>\n",
       "      <td>197601001AKASP00</td>\n",
       "      <td>Juneau, AK</td>\n",
       "      <td>AKASP00</td>\n",
       "      <td>Alaska</td>\n",
       "      <td>State Troopers</td>\n",
       "      <td>Primary state LE</td>\n",
       "      <td>FBI</td>\n",
       "      <td>Yes</td>\n",
       "      <td>1976</td>\n",
       "      <td>ALASKA</td>\n",
       "      <td>January</td>\n",
       "      <td>1</td>\n",
       "      <td>Normal update</td>\n",
       "      <td>Murder and non-negligent manslaughter</td>\n",
       "      <td>Single victim/single offender</td>\n",
       "      <td>48</td>\n",
       "      <td>Male</td>\n",
       "      <td>American Indian or Alaskan Native</td>\n",
       "      <td>Unknown or not reported</td>\n",
       "      <td>55</td>\n",
       "      <td>Female</td>\n",
       "      <td>American Indian or Alaskan Native</td>\n",
       "      <td>Unknown or not reported</td>\n",
       "      <td>Knife or cutting instrument</td>\n",
       "      <td>Husband</td>\n",
       "      <td>Other arguments</td>\n",
       "      <td>NaN</td>\n",
       "      <td>0</td>\n",
       "      <td>0</td>\n",
       "      <td>30180</td>\n",
       "      <td>Alaska</td>\n",
       "      <td>Rural Alaska</td>\n",
       "      <td>ALASKA</td>\n",
       "    </tr>\n",
       "    <tr>\n",
       "      <th>1</th>\n",
       "      <td>197601001AL00102</td>\n",
       "      <td>Jefferson, AL</td>\n",
       "      <td>AL00102</td>\n",
       "      <td>Alabama</td>\n",
       "      <td>Birmingham</td>\n",
       "      <td>Municipal police</td>\n",
       "      <td>FBI</td>\n",
       "      <td>Yes</td>\n",
       "      <td>1976</td>\n",
       "      <td>ALA</td>\n",
       "      <td>January</td>\n",
       "      <td>1</td>\n",
       "      <td>Normal update</td>\n",
       "      <td>Murder and non-negligent manslaughter</td>\n",
       "      <td>Single victim/single offender</td>\n",
       "      <td>65</td>\n",
       "      <td>Male</td>\n",
       "      <td>Black</td>\n",
       "      <td>Unknown or not reported</td>\n",
       "      <td>67</td>\n",
       "      <td>Male</td>\n",
       "      <td>Black</td>\n",
       "      <td>Unknown or not reported</td>\n",
       "      <td>Shotgun</td>\n",
       "      <td>Acquaintance</td>\n",
       "      <td>Felon killed by private citizen</td>\n",
       "      <td>Felon killed in commission of a crime</td>\n",
       "      <td>0</td>\n",
       "      <td>0</td>\n",
       "      <td>30180</td>\n",
       "      <td>Alabama</td>\n",
       "      <td>Birmingham-Hoover, AL</td>\n",
       "      <td>ALA</td>\n",
       "    </tr>\n",
       "    <tr>\n",
       "      <th>2</th>\n",
       "      <td>197601001AL00104</td>\n",
       "      <td>Jefferson, AL</td>\n",
       "      <td>AL00104</td>\n",
       "      <td>Alabama</td>\n",
       "      <td>Fairfield</td>\n",
       "      <td>Municipal police</td>\n",
       "      <td>FBI</td>\n",
       "      <td>Yes</td>\n",
       "      <td>1976</td>\n",
       "      <td>ALA</td>\n",
       "      <td>January</td>\n",
       "      <td>1</td>\n",
       "      <td>Normal update</td>\n",
       "      <td>Murder and non-negligent manslaughter</td>\n",
       "      <td>Single victim/single offender</td>\n",
       "      <td>45</td>\n",
       "      <td>Female</td>\n",
       "      <td>Black</td>\n",
       "      <td>Unknown or not reported</td>\n",
       "      <td>53</td>\n",
       "      <td>Male</td>\n",
       "      <td>Black</td>\n",
       "      <td>Unknown or not reported</td>\n",
       "      <td>Shotgun</td>\n",
       "      <td>Wife</td>\n",
       "      <td>Other</td>\n",
       "      <td>NaN</td>\n",
       "      <td>0</td>\n",
       "      <td>0</td>\n",
       "      <td>30180</td>\n",
       "      <td>Alabama</td>\n",
       "      <td>Birmingham-Hoover, AL</td>\n",
       "      <td>ALA</td>\n",
       "    </tr>\n",
       "    <tr>\n",
       "      <th>3</th>\n",
       "      <td>197601001AL00106</td>\n",
       "      <td>Jefferson, AL</td>\n",
       "      <td>AL00106</td>\n",
       "      <td>Alabama</td>\n",
       "      <td>Leeds</td>\n",
       "      <td>Municipal police</td>\n",
       "      <td>FBI</td>\n",
       "      <td>Yes</td>\n",
       "      <td>1976</td>\n",
       "      <td>ALA</td>\n",
       "      <td>January</td>\n",
       "      <td>1</td>\n",
       "      <td>Normal update</td>\n",
       "      <td>Murder and non-negligent manslaughter</td>\n",
       "      <td>Single victim/single offender</td>\n",
       "      <td>43</td>\n",
       "      <td>Male</td>\n",
       "      <td>Black</td>\n",
       "      <td>Unknown or not reported</td>\n",
       "      <td>35</td>\n",
       "      <td>Female</td>\n",
       "      <td>Black</td>\n",
       "      <td>Unknown or not reported</td>\n",
       "      <td>Knife or cutting instrument</td>\n",
       "      <td>Brother</td>\n",
       "      <td>Other arguments</td>\n",
       "      <td>NaN</td>\n",
       "      <td>0</td>\n",
       "      <td>0</td>\n",
       "      <td>30180</td>\n",
       "      <td>Alabama</td>\n",
       "      <td>Birmingham-Hoover, AL</td>\n",
       "      <td>ALA</td>\n",
       "    </tr>\n",
       "    <tr>\n",
       "      <th>4</th>\n",
       "      <td>197601001AL00201</td>\n",
       "      <td>Mobile, AL</td>\n",
       "      <td>AL00201</td>\n",
       "      <td>Alabama</td>\n",
       "      <td>Mobile</td>\n",
       "      <td>Municipal police</td>\n",
       "      <td>FBI</td>\n",
       "      <td>Yes</td>\n",
       "      <td>1976</td>\n",
       "      <td>ALA</td>\n",
       "      <td>January</td>\n",
       "      <td>1</td>\n",
       "      <td>Adjustment</td>\n",
       "      <td>Murder and non-negligent manslaughter</td>\n",
       "      <td>Single victim/single offender</td>\n",
       "      <td>35</td>\n",
       "      <td>Male</td>\n",
       "      <td>White</td>\n",
       "      <td>Unknown or not reported</td>\n",
       "      <td>25</td>\n",
       "      <td>Female</td>\n",
       "      <td>White</td>\n",
       "      <td>Unknown or not reported</td>\n",
       "      <td>Strangulation - hanging</td>\n",
       "      <td>Acquaintance</td>\n",
       "      <td>Circumstances undetermined</td>\n",
       "      <td>NaN</td>\n",
       "      <td>0</td>\n",
       "      <td>0</td>\n",
       "      <td>30180</td>\n",
       "      <td>Alabama</td>\n",
       "      <td>Mobile, AL</td>\n",
       "      <td>ALA</td>\n",
       "    </tr>\n",
       "  </tbody>\n",
       "</table>\n",
       "</div>"
      ],
      "text/plain": [
       "                 ID       CNTYFIPS      Ori    State          Agency  \\\n",
       "0  197601001AKASP00     Juneau, AK  AKASP00   Alaska  State Troopers   \n",
       "1  197601001AL00102  Jefferson, AL  AL00102  Alabama      Birmingham   \n",
       "2  197601001AL00104  Jefferson, AL  AL00104  Alabama       Fairfield   \n",
       "3  197601001AL00106  Jefferson, AL  AL00106  Alabama           Leeds   \n",
       "4  197601001AL00201     Mobile, AL  AL00201  Alabama          Mobile   \n",
       "\n",
       "           Agentype Source Solved  Year StateName    Month  Incident  \\\n",
       "0  Primary state LE    FBI    Yes  1976    ALASKA  January         1   \n",
       "1  Municipal police    FBI    Yes  1976       ALA  January         1   \n",
       "2  Municipal police    FBI    Yes  1976       ALA  January         1   \n",
       "3  Municipal police    FBI    Yes  1976       ALA  January         1   \n",
       "4  Municipal police    FBI    Yes  1976       ALA  January         1   \n",
       "\n",
       "      ActionType                               Homicide  \\\n",
       "0  Normal update  Murder and non-negligent manslaughter   \n",
       "1  Normal update  Murder and non-negligent manslaughter   \n",
       "2  Normal update  Murder and non-negligent manslaughter   \n",
       "3  Normal update  Murder and non-negligent manslaughter   \n",
       "4     Adjustment  Murder and non-negligent manslaughter   \n",
       "\n",
       "                       Situation VicAge  VicSex  \\\n",
       "0  Single victim/single offender     48    Male   \n",
       "1  Single victim/single offender     65    Male   \n",
       "2  Single victim/single offender     45  Female   \n",
       "3  Single victim/single offender     43    Male   \n",
       "4  Single victim/single offender     35    Male   \n",
       "\n",
       "                             VicRace                VicEthnic OffAge  OffSex  \\\n",
       "0  American Indian or Alaskan Native  Unknown or not reported     55  Female   \n",
       "1                              Black  Unknown or not reported     67    Male   \n",
       "2                              Black  Unknown or not reported     53    Male   \n",
       "3                              Black  Unknown or not reported     35  Female   \n",
       "4                              White  Unknown or not reported     25  Female   \n",
       "\n",
       "                             OffRace                OffEthnic  \\\n",
       "0  American Indian or Alaskan Native  Unknown or not reported   \n",
       "1                              Black  Unknown or not reported   \n",
       "2                              Black  Unknown or not reported   \n",
       "3                              Black  Unknown or not reported   \n",
       "4                              White  Unknown or not reported   \n",
       "\n",
       "                        Weapon  Relationship                     Circumstance  \\\n",
       "0  Knife or cutting instrument       Husband                  Other arguments   \n",
       "1                      Shotgun  Acquaintance  Felon killed by private citizen   \n",
       "2                      Shotgun          Wife                            Other   \n",
       "3  Knife or cutting instrument       Brother                  Other arguments   \n",
       "4      Strangulation - hanging  Acquaintance       Circumstances undetermined   \n",
       "\n",
       "                               Subcircum  VicCount  OffCount  FileDate  \\\n",
       "0                                    NaN         0         0     30180   \n",
       "1  Felon killed in commission of a crime         0         0     30180   \n",
       "2                                    NaN         0         0     30180   \n",
       "3                                    NaN         0         0     30180   \n",
       "4                                    NaN         0         0     30180   \n",
       "\n",
       "    fstate                    MSA StateName2  \n",
       "0   Alaska           Rural Alaska     ALASKA  \n",
       "1  Alabama  Birmingham-Hoover, AL        ALA  \n",
       "2  Alabama  Birmingham-Hoover, AL        ALA  \n",
       "3  Alabama  Birmingham-Hoover, AL        ALA  \n",
       "4  Alabama             Mobile, AL        ALA  "
      ]
     },
     "execution_count": 6,
     "metadata": {},
     "output_type": "execute_result"
    }
   ],
   "source": [
    "shr.head()"
   ]
  },
  {
   "cell_type": "code",
   "execution_count": 7,
   "metadata": {
    "scrolled": true
   },
   "outputs": [
    {
     "data": {
      "text/html": [
       "<div>\n",
       "<style>\n",
       "    .dataframe thead tr:only-child th {\n",
       "        text-align: right;\n",
       "    }\n",
       "\n",
       "    .dataframe thead th {\n",
       "        text-align: left;\n",
       "    }\n",
       "\n",
       "    .dataframe tbody tr th {\n",
       "        vertical-align: top;\n",
       "    }\n",
       "</style>\n",
       "<table border=\"1\" class=\"dataframe\">\n",
       "  <thead>\n",
       "    <tr style=\"text-align: right;\">\n",
       "      <th></th>\n",
       "      <th>ID</th>\n",
       "      <th>CNTYFIPS</th>\n",
       "      <th>Ori</th>\n",
       "      <th>State</th>\n",
       "      <th>Agency</th>\n",
       "      <th>Agentype</th>\n",
       "      <th>Source</th>\n",
       "      <th>Solved</th>\n",
       "      <th>Year</th>\n",
       "      <th>StateName</th>\n",
       "      <th>Month</th>\n",
       "      <th>Incident</th>\n",
       "      <th>ActionType</th>\n",
       "      <th>Homicide</th>\n",
       "      <th>Situation</th>\n",
       "      <th>VicAge</th>\n",
       "      <th>VicSex</th>\n",
       "      <th>VicRace</th>\n",
       "      <th>VicEthnic</th>\n",
       "      <th>OffAge</th>\n",
       "      <th>OffSex</th>\n",
       "      <th>OffRace</th>\n",
       "      <th>OffEthnic</th>\n",
       "      <th>Weapon</th>\n",
       "      <th>Relationship</th>\n",
       "      <th>Circumstance</th>\n",
       "      <th>Subcircum</th>\n",
       "      <th>VicCount</th>\n",
       "      <th>OffCount</th>\n",
       "      <th>FileDate</th>\n",
       "      <th>fstate</th>\n",
       "      <th>MSA</th>\n",
       "      <th>StateName2</th>\n",
       "    </tr>\n",
       "  </thead>\n",
       "  <tbody>\n",
       "    <tr>\n",
       "      <th>732166</th>\n",
       "      <td>201512961FL03703</td>\n",
       "      <td>Leon, FL</td>\n",
       "      <td>FL03703</td>\n",
       "      <td>Florida</td>\n",
       "      <td>Tallahassee</td>\n",
       "      <td>Municipal police</td>\n",
       "      <td>MAP</td>\n",
       "      <td>Yes</td>\n",
       "      <td>2015</td>\n",
       "      <td>FLA</td>\n",
       "      <td>December</td>\n",
       "      <td>961</td>\n",
       "      <td>Normal update</td>\n",
       "      <td>Murder and non-negligent manslaughter</td>\n",
       "      <td>Single victim/single offender</td>\n",
       "      <td>24</td>\n",
       "      <td>Male</td>\n",
       "      <td>Black</td>\n",
       "      <td>Unknown or not reported</td>\n",
       "      <td>32</td>\n",
       "      <td>Male</td>\n",
       "      <td>Black</td>\n",
       "      <td>Unknown or not reported</td>\n",
       "      <td>Rifle</td>\n",
       "      <td>Relationship not determined</td>\n",
       "      <td>Felon killed by police</td>\n",
       "      <td>Felon killed in commission of a crime</td>\n",
       "      <td>0</td>\n",
       "      <td>0</td>\n",
       "      <td>30116</td>\n",
       "      <td>Florida</td>\n",
       "      <td>Tallahassee, FL</td>\n",
       "      <td>FLA</td>\n",
       "    </tr>\n",
       "    <tr>\n",
       "      <th>732167</th>\n",
       "      <td>201512985FL04100</td>\n",
       "      <td>Manatee, FL</td>\n",
       "      <td>FL04100</td>\n",
       "      <td>Florida</td>\n",
       "      <td>Manatee County</td>\n",
       "      <td>Sheriff</td>\n",
       "      <td>MAP</td>\n",
       "      <td>Yes</td>\n",
       "      <td>2015</td>\n",
       "      <td>FLA</td>\n",
       "      <td>December</td>\n",
       "      <td>985</td>\n",
       "      <td>Normal update</td>\n",
       "      <td>Murder and non-negligent manslaughter</td>\n",
       "      <td>Single victim/single offender</td>\n",
       "      <td>1</td>\n",
       "      <td>Male</td>\n",
       "      <td>Black</td>\n",
       "      <td>Unknown or not reported</td>\n",
       "      <td>37</td>\n",
       "      <td>Male</td>\n",
       "      <td>White</td>\n",
       "      <td>Unknown or not reported</td>\n",
       "      <td>Personal weapons, includes beating</td>\n",
       "      <td>Relationship not determined</td>\n",
       "      <td>All other manslaughter by negligence</td>\n",
       "      <td>NaN</td>\n",
       "      <td>0</td>\n",
       "      <td>0</td>\n",
       "      <td>30116</td>\n",
       "      <td>Florida</td>\n",
       "      <td>Sarasota-Bradenton-Venice, FL</td>\n",
       "      <td>FLA</td>\n",
       "    </tr>\n",
       "    <tr>\n",
       "      <th>732168</th>\n",
       "      <td>201512986FL04100</td>\n",
       "      <td>Manatee, FL</td>\n",
       "      <td>FL04100</td>\n",
       "      <td>Florida</td>\n",
       "      <td>Manatee County</td>\n",
       "      <td>Sheriff</td>\n",
       "      <td>MAP</td>\n",
       "      <td>Yes</td>\n",
       "      <td>2015</td>\n",
       "      <td>FLA</td>\n",
       "      <td>December</td>\n",
       "      <td>986</td>\n",
       "      <td>Normal update</td>\n",
       "      <td>Murder and non-negligent manslaughter</td>\n",
       "      <td>Single victim/single offender</td>\n",
       "      <td>26</td>\n",
       "      <td>Male</td>\n",
       "      <td>Black</td>\n",
       "      <td>Unknown or not reported</td>\n",
       "      <td>37</td>\n",
       "      <td>Male</td>\n",
       "      <td>Black</td>\n",
       "      <td>Unknown or not reported</td>\n",
       "      <td>Firearm, type not stated</td>\n",
       "      <td>Relationship not determined</td>\n",
       "      <td>Other</td>\n",
       "      <td>NaN</td>\n",
       "      <td>0</td>\n",
       "      <td>0</td>\n",
       "      <td>30116</td>\n",
       "      <td>Florida</td>\n",
       "      <td>Sarasota-Bradenton-Venice, FL</td>\n",
       "      <td>FLA</td>\n",
       "    </tr>\n",
       "    <tr>\n",
       "      <th>732169</th>\n",
       "      <td>201512987FL04100</td>\n",
       "      <td>Manatee, FL</td>\n",
       "      <td>FL04100</td>\n",
       "      <td>Florida</td>\n",
       "      <td>Manatee County</td>\n",
       "      <td>Sheriff</td>\n",
       "      <td>MAP</td>\n",
       "      <td>Yes</td>\n",
       "      <td>2015</td>\n",
       "      <td>FLA</td>\n",
       "      <td>December</td>\n",
       "      <td>987</td>\n",
       "      <td>Normal update</td>\n",
       "      <td>Murder and non-negligent manslaughter</td>\n",
       "      <td>Single victim/single offender</td>\n",
       "      <td>27</td>\n",
       "      <td>Male</td>\n",
       "      <td>Black</td>\n",
       "      <td>Unknown or not reported</td>\n",
       "      <td>20</td>\n",
       "      <td>Male</td>\n",
       "      <td>Black</td>\n",
       "      <td>Unknown or not reported</td>\n",
       "      <td>Firearm, type not stated</td>\n",
       "      <td>Relationship not determined</td>\n",
       "      <td>Other - not specified</td>\n",
       "      <td>NaN</td>\n",
       "      <td>0</td>\n",
       "      <td>0</td>\n",
       "      <td>30116</td>\n",
       "      <td>Florida</td>\n",
       "      <td>Sarasota-Bradenton-Venice, FL</td>\n",
       "      <td>FLA</td>\n",
       "    </tr>\n",
       "    <tr>\n",
       "      <th>732170</th>\n",
       "      <td>201512987LA02803</td>\n",
       "      <td>Lafayette, LA</td>\n",
       "      <td>LA02803</td>\n",
       "      <td>Louisiana</td>\n",
       "      <td>Lafayette</td>\n",
       "      <td>Municipal police</td>\n",
       "      <td>FBI</td>\n",
       "      <td>No</td>\n",
       "      <td>2015</td>\n",
       "      <td>LA</td>\n",
       "      <td>December</td>\n",
       "      <td>987</td>\n",
       "      <td>2</td>\n",
       "      <td>Murder and non-negligent manslaughter</td>\n",
       "      <td>Single victim/unknown offender(s)</td>\n",
       "      <td>57</td>\n",
       "      <td>Male</td>\n",
       "      <td>Asian or Pacific Islander</td>\n",
       "      <td>Unknown or not reported</td>\n",
       "      <td>999</td>\n",
       "      <td>Unknown</td>\n",
       "      <td>Unknown</td>\n",
       "      <td>Unknown or not reported</td>\n",
       "      <td>Handgun - pistol, revolver, etc</td>\n",
       "      <td>Relationship not determined</td>\n",
       "      <td>Robbery</td>\n",
       "      <td>NaN</td>\n",
       "      <td>0</td>\n",
       "      <td>0</td>\n",
       "      <td>60216</td>\n",
       "      <td>Louisiana</td>\n",
       "      <td>Lafayette, LA</td>\n",
       "      <td>LA</td>\n",
       "    </tr>\n",
       "  </tbody>\n",
       "</table>\n",
       "</div>"
      ],
      "text/plain": [
       "                      ID       CNTYFIPS      Ori      State          Agency  \\\n",
       "732166  201512961FL03703       Leon, FL  FL03703    Florida     Tallahassee   \n",
       "732167  201512985FL04100    Manatee, FL  FL04100    Florida  Manatee County   \n",
       "732168  201512986FL04100    Manatee, FL  FL04100    Florida  Manatee County   \n",
       "732169  201512987FL04100    Manatee, FL  FL04100    Florida  Manatee County   \n",
       "732170  201512987LA02803  Lafayette, LA  LA02803  Louisiana       Lafayette   \n",
       "\n",
       "                Agentype Source Solved  Year StateName     Month  Incident  \\\n",
       "732166  Municipal police    MAP    Yes  2015       FLA  December       961   \n",
       "732167           Sheriff    MAP    Yes  2015       FLA  December       985   \n",
       "732168           Sheriff    MAP    Yes  2015       FLA  December       986   \n",
       "732169           Sheriff    MAP    Yes  2015       FLA  December       987   \n",
       "732170  Municipal police    FBI     No  2015        LA  December       987   \n",
       "\n",
       "           ActionType                               Homicide  \\\n",
       "732166  Normal update  Murder and non-negligent manslaughter   \n",
       "732167  Normal update  Murder and non-negligent manslaughter   \n",
       "732168  Normal update  Murder and non-negligent manslaughter   \n",
       "732169  Normal update  Murder and non-negligent manslaughter   \n",
       "732170              2  Murder and non-negligent manslaughter   \n",
       "\n",
       "                                Situation VicAge VicSex  \\\n",
       "732166      Single victim/single offender     24   Male   \n",
       "732167      Single victim/single offender      1   Male   \n",
       "732168      Single victim/single offender     26   Male   \n",
       "732169      Single victim/single offender     27   Male   \n",
       "732170  Single victim/unknown offender(s)     57   Male   \n",
       "\n",
       "                          VicRace                VicEthnic OffAge   OffSex  \\\n",
       "732166                      Black  Unknown or not reported     32     Male   \n",
       "732167                      Black  Unknown or not reported     37     Male   \n",
       "732168                      Black  Unknown or not reported     37     Male   \n",
       "732169                      Black  Unknown or not reported     20     Male   \n",
       "732170  Asian or Pacific Islander  Unknown or not reported    999  Unknown   \n",
       "\n",
       "        OffRace                OffEthnic                              Weapon  \\\n",
       "732166    Black  Unknown or not reported                               Rifle   \n",
       "732167    White  Unknown or not reported  Personal weapons, includes beating   \n",
       "732168    Black  Unknown or not reported            Firearm, type not stated   \n",
       "732169    Black  Unknown or not reported            Firearm, type not stated   \n",
       "732170  Unknown  Unknown or not reported     Handgun - pistol, revolver, etc   \n",
       "\n",
       "                       Relationship                          Circumstance  \\\n",
       "732166  Relationship not determined                Felon killed by police   \n",
       "732167  Relationship not determined  All other manslaughter by negligence   \n",
       "732168  Relationship not determined                                 Other   \n",
       "732169  Relationship not determined                 Other - not specified   \n",
       "732170  Relationship not determined                               Robbery   \n",
       "\n",
       "                                    Subcircum  VicCount  OffCount  FileDate  \\\n",
       "732166  Felon killed in commission of a crime         0         0     30116   \n",
       "732167                                    NaN         0         0     30116   \n",
       "732168                                    NaN         0         0     30116   \n",
       "732169                                    NaN         0         0     30116   \n",
       "732170                                    NaN         0         0     60216   \n",
       "\n",
       "           fstate                            MSA StateName2  \n",
       "732166    Florida                Tallahassee, FL        FLA  \n",
       "732167    Florida  Sarasota-Bradenton-Venice, FL        FLA  \n",
       "732168    Florida  Sarasota-Bradenton-Venice, FL        FLA  \n",
       "732169    Florida  Sarasota-Bradenton-Venice, FL        FLA  \n",
       "732170  Louisiana                  Lafayette, LA         LA  "
      ]
     },
     "execution_count": 7,
     "metadata": {},
     "output_type": "execute_result"
    }
   ],
   "source": [
    "shr.tail()"
   ]
  },
  {
   "cell_type": "code",
   "execution_count": 8,
   "metadata": {},
   "outputs": [
    {
     "data": {
      "text/plain": [
       "(732171, 33)"
      ]
     },
     "execution_count": 8,
     "metadata": {},
     "output_type": "execute_result"
    }
   ],
   "source": [
    "shr.shape"
   ]
  },
  {
   "cell_type": "markdown",
   "metadata": {},
   "source": [
    "As described on The Murder Accountability Project website (http://www.murderdata.org/), it has assembled case details on 732,171 homicides from 1976 through 2015, including 23,435 cases not reported to the FBI. As seen here, there are $732,171$ rows in this dataset, and 33 columns."
   ]
  },
  {
   "cell_type": "code",
   "execution_count": 9,
   "metadata": {},
   "outputs": [
    {
     "data": {
      "text/plain": [
       "Index([u'ID', u'CNTYFIPS', u'Ori', u'State', u'Agency', u'Agentype', u'Source',\n",
       "       u'Solved', u'Year', u'StateName', u'Month', u'Incident', u'ActionType',\n",
       "       u'Homicide', u'Situation', u'VicAge', u'VicSex', u'VicRace',\n",
       "       u'VicEthnic', u'OffAge', u'OffSex', u'OffRace', u'OffEthnic', u'Weapon',\n",
       "       u'Relationship', u'Circumstance', u'Subcircum', u'VicCount',\n",
       "       u'OffCount', u'FileDate', u'fstate', u'MSA', u'StateName2'],\n",
       "      dtype='object')"
      ]
     },
     "execution_count": 9,
     "metadata": {},
     "output_type": "execute_result"
    }
   ],
   "source": [
    "shr.columns"
   ]
  },
  {
   "cell_type": "markdown",
   "metadata": {},
   "source": [
    "&uarr; ** Make data dictionary ** &uarr;"
   ]
  },
  {
   "cell_type": "code",
   "execution_count": 10,
   "metadata": {
    "scrolled": true
   },
   "outputs": [
    {
     "data": {
      "text/plain": [
       "ID              object\n",
       "CNTYFIPS        object\n",
       "Ori             object\n",
       "State           object\n",
       "Agency          object\n",
       "Agentype        object\n",
       "Source          object\n",
       "Solved          object\n",
       "Year             int64\n",
       "StateName       object\n",
       "Month           object\n",
       "Incident         int64\n",
       "ActionType      object\n",
       "Homicide        object\n",
       "Situation       object\n",
       "VicAge          object\n",
       "VicSex          object\n",
       "VicRace         object\n",
       "VicEthnic       object\n",
       "OffAge          object\n",
       "OffSex          object\n",
       "OffRace         object\n",
       "OffEthnic       object\n",
       "Weapon          object\n",
       "Relationship    object\n",
       "Circumstance    object\n",
       "Subcircum       object\n",
       "VicCount         int64\n",
       "OffCount         int64\n",
       "FileDate         int64\n",
       "fstate          object\n",
       "MSA             object\n",
       "StateName2      object\n",
       "dtype: object"
      ]
     },
     "execution_count": 10,
     "metadata": {},
     "output_type": "execute_result"
    }
   ],
   "source": [
    "shr.dtypes"
   ]
  },
  {
   "cell_type": "code",
   "execution_count": 11,
   "metadata": {
    "scrolled": true
   },
   "outputs": [
    {
     "name": "stdout",
     "output_type": "stream",
     "text": [
      "<class 'pandas.core.frame.DataFrame'>\n",
      "RangeIndex: 732171 entries, 0 to 732170\n",
      "Data columns (total 33 columns):\n",
      "ID              732171 non-null object\n",
      "CNTYFIPS        732171 non-null object\n",
      "Ori             732171 non-null object\n",
      "State           732171 non-null object\n",
      "Agency          732171 non-null object\n",
      "Agentype        732171 non-null object\n",
      "Source          732171 non-null object\n",
      "Solved          732171 non-null object\n",
      "Year            732171 non-null int64\n",
      "StateName       732171 non-null object\n",
      "Month           732171 non-null object\n",
      "Incident        732171 non-null int64\n",
      "ActionType      732171 non-null object\n",
      "Homicide        732171 non-null object\n",
      "Situation       732171 non-null object\n",
      "VicAge          732171 non-null object\n",
      "VicSex          732171 non-null object\n",
      "VicRace         732171 non-null object\n",
      "VicEthnic       447542 non-null object\n",
      "OffAge          732171 non-null object\n",
      "OffSex          732171 non-null object\n",
      "OffRace         732171 non-null object\n",
      "OffEthnic       447049 non-null object\n",
      "Weapon          732171 non-null object\n",
      "Relationship    732171 non-null object\n",
      "Circumstance    732171 non-null object\n",
      "Subcircum       27373 non-null object\n",
      "VicCount        732171 non-null int64\n",
      "OffCount        732171 non-null int64\n",
      "FileDate        732171 non-null int64\n",
      "fstate          732171 non-null object\n",
      "MSA             732171 non-null object\n",
      "StateName2      732171 non-null object\n",
      "dtypes: int64(5), object(28)\n",
      "memory usage: 184.3+ MB\n"
     ]
    }
   ],
   "source": [
    "shr.info()"
   ]
  },
  {
   "cell_type": "code",
   "execution_count": 12,
   "metadata": {},
   "outputs": [
    {
     "data": {
      "text/plain": [
       "array([1976, 1977, 1978, 1979, 1980, 1981, 1982, 1983, 1984, 1985, 1986,\n",
       "       1987, 1988, 1989, 1990, 1991, 1992, 1993, 1994, 1995, 1996, 1997,\n",
       "       1998, 1999, 2000, 2001, 2002, 2003, 2004, 2005, 2006, 2007, 2008,\n",
       "       2009, 2010, 2011, 2012, 2013, 2014, 2015])"
      ]
     },
     "execution_count": 12,
     "metadata": {},
     "output_type": "execute_result"
    }
   ],
   "source": [
    "shr.Year.unique()"
   ]
  },
  {
   "cell_type": "markdown",
   "metadata": {},
   "source": [
    "As mentioned, the dataset spans from 1976 to 2015."
   ]
  },
  {
   "cell_type": "code",
   "execution_count": 13,
   "metadata": {},
   "outputs": [
    {
     "data": {
      "text/html": [
       "<div>\n",
       "<style>\n",
       "    .dataframe thead tr:only-child th {\n",
       "        text-align: right;\n",
       "    }\n",
       "\n",
       "    .dataframe thead th {\n",
       "        text-align: left;\n",
       "    }\n",
       "\n",
       "    .dataframe tbody tr th {\n",
       "        vertical-align: top;\n",
       "    }\n",
       "</style>\n",
       "<table border=\"1\" class=\"dataframe\">\n",
       "  <thead>\n",
       "    <tr style=\"text-align: right;\">\n",
       "      <th></th>\n",
       "      <th>Year</th>\n",
       "      <th>Incident</th>\n",
       "      <th>VicCount</th>\n",
       "      <th>OffCount</th>\n",
       "      <th>FileDate</th>\n",
       "    </tr>\n",
       "  </thead>\n",
       "  <tbody>\n",
       "    <tr>\n",
       "      <th>count</th>\n",
       "      <td>732171.000000</td>\n",
       "      <td>732171.000000</td>\n",
       "      <td>732171.000000</td>\n",
       "      <td>732171.000000</td>\n",
       "      <td>732171.000000</td>\n",
       "    </tr>\n",
       "    <tr>\n",
       "      <th>mean</th>\n",
       "      <td>1994.282741</td>\n",
       "      <td>26.301014</td>\n",
       "      <td>0.123737</td>\n",
       "      <td>0.179402</td>\n",
       "      <td>50973.232108</td>\n",
       "    </tr>\n",
       "    <tr>\n",
       "      <th>std</th>\n",
       "      <td>11.265598</td>\n",
       "      <td>102.364930</td>\n",
       "      <td>0.542241</td>\n",
       "      <td>0.583334</td>\n",
       "      <td>32154.539944</td>\n",
       "    </tr>\n",
       "    <tr>\n",
       "      <th>min</th>\n",
       "      <td>1976.000000</td>\n",
       "      <td>0.000000</td>\n",
       "      <td>0.000000</td>\n",
       "      <td>0.000000</td>\n",
       "      <td>10181.000000</td>\n",
       "    </tr>\n",
       "    <tr>\n",
       "      <th>25%</th>\n",
       "      <td>1985.000000</td>\n",
       "      <td>1.000000</td>\n",
       "      <td>0.000000</td>\n",
       "      <td>0.000000</td>\n",
       "      <td>30112.000000</td>\n",
       "    </tr>\n",
       "    <tr>\n",
       "      <th>50%</th>\n",
       "      <td>1993.000000</td>\n",
       "      <td>2.000000</td>\n",
       "      <td>0.000000</td>\n",
       "      <td>0.000000</td>\n",
       "      <td>33084.000000</td>\n",
       "    </tr>\n",
       "    <tr>\n",
       "      <th>75%</th>\n",
       "      <td>2004.000000</td>\n",
       "      <td>10.000000</td>\n",
       "      <td>0.000000</td>\n",
       "      <td>0.000000</td>\n",
       "      <td>80790.000000</td>\n",
       "    </tr>\n",
       "    <tr>\n",
       "      <th>max</th>\n",
       "      <td>2015.000000</td>\n",
       "      <td>999.000000</td>\n",
       "      <td>10.000000</td>\n",
       "      <td>34.000000</td>\n",
       "      <td>123197.000000</td>\n",
       "    </tr>\n",
       "  </tbody>\n",
       "</table>\n",
       "</div>"
      ],
      "text/plain": [
       "                Year       Incident       VicCount       OffCount  \\\n",
       "count  732171.000000  732171.000000  732171.000000  732171.000000   \n",
       "mean     1994.282741      26.301014       0.123737       0.179402   \n",
       "std        11.265598     102.364930       0.542241       0.583334   \n",
       "min      1976.000000       0.000000       0.000000       0.000000   \n",
       "25%      1985.000000       1.000000       0.000000       0.000000   \n",
       "50%      1993.000000       2.000000       0.000000       0.000000   \n",
       "75%      2004.000000      10.000000       0.000000       0.000000   \n",
       "max      2015.000000     999.000000      10.000000      34.000000   \n",
       "\n",
       "            FileDate  \n",
       "count  732171.000000  \n",
       "mean    50973.232108  \n",
       "std     32154.539944  \n",
       "min     10181.000000  \n",
       "25%     30112.000000  \n",
       "50%     33084.000000  \n",
       "75%     80790.000000  \n",
       "max    123197.000000  "
      ]
     },
     "execution_count": 13,
     "metadata": {},
     "output_type": "execute_result"
    }
   ],
   "source": [
    "# Descriptive statistics of numerical columns\n",
    "shr.describe()"
   ]
  },
  {
   "cell_type": "code",
   "execution_count": 14,
   "metadata": {
    "scrolled": true
   },
   "outputs": [
    {
     "data": {
      "text/plain": [
       "ID                   0\n",
       "CNTYFIPS             0\n",
       "Ori                  0\n",
       "State                0\n",
       "Agency               0\n",
       "Agentype             0\n",
       "Source               0\n",
       "Solved               0\n",
       "Year                 0\n",
       "StateName            0\n",
       "Month                0\n",
       "Incident             0\n",
       "ActionType           0\n",
       "Homicide             0\n",
       "Situation            0\n",
       "VicAge               0\n",
       "VicSex               0\n",
       "VicRace              0\n",
       "VicEthnic       284629\n",
       "OffAge               0\n",
       "OffSex               0\n",
       "OffRace              0\n",
       "OffEthnic       285122\n",
       "Weapon               0\n",
       "Relationship         0\n",
       "Circumstance         0\n",
       "Subcircum       704798\n",
       "VicCount             0\n",
       "OffCount             0\n",
       "FileDate             0\n",
       "fstate               0\n",
       "MSA                  0\n",
       "StateName2           0\n",
       "dtype: int64"
      ]
     },
     "execution_count": 14,
     "metadata": {},
     "output_type": "execute_result"
    }
   ],
   "source": [
    "# Missing values\n",
    "shr.isnull().sum()"
   ]
  },
  {
   "cell_type": "code",
   "execution_count": 15,
   "metadata": {},
   "outputs": [
    {
     "data": {
      "text/plain": [
       "1939"
      ]
     },
     "execution_count": 15,
     "metadata": {},
     "output_type": "execute_result"
    }
   ],
   "source": [
    "shr.duplicated().sum()"
   ]
  },
  {
   "cell_type": "code",
   "execution_count": 16,
   "metadata": {
    "collapsed": true
   },
   "outputs": [],
   "source": [
    "shr.drop_duplicates(inplace=True)"
   ]
  },
  {
   "cell_type": "code",
   "execution_count": 17,
   "metadata": {},
   "outputs": [
    {
     "data": {
      "text/plain": [
       "0"
      ]
     },
     "execution_count": 17,
     "metadata": {},
     "output_type": "execute_result"
    }
   ],
   "source": [
    "shr.duplicated().sum()"
   ]
  },
  {
   "cell_type": "markdown",
   "metadata": {},
   "source": [
    "## General Info on Solved Cases"
   ]
  },
  {
   "cell_type": "code",
   "execution_count": 18,
   "metadata": {},
   "outputs": [
    {
     "data": {
      "text/plain": [
       "730232"
      ]
     },
     "execution_count": 18,
     "metadata": {},
     "output_type": "execute_result"
    }
   ],
   "source": [
    "len(shr.Solved)"
   ]
  },
  {
   "cell_type": "code",
   "execution_count": 19,
   "metadata": {},
   "outputs": [
    {
     "name": "stdout",
     "output_type": "stream",
     "text": [
      "Yes    516988\n",
      "No     213244\n",
      "Name: Solved, dtype: int64\n",
      "Yes    0.707978\n",
      "No     0.292022\n",
      "Name: Solved, dtype: float64\n"
     ]
    }
   ],
   "source": [
    "print shr.Solved.value_counts()\n",
    "print shr.Solved.value_counts(normalize=True)"
   ]
  },
  {
   "cell_type": "markdown",
   "metadata": {},
   "source": [
    "$29\\%$ of homicides reported between 1976 and 2015 were not solved (solved is defined as arrest made in the case)."
   ]
  },
  {
   "cell_type": "code",
   "execution_count": 20,
   "metadata": {},
   "outputs": [
    {
     "data": {
      "text/plain": [
       "<matplotlib.text.Text at 0x1085e6a90>"
      ]
     },
     "execution_count": 20,
     "metadata": {},
     "output_type": "execute_result"
    },
    {
     "data": {
      "image/png": "[encoded data removed]",
      "text/plain": [
       "<matplotlib.figure.Figure at 0x10a641b50>"
      ]
     },
     "metadata": {},
     "output_type": "display_data"
    }
   ],
   "source": [
    "## Rate of crimes solved\n",
    "solved = pd.DataFrame(shr, columns = ['Solved']) \n",
    "resolution = solved.stack().value_counts()\n",
    "ax = resolution.plot(kind = 'pie', figsize=(8,8), fontsize=15,\n",
    "                              title = 'Crimes solved between 1976 to 2015 (in %)',\n",
    "                              startangle = 10,\n",
    "                              autopct='%.2f')\n",
    "ax.set_ylabel('')"
   ]
  },
  {
   "cell_type": "code",
   "execution_count": 21,
   "metadata": {},
   "outputs": [
    {
     "data": {
      "text/plain": [
       "FBI    706797\n",
       "MAP     23435\n",
       "Name: Source, dtype: int64"
      ]
     },
     "execution_count": 21,
     "metadata": {},
     "output_type": "execute_result"
    }
   ],
   "source": [
    "shr.Source.value_counts()"
   ]
  },
  {
   "cell_type": "markdown",
   "metadata": {},
   "source": [
    "708,736 cases/reports came from the FBI; 23,435 cases were obtained by Murder Accountability Project. ** Note **: Could it be that cases that were NOT reported to FBI are more likely to be connected, and the law enforcement agaeny was trying to cover up stuff??? "
   ]
  },
  {
   "cell_type": "code",
   "execution_count": 22,
   "metadata": {},
   "outputs": [
    {
     "name": "stdout",
     "output_type": "stream",
     "text": [
      "Source  Solved\n",
      "FBI     Yes       499997\n",
      "        No        206800\n",
      "MAP     Yes        16991\n",
      "        No          6444\n",
      "Name: Solved, dtype: int64\n",
      "Source  Solved\n",
      "FBI     Yes       0.707412\n",
      "        No        0.292588\n",
      "MAP     Yes       0.725027\n",
      "        No        0.274973\n",
      "Name: Solved, dtype: float64\n"
     ]
    }
   ],
   "source": [
    "print shr.groupby('Source').Solved.value_counts()\n",
    "print shr.groupby('Source').Solved.value_counts(normalize=True)"
   ]
  },
  {
   "cell_type": "markdown",
   "metadata": {},
   "source": [
    "$29\\%$ of homicides that were originally reported to the FBI were unsolved. $27\\%$ of cases that were not originally reported to the FBI (info was obtained by murder accountability project) were left unsolved. Doesn't seem like a big difference."
   ]
  },
  {
   "cell_type": "code",
   "execution_count": 23,
   "metadata": {},
   "outputs": [
    {
     "data": {
      "text/plain": [
       "Municipal police    567378\n",
       "Sheriff             123445\n",
       "County police        20491\n",
       "Primary state LE     17250\n",
       "Special police        1266\n",
       "Regional police        292\n",
       "Tribal                 110\n",
       "Name: Agentype, dtype: int64"
      ]
     },
     "execution_count": 23,
     "metadata": {},
     "output_type": "execute_result"
    }
   ],
   "source": [
    "shr.Agentype.value_counts()"
   ]
  },
  {
   "cell_type": "code",
   "execution_count": 24,
   "metadata": {},
   "outputs": [
    {
     "data": {
      "text/plain": [
       "Agentype          Solved\n",
       "County police     Yes        13921\n",
       "                  No          6570\n",
       "Municipal police  Yes       389995\n",
       "                  No        177383\n",
       "Primary state LE  Yes        14190\n",
       "                  No          3060\n",
       "Regional police   Yes          228\n",
       "                  No            64\n",
       "Sheriff           Yes        97656\n",
       "                  No         25789\n",
       "Special police    Yes          897\n",
       "                  No           369\n",
       "Tribal            Yes          101\n",
       "                  No             9\n",
       "Name: Solved, dtype: int64"
      ]
     },
     "execution_count": 24,
     "metadata": {},
     "output_type": "execute_result"
    }
   ],
   "source": [
    "shr.groupby('Agentype').Solved.value_counts()"
   ]
  },
  {
   "cell_type": "code",
   "execution_count": 25,
   "metadata": {},
   "outputs": [
    {
     "data": {
      "text/plain": [
       "Agentype          Solved\n",
       "County police     Yes       0.679371\n",
       "                  No        0.320629\n",
       "Municipal police  Yes       0.687364\n",
       "                  No        0.312636\n",
       "Primary state LE  Yes       0.822609\n",
       "                  No        0.177391\n",
       "Regional police   Yes       0.780822\n",
       "                  No        0.219178\n",
       "Sheriff           Yes       0.791089\n",
       "                  No        0.208911\n",
       "Special police    Yes       0.708531\n",
       "                  No        0.291469\n",
       "Tribal            Yes       0.918182\n",
       "                  No        0.081818\n",
       "Name: Solved, dtype: float64"
      ]
     },
     "execution_count": 25,
     "metadata": {},
     "output_type": "execute_result"
    }
   ],
   "source": [
    "shr.groupby('Agentype').Solved.value_counts(normalize=True)"
   ]
  },
  {
   "cell_type": "markdown",
   "metadata": {},
   "source": [
    "### Dates"
   ]
  },
  {
   "cell_type": "markdown",
   "metadata": {},
   "source": [
    "#### Year"
   ]
  },
  {
   "cell_type": "code",
   "execution_count": 26,
   "metadata": {
    "scrolled": true
   },
   "outputs": [
    {
     "data": {
      "text/plain": [
       "1993    24274\n",
       "1992    23735\n",
       "1994    23183\n",
       "1980    23033\n",
       "1991    22617\n",
       "1979    21620\n",
       "1990    21203\n",
       "1981    21163\n",
       "1995    21112\n",
       "1982    20490\n",
       "1986    20088\n",
       "1989    19823\n",
       "1983    19617\n",
       "1978    19478\n",
       "1996    18949\n",
       "1977    18775\n",
       "1987    18748\n",
       "1988    18747\n",
       "1985    18351\n",
       "1984    18062\n",
       "1997    17766\n",
       "1976    17584\n",
       "2007    17268\n",
       "2006    17234\n",
       "2005    16803\n",
       "2003    16466\n",
       "2002    16234\n",
       "2004    16199\n",
       "1998    16045\n",
       "2009    15811\n",
       "2001    15776\n",
       "2015    15585\n",
       "2008    15564\n",
       "2010    15089\n",
       "2012    15006\n",
       "2011    14733\n",
       "2000    14661\n",
       "1999    14593\n",
       "2013    14436\n",
       "2014    14311\n",
       "Name: Year, dtype: int64"
      ]
     },
     "execution_count": 26,
     "metadata": {},
     "output_type": "execute_result"
    }
   ],
   "source": [
    "shr.Year.value_counts()"
   ]
  },
  {
   "cell_type": "code",
   "execution_count": 27,
   "metadata": {},
   "outputs": [
    {
     "data": {
      "text/plain": [
       "<matplotlib.axes._subplots.AxesSubplot at 0x115378150>"
      ]
     },
     "execution_count": 27,
     "metadata": {},
     "output_type": "execute_result"
    },
    {
     "data": {
      "image/png": "[encoded data removed]",
      "text/plain": [
       "<matplotlib.figure.Figure at 0x107f007d0>"
      ]
     },
     "metadata": {},
     "output_type": "display_data"
    }
   ],
   "source": [
    "shr.Year.value_counts().plot(\"bar\",figsize=(12,8), fontsize=15,title=\"Murders by Year\")"
   ]
  },
  {
   "cell_type": "code",
   "execution_count": 28,
   "metadata": {
    "scrolled": true
   },
   "outputs": [
    {
     "data": {
      "text/plain": [
       "1993    24274\n",
       "1992    23735\n",
       "1994    23183\n",
       "1980    23033\n",
       "1991    22617\n",
       "1979    21620\n",
       "1990    21203\n",
       "1981    21163\n",
       "1995    21112\n",
       "1982    20490\n",
       "Name: Year, dtype: int64"
      ]
     },
     "execution_count": 28,
     "metadata": {},
     "output_type": "execute_result"
    }
   ],
   "source": [
    "# \"Deadliest\" years\n",
    "shr.Year.value_counts()[0:10]"
   ]
  },
  {
   "cell_type": "code",
   "execution_count": 29,
   "metadata": {},
   "outputs": [
    {
     "data": {
      "text/plain": [
       "<matplotlib.axes._subplots.AxesSubplot at 0x107f00350>"
      ]
     },
     "execution_count": 29,
     "metadata": {},
     "output_type": "execute_result"
    },
    {
     "data": {
      "image/png": "[encoded data removed]",
      "text/plain": [
       "<matplotlib.figure.Figure at 0x10802d750>"
      ]
     },
     "metadata": {},
     "output_type": "display_data"
    }
   ],
   "source": [
    "shr.Year.value_counts()[0:10].plot(\"bar\",figsize=(12,6), fontsize=15,title=\"Ten Deadliest Years\")"
   ]
  },
  {
   "cell_type": "code",
   "execution_count": 30,
   "metadata": {
    "scrolled": true
   },
   "outputs": [
    {
     "data": {
      "text/plain": [
       "Year  Solved\n",
       "1976  Yes       13891\n",
       "      No         3693\n",
       "1977  Yes       14195\n",
       "      No         4580\n",
       "1978  Yes       14963\n",
       "      No         4515\n",
       "1979  Yes       15987\n",
       "      No         5633\n",
       "1980  Yes       16696\n",
       "      No         6337\n",
       "1981  Yes       15763\n",
       "      No         5400\n",
       "1982  Yes       15025\n",
       "      No         5465\n",
       "1983  Yes       14492\n",
       "      No         5125\n",
       "1984  Yes       13223\n",
       "      No         4839\n",
       "1985  Yes       13605\n",
       "      No         4746\n",
       "1986  Yes       14798\n",
       "      No         5290\n",
       "1987  Yes       13447\n",
       "      No         5301\n",
       "1988  Yes       13371\n",
       "      No         5376\n",
       "1989  Yes       14145\n",
       "      No         5678\n",
       "1990  Yes       14967\n",
       "      No         6236\n",
       "1991  Yes       15292\n",
       "      No         7325\n",
       "1992  Yes       15851\n",
       "      No         7884\n",
       "1993  Yes       16400\n",
       "      No         7874\n",
       "1994  Yes       15836\n",
       "      No         7347\n",
       "1995  Yes       14324\n",
       "      No         6788\n",
       "1996  Yes       13089\n",
       "      No         5860\n",
       "1997  Yes       12125\n",
       "      No         5641\n",
       "1998  Yes       11288\n",
       "      No         4757\n",
       "1999  Yes       10220\n",
       "      No         4373\n",
       "2000  Yes       10204\n",
       "      No         4457\n",
       "2001  Yes       11034\n",
       "      No         4742\n",
       "2002  Yes       11267\n",
       "      No         4967\n",
       "2003  Yes       11206\n",
       "      No         5260\n",
       "2004  Yes       11136\n",
       "      No         5063\n",
       "2005  Yes       11596\n",
       "      No         5207\n",
       "2006  Yes       11905\n",
       "      No         5329\n",
       "2007  Yes       11764\n",
       "      No         5504\n",
       "2008  Yes       10525\n",
       "      No         5039\n",
       "2009  Yes       11203\n",
       "      No         4608\n",
       "2010  Yes       10687\n",
       "      No         4402\n",
       "2011  Yes       10429\n",
       "      No         4304\n",
       "2012  Yes       10563\n",
       "      No         4443\n",
       "2013  Yes       10054\n",
       "      No         4382\n",
       "2014  Yes        9937\n",
       "      No         4374\n",
       "2015  Yes       10485\n",
       "      No         5100\n",
       "Name: Solved, dtype: int64"
      ]
     },
     "execution_count": 30,
     "metadata": {},
     "output_type": "execute_result"
    }
   ],
   "source": [
    "# Solved cases by year\n",
    "shr.groupby('Year').Solved.value_counts()"
   ]
  },
  {
   "cell_type": "code",
   "execution_count": 31,
   "metadata": {
    "scrolled": true
   },
   "outputs": [
    {
     "data": {
      "text/plain": [
       "Year  Solved\n",
       "1976  Yes       0.789980\n",
       "      No        0.210020\n",
       "1977  Yes       0.756059\n",
       "      No        0.243941\n",
       "1978  Yes       0.768200\n",
       "      No        0.231800\n",
       "1979  Yes       0.739454\n",
       "      No        0.260546\n",
       "1980  Yes       0.724873\n",
       "      No        0.275127\n",
       "1981  Yes       0.744838\n",
       "      No        0.255162\n",
       "1982  Yes       0.733285\n",
       "      No        0.266715\n",
       "1983  Yes       0.738747\n",
       "      No        0.261253\n",
       "1984  Yes       0.732089\n",
       "      No        0.267911\n",
       "1985  Yes       0.741376\n",
       "      No        0.258624\n",
       "1986  Yes       0.736659\n",
       "      No        0.263341\n",
       "1987  Yes       0.717250\n",
       "      No        0.282750\n",
       "1988  Yes       0.713234\n",
       "      No        0.286766\n",
       "1989  Yes       0.713565\n",
       "      No        0.286435\n",
       "1990  Yes       0.705891\n",
       "      No        0.294109\n",
       "1991  Yes       0.676129\n",
       "      No        0.323871\n",
       "1992  Yes       0.667832\n",
       "      No        0.332168\n",
       "1993  Yes       0.675620\n",
       "      No        0.324380\n",
       "1994  Yes       0.683087\n",
       "      No        0.316913\n",
       "1995  Yes       0.678477\n",
       "      No        0.321523\n",
       "1996  Yes       0.690749\n",
       "      No        0.309251\n",
       "1997  Yes       0.682483\n",
       "      No        0.317517\n",
       "1998  Yes       0.703521\n",
       "      No        0.296479\n",
       "1999  Yes       0.700336\n",
       "      No        0.299664\n",
       "2000  Yes       0.695996\n",
       "      No        0.304004\n",
       "2001  Yes       0.699417\n",
       "      No        0.300583\n",
       "2002  Yes       0.694037\n",
       "      No        0.305963\n",
       "2003  Yes       0.680554\n",
       "      No        0.319446\n",
       "2004  Yes       0.687450\n",
       "      No        0.312550\n",
       "2005  Yes       0.690115\n",
       "      No        0.309885\n",
       "2006  Yes       0.690786\n",
       "      No        0.309214\n",
       "2007  Yes       0.681260\n",
       "      No        0.318740\n",
       "2008  Yes       0.676240\n",
       "      No        0.323760\n",
       "2009  Yes       0.708557\n",
       "      No        0.291443\n",
       "2010  Yes       0.708264\n",
       "      No        0.291736\n",
       "2011  Yes       0.707867\n",
       "      No        0.292133\n",
       "2012  Yes       0.703918\n",
       "      No        0.296082\n",
       "2013  Yes       0.696453\n",
       "      No        0.303547\n",
       "2014  Yes       0.694361\n",
       "      No        0.305639\n",
       "2015  Yes       0.672762\n",
       "      No        0.327238\n",
       "Name: Solved, dtype: float64"
      ]
     },
     "execution_count": 31,
     "metadata": {},
     "output_type": "execute_result"
    }
   ],
   "source": [
    "# Percentage of solved cases by year\n",
    "shr.groupby('Year').Solved.value_counts(normalize=True)"
   ]
  },
  {
   "cell_type": "code",
   "execution_count": 32,
   "metadata": {},
   "outputs": [
    {
     "data": {
      "text/plain": [
       "<matplotlib.axes._subplots.AxesSubplot at 0x114dabf50>"
      ]
     },
     "execution_count": 32,
     "metadata": {},
     "output_type": "execute_result"
    },
    {
     "data": {
      "image/png": "[encoded data removed]",
      "text/plain": [
       "<matplotlib.figure.Figure at 0x114ed86d0>"
      ]
     },
     "metadata": {},
     "output_type": "display_data"
    }
   ],
   "source": [
    "shr.groupby('Year').Solved.value_counts().plot(\"kde\",figsize=(12,6), fontsize=15,title=\"Solved Cases by Year\")"
   ]
  },
  {
   "cell_type": "markdown",
   "metadata": {
    "collapsed": true
   },
   "source": [
    "#### Month"
   ]
  },
  {
   "cell_type": "code",
   "execution_count": 33,
   "metadata": {
    "scrolled": true
   },
   "outputs": [
    {
     "data": {
      "text/plain": [
       "July         66806\n",
       "August       66063\n",
       "December     63494\n",
       "September    61985\n",
       "October      61333\n",
       "May          61072\n",
       "June         61070\n",
       "January      60337\n",
       "March        58960\n",
       "April        58346\n",
       "November     57648\n",
       "February     53118\n",
       "Name: Month, dtype: int64"
      ]
     },
     "execution_count": 33,
     "metadata": {},
     "output_type": "execute_result"
    }
   ],
   "source": [
    "shr.Month.value_counts()"
   ]
  },
  {
   "cell_type": "code",
   "execution_count": 34,
   "metadata": {},
   "outputs": [
    {
     "data": {
      "text/plain": [
       "<matplotlib.axes._subplots.AxesSubplot at 0x114e890d0>"
      ]
     },
     "execution_count": 34,
     "metadata": {},
     "output_type": "execute_result"
    },
    {
     "data": {
      "image/png": "[encoded data removed]",
      "text/plain": [
       "<matplotlib.figure.Figure at 0x114ee1910>"
      ]
     },
     "metadata": {},
     "output_type": "display_data"
    }
   ],
   "source": [
    "shr.Month.value_counts().plot(\"bar\",figsize=(12,6), fontsize=15,title=\"Murders by Month of the Year\")"
   ]
  },
  {
   "cell_type": "code",
   "execution_count": 35,
   "metadata": {
    "scrolled": true
   },
   "outputs": [
    {
     "data": {
      "text/plain": [
       "Month      Solved\n",
       "April      Yes       42027\n",
       "           No        16319\n",
       "August     Yes       46817\n",
       "           No        19246\n",
       "December   Yes       43208\n",
       "           No        20286\n",
       "February   Yes       38623\n",
       "           No        14495\n",
       "January    Yes       43662\n",
       "           No        16675\n",
       "July       Yes       47597\n",
       "           No        19209\n",
       "June       Yes       43333\n",
       "           No        17737\n",
       "March      Yes       42289\n",
       "           No        16671\n",
       "May        Yes       43726\n",
       "           No        17346\n",
       "November   Yes       39383\n",
       "           No        18265\n",
       "October    Yes       42674\n",
       "           No        18659\n",
       "September  Yes       43649\n",
       "           No        18336\n",
       "Name: Solved, dtype: int64"
      ]
     },
     "execution_count": 35,
     "metadata": {},
     "output_type": "execute_result"
    }
   ],
   "source": [
    "# Solved cases by month\n",
    "shr.groupby('Month').Solved.value_counts()"
   ]
  },
  {
   "cell_type": "code",
   "execution_count": 36,
   "metadata": {},
   "outputs": [
    {
     "data": {
      "text/plain": [
       "Month      Solved\n",
       "April      Yes       0.720306\n",
       "           No        0.279694\n",
       "August     Yes       0.708672\n",
       "           No        0.291328\n",
       "December   Yes       0.680505\n",
       "           No        0.319495\n",
       "February   Yes       0.727117\n",
       "           No        0.272883\n",
       "January    Yes       0.723636\n",
       "           No        0.276364\n",
       "July       Yes       0.712466\n",
       "           No        0.287534\n",
       "June       Yes       0.709563\n",
       "           No        0.290437\n",
       "March      Yes       0.717249\n",
       "           No        0.282751\n",
       "May        Yes       0.715975\n",
       "           No        0.284025\n",
       "November   Yes       0.683163\n",
       "           No        0.316837\n",
       "October    Yes       0.695776\n",
       "           No        0.304224\n",
       "September  Yes       0.704186\n",
       "           No        0.295814\n",
       "Name: Solved, dtype: float64"
      ]
     },
     "execution_count": 36,
     "metadata": {},
     "output_type": "execute_result"
    }
   ],
   "source": [
    "# Percentage of solved cases by month\n",
    "shr.groupby('Month').Solved.value_counts(normalize=True)"
   ]
  },
  {
   "cell_type": "code",
   "execution_count": 37,
   "metadata": {},
   "outputs": [
    {
     "data": {
      "text/plain": [
       "<matplotlib.axes._subplots.AxesSubplot at 0x1160a1e10>"
      ]
     },
     "execution_count": 37,
     "metadata": {},
     "output_type": "execute_result"
    },
    {
     "data": {
      "image/png": "[encoded data removed]",
      "text/plain": [
       "<matplotlib.figure.Figure at 0x11541b110>"
      ]
     },
     "metadata": {},
     "output_type": "display_data"
    }
   ],
   "source": [
    "shr.groupby('Month').Solved.value_counts().plot(\"bar\",figsize=(12,6), fontsize=15,title=\"Solved Cases by Month of the Year\")"
   ]
  },
  {
   "cell_type": "code",
   "execution_count": 38,
   "metadata": {},
   "outputs": [
    {
     "data": {
      "text/plain": [
       "<matplotlib.axes._subplots.AxesSubplot at 0x115e7b750>"
      ]
     },
     "execution_count": 38,
     "metadata": {},
     "output_type": "execute_result"
    },
    {
     "data": {
      "image/png": "[encoded data removed]",
      "text/plain": [
       "<matplotlib.figure.Figure at 0x115e8e3d0>"
      ]
     },
     "metadata": {},
     "output_type": "display_data"
    }
   ],
   "source": [
    "shr.groupby('Month').Solved.value_counts().plot(\"kde\",figsize=(12,6), fontsize=15,title=\"Solved Cases by Month of the Year\")"
   ]
  },
  {
   "cell_type": "markdown",
   "metadata": {},
   "source": [
    "### Location"
   ]
  },
  {
   "cell_type": "markdown",
   "metadata": {},
   "source": [
    "#### State\n"
   ]
  },
  {
   "cell_type": "code",
   "execution_count": 39,
   "metadata": {
    "scrolled": true
   },
   "outputs": [
    {
     "data": {
      "text/plain": [
       "California              112223\n",
       "Texas                    70745\n",
       "New York                 56940\n",
       "Florida                  42131\n",
       "Michigan                 32669\n",
       "Illinois                 31646\n",
       "Pennsylvania             27801\n",
       "Georgia                  23885\n",
       "North Carolina           23260\n",
       "Ohio                     22629\n",
       "Louisiana                22549\n",
       "Maryland                 19128\n",
       "Virginia                 17772\n",
       "Missouri                 17177\n",
       "Tennessee                16870\n",
       "New Jersey               16174\n",
       "Arizona                  14068\n",
       "South Carolina           13541\n",
       "Alabama                  13360\n",
       "Indiana                  13058\n",
       "Oklahoma                 10039\n",
       "Washington                8640\n",
       "Kentucky                  8172\n",
       "District of Columbia      8055\n",
       "Arkansas                  7842\n",
       "Mississippi               7512\n",
       "Colorado                  7483\n",
       "Wisconsin                 7023\n",
       "Massachusetts             6907\n",
       "Nevada                    6117\n",
       "Connecticut               5441\n",
       "New Mexico                4779\n",
       "Oregon                    4722\n",
       "Minnesota                 4500\n",
       "Kansas                    3701\n",
       "West Virginia             3587\n",
       "Utah                      2251\n",
       "Iowa                      2062\n",
       "Alaska                    1873\n",
       "Hawaii                    1600\n",
       "Nebraska                  1579\n",
       "Delaware                  1388\n",
       "Idaho                     1380\n",
       "Rhodes Island             1363\n",
       "Maine                     1013\n",
       "Montana                    760\n",
       "Wyoming                    751\n",
       "New Hampshire              745\n",
       "South Dakota               512\n",
       "Vermont                    454\n",
       "North Dakota               355\n",
       "Name: State, dtype: int64"
      ]
     },
     "execution_count": 39,
     "metadata": {},
     "output_type": "execute_result"
    }
   ],
   "source": [
    "shr.State.value_counts()"
   ]
  },
  {
   "cell_type": "markdown",
   "metadata": {},
   "source": [
    "A **very important** thing to remember is the population size in each state - it's really not surprising that the 3 states with the highest murder rates are also the three most populated states... "
   ]
  },
  {
   "cell_type": "code",
   "execution_count": 40,
   "metadata": {},
   "outputs": [
    {
     "data": {
      "text/plain": [
       "<matplotlib.axes._subplots.AxesSubplot at 0x11637bcd0>"
      ]
     },
     "execution_count": 40,
     "metadata": {},
     "output_type": "execute_result"
    },
    {
     "data": {
      "image/png": "[encoded data removed]",
      "text/plain": [
       "<matplotlib.figure.Figure at 0x1153a7990>"
      ]
     },
     "metadata": {},
     "output_type": "display_data"
    }
   ],
   "source": [
    "shr.State.value_counts().plot(\"bar\",figsize=(12,6), fontsize=15,title=\"Murder Count in States\")"
   ]
  },
  {
   "cell_type": "markdown",
   "metadata": {},
   "source": [
    "#### Metropolitan Statistical Area"
   ]
  },
  {
   "cell_type": "code",
   "execution_count": 41,
   "metadata": {},
   "outputs": [
    {
     "data": {
      "text/plain": [
       "New York-New Jersey-Long Island, NY-NJ          59804\n",
       "Los Angeles-Long Beach, CA                      54190\n",
       "Chicago-Naperville-Joliet, IL-IN-WI             31826\n",
       "Detroit-Warren-Livonia, MI                      24005\n",
       "Houston-Sugar Land-Baytown, TX                  21856\n",
       "Philadelphia-Camden-Wilmington, PA-NJ-DE        20623\n",
       "Dallas-Fort Worth-Arlington, TX                 19028\n",
       "Miami-Fort Lauderdale, FL                       17368\n",
       "Washington-Arlington-Alexandria, DC-VA-MD-WV    15167\n",
       "San Francisco-Oakland-Fremont, CA               14044\n",
       "Atlanta-Sandy Springs-Marietta, GA              13406\n",
       "Baltimore-Towson, MD                            12883\n",
       "New Orleans-Metairie-Kenner, LA                 11485\n",
       "Riverside-San Bernardino, CA                    10537\n",
       "St. Louis, MO-IL                                10486\n",
       "Phoenix-Mesa-Scottsdale, AZ                      9774\n",
       "Rural North Carolina                             7326\n",
       "Rural Texas                                      7003\n",
       "Memphis, TN-MS-AR                                6844\n",
       "San Antonio, TX                                  6798\n",
       "Name: MSA, dtype: int64"
      ]
     },
     "execution_count": 41,
     "metadata": {},
     "output_type": "execute_result"
    }
   ],
   "source": [
    "shr.MSA.value_counts()[0:20]"
   ]
  },
  {
   "cell_type": "markdown",
   "metadata": {},
   "source": [
    "Again, need to remember population size... "
   ]
  },
  {
   "cell_type": "code",
   "execution_count": 42,
   "metadata": {},
   "outputs": [
    {
     "data": {
      "text/plain": [
       "<matplotlib.axes._subplots.AxesSubplot at 0x116456c90>"
      ]
     },
     "execution_count": 42,
     "metadata": {},
     "output_type": "execute_result"
    },
    {
     "data": {
      "image/png": "[encoded data removed]",
      "text/plain": [
       "<matplotlib.figure.Figure at 0x116d03fd0>"
      ]
     },
     "metadata": {},
     "output_type": "display_data"
    }
   ],
   "source": [
    "shr.MSA.value_counts()[0:20].plot(\"bar\",figsize=(12,6), fontsize=15,title=\"Murders Count in Metropolitan Areas\")"
   ]
  },
  {
   "cell_type": "code",
   "execution_count": 43,
   "metadata": {},
   "outputs": [
    {
     "data": {
      "text/plain": [
       "<matplotlib.axes._subplots.AxesSubplot at 0x116d03e90>"
      ]
     },
     "execution_count": 43,
     "metadata": {},
     "output_type": "execute_result"
    },
    {
     "data": {
      "image/png": "[encoded data removed]",
      "text/plain": [
       "<matplotlib.figure.Figure at 0x116398110>"
      ]
     },
     "metadata": {},
     "output_type": "display_data"
    }
   ],
   "source": [
    "# Ten deadliest/most murderous MSA's \n",
    "shr.MSA.value_counts()[0:10].plot(\"bar\",figsize=(12,6), fontsize=15,title=\"Ten Highest Metro Areas in Murder Counts\")"
   ]
  },
  {
   "cell_type": "code",
   "execution_count": 44,
   "metadata": {
    "scrolled": true
   },
   "outputs": [
    {
     "data": {
      "text/plain": [
       "State                 Solved\n",
       "Alabama               Yes       10778\n",
       "                      No         2582\n",
       "Alaska                Yes        1522\n",
       "                      No          351\n",
       "Arizona               Yes       10136\n",
       "                      No         3932\n",
       "Arkansas              Yes        6670\n",
       "                      No         1172\n",
       "California            Yes       71826\n",
       "                      No        40397\n",
       "Colorado              Yes        5950\n",
       "                      No         1533\n",
       "Connecticut           Yes        3679\n",
       "                      No         1762\n",
       "Delaware              Yes        1119\n",
       "                      No          269\n",
       "District of Columbia  No         5043\n",
       "                      Yes        3012\n",
       "Florida               Yes       30312\n",
       "                      No        11819\n",
       "Georgia               Yes       17521\n",
       "                      No         6364\n",
       "Hawaii                Yes        1225\n",
       "                      No          375\n",
       "Idaho                 Yes        1242\n",
       "                      No          138\n",
       "Illinois              Yes       20135\n",
       "                      No        11511\n",
       "Indiana               Yes        8926\n",
       "                      No         4132\n",
       "Iowa                  Yes        1773\n",
       "                      No          289\n",
       "Kansas                Yes        2985\n",
       "                      No          716\n",
       "Kentucky              Yes        6417\n",
       "                      No         1755\n",
       "Louisiana             Yes       15913\n",
       "                      No         6636\n",
       "Maine                 Yes         900\n",
       "                      No          113\n",
       "Maryland              Yes       11509\n",
       "                      No         7619\n",
       "Massachusetts         Yes        4448\n",
       "                      No         2459\n",
       "Michigan              Yes       22062\n",
       "                      No        10607\n",
       "Minnesota             Yes        3694\n",
       "                      No          806\n",
       "Mississippi           Yes        6368\n",
       "                      No         1144\n",
       "Missouri              Yes       10979\n",
       "                      No         6198\n",
       "Montana               Yes         694\n",
       "                      No           66\n",
       "Nebraska              Yes        1316\n",
       "                      No          263\n",
       "Nevada                Yes        4218\n",
       "                      No         1899\n",
       "New Hampshire         Yes         625\n",
       "                      No          120\n",
       "New Jersey            Yes       10467\n",
       "                      No         5707\n",
       "New Mexico            Yes        3563\n",
       "                      No         1216\n",
       "New York              Yes       30986\n",
       "                      No        25954\n",
       "North Carolina        Yes       18827\n",
       "                      No         4433\n",
       "North Dakota          Yes         329\n",
       "                      No           26\n",
       "Ohio                  Yes       16408\n",
       "                      No         6221\n",
       "Oklahoma              Yes        8370\n",
       "                      No         1669\n",
       "Oregon                Yes        3868\n",
       "                      No          854\n",
       "Pennsylvania          Yes       21104\n",
       "                      No         6697\n",
       "Rhodes Island         Yes         927\n",
       "                      No          436\n",
       "South Carolina        Yes       12248\n",
       "                      No         1293\n",
       "South Dakota          Yes         469\n",
       "                      No           43\n",
       "Tennessee             Yes       14220\n",
       "                      No         2650\n",
       "Texas                 Yes       54304\n",
       "                      No        16441\n",
       "Utah                  Yes        1924\n",
       "                      No          327\n",
       "Vermont               Yes         402\n",
       "                      No           52\n",
       "Virginia              Yes       14128\n",
       "                      No         3644\n",
       "Washington            Yes        6746\n",
       "                      No         1894\n",
       "West Virginia         Yes        3231\n",
       "                      No          356\n",
       "Wisconsin             Yes        5839\n",
       "                      No         1184\n",
       "Wyoming               Yes         674\n",
       "                      No           77\n",
       "Name: Solved, dtype: int64"
      ]
     },
     "execution_count": 44,
     "metadata": {},
     "output_type": "execute_result"
    }
   ],
   "source": [
    "# Solved cases by state\n",
    "shr.groupby('State').Solved.value_counts()"
   ]
  },
  {
   "cell_type": "code",
   "execution_count": 45,
   "metadata": {},
   "outputs": [
    {
     "data": {
      "text/plain": [
       "MSA                                           Solved\n",
       "Abilene, TX                                   Yes         304\n",
       "                                              No           50\n",
       "Akron, OH                                     Yes         826\n",
       "                                              No          205\n",
       "Albany, GA                                    Yes         531\n",
       "                                              No           84\n",
       "Albany-Schenectady-Troy, NY                   Yes         627\n",
       "                                              No          177\n",
       "Albuquerque, NM                               Yes        1621\n",
       "                                              No          684\n",
       "Alexandria, LA                                Yes         496\n",
       "                                              No           68\n",
       "Allentown-Bethlehem-Easton, PA-NJ             Yes         595\n",
       "                                              No          260\n",
       "Altoona, PA                                   Yes          96\n",
       "                                              No           21\n",
       "Amarillo, TX                                  Yes         595\n",
       "                                              No          109\n",
       "Ames, IA                                      Yes          24\n",
       "                                              No            1\n",
       "Anchorage, AK                                 Yes         625\n",
       "                                              No          171\n",
       "Anderson, IN                                  Yes         108\n",
       "                                              No           27\n",
       "Anderson, SC                                  Yes         534\n",
       "                                              No           54\n",
       "Ann Arbor, MI                                 Yes         328\n",
       "                                              No           90\n",
       "Anniston-Oxford, AL                           Yes         328\n",
       "                                              No           64\n",
       "Appleton, WI                                  Yes          68\n",
       "                                              No            6\n",
       "Asheville, NC                                 Yes         578\n",
       "                                              No           89\n",
       "Athens-Clarke County, GA                      Yes         216\n",
       "                                              No           60\n",
       "Atlanta-Sandy Springs-Marietta, GA            Yes        8876\n",
       "                                              No         4530\n",
       "Atlantic City, NJ                             Yes         465\n",
       "                                              No          269\n",
       "Auburn-Opelika, AL                            Yes         181\n",
       "                                              No           36\n",
       "Augusta-Richmond County, GA-SC                Yes        1369\n",
       "                                              No          345\n",
       "Austin-Round Rock, TX                         Yes        1878\n",
       "                                              No          308\n",
       "Bakersfield, CA                               Yes        1713\n",
       "                                              No          830\n",
       "Baltimore-Towson, MD                          Yes        7468\n",
       "                                              No         5415\n",
       "Bangor, ME                                    Yes         124\n",
       "                                              No           13\n",
       "Barnstable Town, MA                           Yes         107\n",
       "                                              No           17\n",
       "Baton Rouge, LA                               Yes        2579\n",
       "                                              No          784\n",
       "Battle Creek, MI                              Yes         278\n",
       "                                              No           88\n",
       "Bay City, MI                                  Yes          80\n",
       "                                              No           10\n",
       "Beaumont-Port Arthur, TX                      Yes        1142\n",
       "                                              No          224\n",
       "Bellingham, WA                                Yes         127\n",
       "                                              No           21\n",
       "Bend, OR                                      Yes         100\n",
       "                                              No            5\n",
       "Billings, MT                                  Yes         142\n",
       "                                              No           25\n",
       "Binghamton, NY                                Yes         194\n",
       "                                              No           18\n",
       "Birmingham-Hoover, AL                         Yes        3293\n",
       "                                              No         1106\n",
       "Bismarck, ND                                  Yes          60\n",
       "                                              No            3\n",
       "Blacksburg-Christiansburg, VA                 Yes         236\n",
       "                                              No           14\n",
       "Bloomington, IN                               Yes         116\n",
       "                                              No           14\n",
       "Bloomington-Normal, IL                        Yes          64\n",
       "                                              No           12\n",
       "Boise City-Nampa, ID                          Yes         430\n",
       "                                              No           55\n",
       "Boston-Cambridge-Quincy, MA-NH                Yes        3001\n",
       "                                              No         2118\n",
       "Boulder, CO                                   Yes         153\n",
       "                                              No           22\n",
       "Bowling Green, KY                             Yes         141\n",
       "                                              No           41\n",
       "Bremerton-Silverdale, WA                      Yes         154\n",
       "                                              No           36\n",
       "Bridgeport-Stamford-Norwalk, CT               Yes         974\n",
       "                                              No          745\n",
       "Brownsville-Harlingen, TX                     Yes         524\n",
       "                                              No          171\n",
       "Brunswick, GA                                 Yes         240\n",
       "                                              No           35\n",
       "Buffalo-Niagara Falls, NY                     Yes        1238\n",
       "                                              No         1099\n",
       "Burlington, NC                                Yes         282\n",
       "                                              No           37\n",
       "Burlington-South Burlington, VT               Yes          87\n",
       "                                              No            9\n",
       "Canton-Massillon, OH                          Yes         446\n",
       "                                              No          103\n",
       "Cape Coral-Fort Myers, FL                     Yes         816\n",
       "                                              No          277\n",
       "Carson City, NV                               Yes          30\n",
       "                                              No            3\n",
       "Casper, WY                                    Yes          97\n",
       "                                              No           12\n",
       "Cedar Rapids, IA                              Yes         108\n",
       "                                              No           24\n",
       "Champaign-Urbana, IL                          Yes         136\n",
       "                                              No           17\n",
       "Charleston, WV                                Yes         643\n",
       "                                              No          101\n",
       "Charleston-North Charleston, SC               Yes        1641\n",
       "                                              No          168\n",
       "Charlotte-Gastonia-Concord, NC-SC             Yes        3611\n",
       "                                              No         1029\n",
       "Charlottesville, VA                           Yes         298\n",
       "                                              No           26\n",
       "Chattanooga, TN-GA                            Yes         977\n",
       "                                              No          172\n",
       "Cheyenne, WY                                  Yes          99\n",
       "                                              No           11\n",
       "Chicago-Naperville-Joliet, IL-IN-WI           Yes       19422\n",
       "                                              No        12404\n",
       "Chico, CA                                     Yes         290\n",
       "                                              No           76\n",
       "Cincinnati-Middletown, OH-KY-IN               Yes        2556\n",
       "                                              No          900\n",
       "Clarksville, TN-KY                            Yes         422\n",
       "                                              No           77\n",
       "Cleveland, TN                                 Yes         144\n",
       "                                              No           22\n",
       "Cleveland-Elyria-Mentor, OH                   Yes        4711\n",
       "                                              No         1773\n",
       "Coeur d Alene, ID                             Yes          99\n",
       "                                              No            9\n",
       "College Station-Bryan, TX                     Yes         322\n",
       "                                              No           40\n",
       "Colorado Springs, CO                          Yes         810\n",
       "                                              No          139\n",
       "Columbia, MO                                  Yes         170\n",
       "                                              No           26\n",
       "Columbia, SC                                  Yes        1950\n",
       "                                              No          192\n",
       "Columbus, GA-AL                               Yes         850\n",
       "                                              No          182\n",
       "Columbus, IN                                  Yes          35\n",
       "                                              No           13\n",
       "Columbus, OH                                  Yes        2731\n",
       "                                              No         1328\n",
       "Corpus Christi, TX                            Yes        1132\n",
       "                                              No          194\n",
       "Corvallis, OR                                 Yes          41\n",
       "                                              No            5\n",
       "Cumberland, MD-WV                             Yes          93\n",
       "                                              No           13\n",
       "Dallas-Fort Worth-Arlington, TX               Yes       12977\n",
       "                                              No         6051\n",
       "Dalton, GA                                    Yes         173\n",
       "                                              No           22\n",
       "Danville, IL                                  Yes          45\n",
       "                                              No           10\n",
       "Danville, VA                                  Yes         324\n",
       "                                              No           78\n",
       "Davenport-Moline-Rock Island, IA-IL           Yes         279\n",
       "                                              No           30\n",
       "Dayton, OH                                    Yes        1666\n",
       "                                              No          603\n",
       "Decatur, AL                                   Yes         207\n",
       "                                              No           43\n",
       "Decatur, IL                                   Yes          99\n",
       "                                              No           13\n",
       "Deltona-Daytona Beach-Ormond Beach, FL        Yes         666\n",
       "                                              No          181\n",
       "Denver-Aurora, CO                             Yes        3581\n",
       "                                              No         1133\n",
       "Des Moines, IA                                Yes         501\n",
       "                                              No          102\n",
       "Detroit-Warren-Livonia, MI                    Yes       15631\n",
       "                                              No         8374\n",
       "Dothan, AL                                    Yes         258\n",
       "                                              No           51\n",
       "Dover, DE                                     Yes         172\n",
       "                                              No           29\n",
       "Dubuque, IA                                   Yes          30\n",
       "                                              No            4\n",
       "Duluth, MN-WI                                 Yes         188\n",
       "                                              No           25\n",
       "Durham, NC                                    Yes        1127\n",
       "                                              No          313\n",
       "Eau Claire, WI                                Yes          64\n",
       "                                              No            7\n",
       "El Centro, CA                                 Yes         219\n",
       "                                              No           68\n",
       "El Paso, TX                                   Yes        1103\n",
       "                                              No          218\n",
       "Elizabethtown, KY                             Yes         122\n",
       "                                              No           30\n",
       "Elkhart-Goshen, IN                            Yes         184\n",
       "                                              No           72\n",
       "Elmira, NY                                    Yes          79\n",
       "                                              No           11\n",
       "Erie, PA                                      Yes         256\n",
       "                                              No           66\n",
       "Eugene-Springfield, OR                        Yes         286\n",
       "                                              No           53\n",
       "Evansville, IN-KY                             Yes         357\n",
       "                                              No           68\n",
       "Fairbanks, AK                                 Yes          91\n",
       "                                              No           28\n",
       "Fargo, ND-MN                                  Yes          69\n",
       "                                              No           12\n",
       "Farmington, NM                                Yes         197\n",
       "                                              No           37\n",
       "Fayetteville, NC                              Yes        1054\n",
       "                                              No          373\n",
       "Fayetteville-Springdale-Rogers, AR-MO         Yes         334\n",
       "                                              No           33\n",
       "Flagstaff, AZ                                 Yes         148\n",
       "                                              No           38\n",
       "Flint, MI                                     Yes        1281\n",
       "                                              No          830\n",
       "Florence, SC                                  Yes         684\n",
       "                                              No           77\n",
       "Florence-Muscle Shoals, AL                    Yes         199\n",
       "                                              No           32\n",
       "Fond du Lac, WI                               Yes          43\n",
       "                                              No            3\n",
       "Fort Collins-Loveland, CO                     Yes         167\n",
       "                                              No           18\n",
       "Fort Smith, AR-OK                             Yes         456\n",
       "                                              No           65\n",
       "Fort Walton Beach-Destin, FL                  Yes         156\n",
       "                                              No           39\n",
       "Fort Wayne, IN                                Yes         648\n",
       "                                              No          294\n",
       "Fresno, CA                                    Yes        2084\n",
       "                                              No         1135\n",
       "Gadsden, AL                                   Yes         242\n",
       "                                              No           54\n",
       "Gainesville, FL                               Yes         340\n",
       "                                              No           80\n",
       "Gainesville, GA                               Yes         177\n",
       "                                              No           36\n",
       "Glens Falls, NY                               Yes          68\n",
       "                                              No           10\n",
       "Goldsboro, NC                                 Yes         364\n",
       "                                              No          104\n",
       "Grand Forks, ND-MN                            Yes          56\n",
       "                                              No            5\n",
       "Grand Junction, CO                            Yes         135\n",
       "                                              No           27\n",
       "Grand Rapids-Wyoming, MI                      Yes         780\n",
       "                                              No          250\n",
       "Great Falls, MT                               Yes          83\n",
       "                                              No            4\n",
       "Greeley, CO                                   Yes         216\n",
       "                                              No           49\n",
       "Green Bay, WI                                 Yes         157\n",
       "                                              No           22\n",
       "Greensboro-High Point, NC                     Yes        1473\n",
       "                                              No          426\n",
       "Greenville, NC                                Yes         365\n",
       "                                              No           64\n",
       "Greenville, SC                                Yes        1458\n",
       "                                              No          130\n",
       "Gulfport-Biloxi, MS                           Yes         482\n",
       "                                              No           97\n",
       "Hagerstown-Martinsburg, MD-WV                 Yes         273\n",
       "                                              No           45\n",
       "Hanford-Corcoran, CA                          Yes         190\n",
       "                                              No           30\n",
       "Harrisburg-Carlisle, PA                       Yes         597\n",
       "                                              No          191\n",
       "Harrisonburg, VA                              Yes         103\n",
       "                                              No            6\n",
       "Hartford, CT                                  Yes        1197\n",
       "                                              No          534\n",
       "Hattiesburg, MS                               Yes         228\n",
       "                                              No           29\n",
       "Hickory-Lenoir-Morganton, NC                  Yes         728\n",
       "                                              No          125\n",
       "Hinesville-Fort Stewart, GA                   Yes         121\n",
       "                                              No           14\n",
       "Holland-Grand Haven, MI                       Yes          68\n",
       "                                              No           25\n",
       "Honolulu, HI                                  Yes         880\n",
       "                                              No          285\n",
       "Hot Springs, AR                               Yes         222\n",
       "                                              No           44\n",
       "Houma-Bayou Cane-Thibodaux, LA                Yes         440\n",
       "                                              No           59\n",
       "Houston-Sugar Land-Baytown, TX                Yes       17308\n",
       "                                              No         4548\n",
       "Huntington-Ashland, WV-KY-OH                  Yes         374\n",
       "                                              No           71\n",
       "Huntsville, AL                                Yes         609\n",
       "                                              No          103\n",
       "Idaho Falls, ID                               Yes          91\n",
       "                                              No            8\n",
       "Indianapolis, IN                              Yes        3255\n",
       "                                              No         1354\n",
       "Iowa City, IA                                 Yes          60\n",
       "                                              No            7\n",
       "Ithaca, NY                                    Yes          50\n",
       "                                              No           12\n",
       "Jackson, MI                                   Yes         235\n",
       "                                              No           67\n",
       "Jackson, MS                                   Yes        1970\n",
       "                                              No          575\n",
       "Jackson, TN                                   Yes         339\n",
       "                                              No           70\n",
       "Jacksonville, FL                              Yes        2840\n",
       "                                              No         1435\n",
       "Jacksonville, NC                              Yes         228\n",
       "                                              No           41\n",
       "Janesville, WI                                Yes         117\n",
       "                                              No           25\n",
       "Jefferson City, MO                            Yes         111\n",
       "                                              No           18\n",
       "Johnson City, TN                              Yes         245\n",
       "                                              No           11\n",
       "Johnstown, PA                                 Yes         144\n",
       "                                              No           32\n",
       "Jonesboro, AR                                 Yes         190\n",
       "                                              No           17\n",
       "Joplin, MO                                    Yes         171\n",
       "                                              No           40\n",
       "Kalamazoo-Portage, MI                         Yes         393\n",
       "                                              No           83\n",
       "Kankakee-Bradley, IL                          Yes         111\n",
       "                                              No           46\n",
       "Kansas City, MO-KS                            Yes        4370\n",
       "                                              No         1959\n",
       "Kennewick-Richland-Pasco, WA                  Yes         264\n",
       "                                              No           40\n",
       "Killeen-Temple-Fort Hood, TX                  Yes         566\n",
       "                                              No          177\n",
       "Kingsport-Bristol-Bristol, TN-VA              Yes         407\n",
       "                                              No           27\n",
       "Kingston, NY                                  Yes         150\n",
       "                                              No           23\n",
       "Knoxville, TN                                 Yes        1183\n",
       "                                              No          247\n",
       "Kokomo, IN                                    Yes         106\n",
       "                                              No           30\n",
       "La Crosse, WI-MN                              Yes          55\n",
       "                                              No            9\n",
       "Lafayette, IN                                 Yes         121\n",
       "                                              No           12\n",
       "Lafayette, LA                                 Yes         527\n",
       "                                              No           94\n",
       "Lake Charles, LA                              Yes         479\n",
       "                                              No           60\n",
       "Lakeland, FL                                  Yes         914\n",
       "                                              No          264\n",
       "Lancaster, PA                                 Yes         324\n",
       "                                              No           78\n",
       "Lansing-East Lansing, MI                      Yes         478\n",
       "                                              No          144\n",
       "Laredo, TX                                    Yes         405\n",
       "                                              No          159\n",
       "Las Cruces, NM                                Yes         211\n",
       "                                              No           52\n",
       "Las Vegas-Paradise, NV                        Yes        3218\n",
       "                                              No         1727\n",
       "Lawrence, KS                                  Yes          60\n",
       "                                              No            7\n",
       "Lawton, OK                                    Yes         307\n",
       "                                              No           54\n",
       "Lebanon, PA                                   Yes          95\n",
       "                                              No           19\n",
       "Lewiston, ID-WA                               Yes          63\n",
       "                                              No            2\n",
       "Lewiston-Auburn, ME                           Yes          84\n",
       "                                              No            9\n",
       "Lexington-Fayette, KY                         Yes         621\n",
       "                                              No          171\n",
       "Lima, OH                                      Yes         179\n",
       "                                              No           40\n",
       "Lincoln, NE                                   Yes         203\n",
       "                                              No           22\n",
       "Little Rock-North Little Rock, AR             Yes        2130\n",
       "                                              No          537\n",
       "Logan, UT-ID                                  Yes          30\n",
       "                                              No            2\n",
       "Longview, TX                                  Yes         667\n",
       "                                              No          122\n",
       "Longview, WA                                  Yes          99\n",
       "                                              No           16\n",
       "Los Angeles-Long Beach, CA                    Yes       33040\n",
       "                                              No        21150\n",
       "Louisville, KY-IN                             Yes        2036\n",
       "                                              No          768\n",
       "Lubbock, TX                                   Yes         722\n",
       "                                              No          141\n",
       "Lynchburg, VA                                 Yes         451\n",
       "                                              No           43\n",
       "Macon, GA                                     Yes         789\n",
       "                                              No          163\n",
       "Madera, CA                                    Yes         231\n",
       "                                              No          124\n",
       "Madison, WI                                   Yes         302\n",
       "                                              No           40\n",
       "Manchester-Nashua, NH                         Yes         220\n",
       "                                              No           40\n",
       "Mansfield, OH                                 Yes         134\n",
       "                                              No           27\n",
       "McAllen-Edinburg-Mission, TX                  Yes         904\n",
       "                                              No          333\n",
       "Medford, OR                                   Yes         182\n",
       "                                              No           19\n",
       "Memphis, TN-MS-AR                             Yes        5811\n",
       "                                              No         1033\n",
       "Merced, CA                                    Yes         418\n",
       "                                              No          198\n",
       "Miami-Fort Lauderdale, FL                     Yes       11278\n",
       "                                              No         6090\n",
       "Michigan City-La Porte, IN                    Yes         172\n",
       "                                              No           35\n",
       "Midland, TX                                   Yes         256\n",
       "                                              No           15\n",
       "Milwaukee-Waukesha-West Allis, WI             Yes        3523\n",
       "                                              No          866\n",
       "Minneapolis-St. Paul-Bloomington, MN-WI       Yes        2694\n",
       "                                              No          716\n",
       "Missoula, MT                                  Yes          62\n",
       "                                              No            5\n",
       "Mobile, AL                                    Yes        1521\n",
       "                                              No          424\n",
       "Modesto, CA                                   Yes         898\n",
       "                                              No          255\n",
       "Monroe, LA                                    Yes         440\n",
       "                                              No           68\n",
       "Monroe, MI                                    Yes         132\n",
       "                                              No           34\n",
       "Montgomery, AL                                Yes        1107\n",
       "                                              No          259\n",
       "Morgantown, WV                                Yes          94\n",
       "                                              No           13\n",
       "Morristown, TN                                Yes         144\n",
       "                                              No           21\n",
       "Mount Vernon-Anacortes, WA                    Yes         103\n",
       "                                              No           16\n",
       "Muncie, IN                                    Yes         129\n",
       "                                              No           32\n",
       "Muskegon-Norton Shores, MI                    Yes         238\n",
       "                                              No           42\n",
       "Myrtle Beach-Conway, SC                       Yes         638\n",
       "                                              No           79\n",
       "Napa, CA                                      Yes         104\n",
       "                                              No           34\n",
       "Naples-Marco Island, FL                       Yes         314\n",
       "                                              No          112\n",
       "Nashville-Davidson-Murfreesboro, TN           Yes        3242\n",
       "                                              No          819\n",
       "New Haven-Milford, CT                         Yes        1282\n",
       "                                              No          437\n",
       "New Orleans-Metairie-Kenner, LA               Yes        6679\n",
       "                                              No         4806\n",
       "New York-New Jersey-Long Island, NY-NJ        Yes       32273\n",
       "                                              No        27531\n",
       "Niles-Benton Harbor, MI                       Yes         297\n",
       "                                              No           62\n",
       "Norwich-New London, CT                        Yes         153\n",
       "                                              No           40\n",
       "Ocala, FL                                     Yes         438\n",
       "                                              No          135\n",
       "Ocean City, NJ                                Yes          94\n",
       "                                              No           12\n",
       "Odessa, TX                                    Yes         395\n",
       "                                              No          102\n",
       "Ogden-Clearfield, UT                          Yes         337\n",
       "                                              No           31\n",
       "Oklahoma City, OK                             Yes        3058\n",
       "                                              No          694\n",
       "Olympia, WA                                   Yes         148\n",
       "                                              No           18\n",
       "Omaha-Council Bluffs, NE-IA                   Yes         738\n",
       "                                              No          216\n",
       "Orlando-Kissimmee, FL                         Yes        2778\n",
       "                                              No          720\n",
       "Oshkosh-Neenah, WI                            Yes          66\n",
       "                                              No            1\n",
       "Owensboro, KY                                 Yes          92\n",
       "                                              No            8\n",
       "Oxnard-Thousand Oaks-Ventura, CA              Yes         803\n",
       "                                              No          410\n",
       "Palm Bay-Melbourne-Titusville, FL             Yes         620\n",
       "                                              No          140\n",
       "Panama City-Lynn Haven, FL                    Yes         311\n",
       "                                              No           29\n",
       "Parkersburg-Marietta-Vienna, WV-OH            Yes         122\n",
       "                                              No           22\n",
       "Pascagoula, MS                                Yes         252\n",
       "                                              No           38\n",
       "Pensacola-Ferry Pass-Brent, FL                Yes         776\n",
       "                                              No          154\n",
       "Peoria, IL                                    Yes         240\n",
       "                                              No           18\n",
       "Philadelphia-Camden-Wilmington, PA-NJ-DE      Yes       15487\n",
       "                                              No         5136\n",
       "Phoenix-Mesa-Scottsdale, AZ                   Yes        6888\n",
       "                                              No         2886\n",
       "Pine Bluff, AR                                Yes         486\n",
       "                                              No          124\n",
       "Pittsburgh, PA                                Yes        2847\n",
       "                                              No         1260\n",
       "Pittsfield, MA                                Yes          51\n",
       "                                              No            7\n",
       "Pocatello, ID                                 Yes          72\n",
       "                                              No            8\n",
       "Port St. Lucie-Fort Pierce, FL                Yes         537\n",
       "                                              No          193\n",
       "Portland-South Portland-Biddeford, ME         Yes         275\n",
       "                                              No           47\n",
       "Portland-Vancouver-Beaverton, OR-WA           Yes        2078\n",
       "                                              No          609\n",
       "Poughkeepsie-Newburgh-Middletown, NY          Yes         548\n",
       "                                              No          153\n",
       "Prescott, AZ                                  Yes         228\n",
       "                                              No           44\n",
       "Providence-New Bedford-Fall River, RI-MA      Yes        1269\n",
       "                                              No          519\n",
       "Provo-Orem, UT                                Yes         155\n",
       "                                              No           18\n",
       "Pueblo, CO                                    Yes         261\n",
       "                                              No           66\n",
       "Punta Gorda, FL                               Yes          80\n",
       "                                              No           20\n",
       "Racine, WI                                    Yes         259\n",
       "                                              No           71\n",
       "Raleigh-Cary, NC                              Yes        1329\n",
       "                                              No          228\n",
       "Rapid City, SD                                Yes         120\n",
       "                                              No           13\n",
       "Reading, PA                                   Yes         406\n",
       "                                              No          191\n",
       "Redding, CA                                   Yes         268\n",
       "                                              No           56\n",
       "Reno-Sparks, NV                               Yes         649\n",
       "                                              No          121\n",
       "Richmond, VA                                  Yes        3309\n",
       "                                              No         1694\n",
       "Riverside-San Bernardino, CA                  Yes        7249\n",
       "                                              No         3288\n",
       "Roanoke, VA                                   Yes         629\n",
       "                                              No           99\n",
       "Rochester, MN                                 Yes          75\n",
       "                                              No            8\n",
       "Rochester, NY                                 Yes        1341\n",
       "                                              No          696\n",
       "Rockford, IL                                  Yes         371\n",
       "                                              No          130\n",
       "Rocky Mount, NC                               Yes         555\n",
       "                                              No           76\n",
       "Rome, GA                                      Yes         231\n",
       "                                              No           26\n",
       "Rural Alabama                                 Yes        2284\n",
       "                                              No          327\n",
       "Rural Alaska                                  Yes         806\n",
       "                                              No          152\n",
       "Rural Arizona                                 Yes         763\n",
       "                                              No          174\n",
       "Rural Arkansas                                Yes        2627\n",
       "                                              No          309\n",
       "Rural California                              Yes        1417\n",
       "                                              No          302\n",
       "Rural Colorado                                Yes         627\n",
       "                                              No           79\n",
       "Rural Connecticut                             Yes          73\n",
       "                                              No            6\n",
       "Rural Delaware                                Yes         202\n",
       "                                              No           22\n",
       "Rural Florida                                 Yes        1804\n",
       "                                              No          348\n",
       "Rural Georgia                                 Yes        3029\n",
       "                                              No          421\n",
       "Rural Hawaii                                  Yes         345\n",
       "                                              No           90\n",
       "Rural Idaho                                   Yes         501\n",
       "                                              No           57\n",
       "Rural Illinois                                Yes         565\n",
       "                                              No           98\n",
       "Rural Indiana                                 Yes         988\n",
       "                                              No          154\n",
       "Rural Iowa                                    Yes         551\n",
       "                                              No           77\n",
       "Rural Kansas                                  Yes         881\n",
       "                                              No          150\n",
       "Rural Kentucky                                Yes        3047\n",
       "                                              No          615\n",
       "Rural Louisiana                               Yes        2549\n",
       "                                              No          270\n",
       "Rural Maine                                   Yes         417\n",
       "                                              No           44\n",
       "Rural Maryland                                Yes         419\n",
       "                                              No           43\n",
       "Rural Massachusetts                           Yes           8\n",
       "Rural Michigan                                Yes        1147\n",
       "                                              No          195\n",
       "Rural Minnesota                               Yes         689\n",
       "                                              No           45\n",
       "Rural Mississippi                             Yes        3282\n",
       "                                              No          392\n",
       "Rural Missouri                                Yes        1548\n",
       "                                              No          185\n",
       "Rural Montana                                 Yes         407\n",
       "                                              No           32\n",
       "Rural Nebraska                                Yes         459\n",
       "                                              No           44\n",
       "Rural Nevada                                  Yes         321\n",
       "                                              No           48\n",
       "Rural New Hampshire                           Yes         234\n",
       "                                              No           48\n",
       "Rural New Mexico                              Yes        1065\n",
       "                                              No          266\n",
       "Rural New York                                Yes         925\n",
       "                                              No          144\n",
       "Rural North Carolina                          Yes        6103\n",
       "                                              No         1223\n",
       "Rural North Dakota                            Yes         191\n",
       "                                              No           15\n",
       "Rural Ohio                                    Yes        1103\n",
       "                                              No          226\n",
       "Rural Oklahoma                                Yes        2624\n",
       "                                              No          407\n",
       "Rural Oregon                                  Yes        1035\n",
       "                                              No          144\n",
       "Rural Pennsylvania                            Yes        1619\n",
       "                                              No          270\n",
       "Rural South Carolina                          Yes        3417\n",
       "                                              No          352\n",
       "Rural South Dakota                            Yes         234\n",
       "                                              No           18\n",
       "Rural Tennessee                               Yes        2213\n",
       "                                              No          277\n",
       "Rural Texas                                   Yes        6124\n",
       "                                              No          879\n",
       "Rural Utah                                    Yes         251\n",
       "                                              No           25\n",
       "Rural Vermont                                 Yes         315\n",
       "                                              No           43\n",
       "Rural Virginia                                Yes        2434\n",
       "                                              No          275\n",
       "Rural Washington                              Yes         815\n",
       "                                              No          112\n",
       "Rural West Virginia                           Yes        1745\n",
       "                                              No          131\n",
       "Rural Wisconsin                               Yes         858\n",
       "                                              No           82\n",
       "Rural Wyoming                                 Yes         478\n",
       "                                              No           54\n",
       "Sacramento-Roseville, CA                      Yes        3489\n",
       "                                              No         1137\n",
       "Saginaw, MI                                   Yes         638\n",
       "                                              No          305\n",
       "Salem, OR                                     Yes         412\n",
       "                                              No           72\n",
       "Salinas, CA                                   Yes         698\n",
       "                                              No          542\n",
       "Salisbury, MD                                 Yes         224\n",
       "                                              No           53\n",
       "Salt Lake City, UT                            Yes        1119\n",
       "                                              No          244\n",
       "San Angelo, TX                                Yes         186\n",
       "                                              No           27\n",
       "San Antonio, TX                               Yes        4714\n",
       "                                              No         2084\n",
       "San Diego-Carlsbad-San Marcos, CA             Yes        3871\n",
       "                                              No         2171\n",
       "San Francisco-Oakland-Fremont, CA             Yes        7984\n",
       "                                              No         6060\n",
       "San Jose-Sunnyvale-Santa Clara, CA            Yes        1902\n",
       "                                              No          589\n",
       "San Luis Obispo-Paso Robles, CA               Yes         219\n",
       "                                              No           53\n",
       "Sandusky, OH                                  Yes          72\n",
       "                                              No            5\n",
       "Santa Barbara-Santa Maria, CA                 Yes         418\n",
       "                                              No           95\n",
       "Santa Cruz-Watsonville, CA                    Yes         308\n",
       "                                              No          109\n",
       "Santa Fe, NM                                  Yes         469\n",
       "                                              No          177\n",
       "Santa Rosa-Petaluma, CA                       Yes         444\n",
       "                                              No          130\n",
       "Sarasota-Bradenton-Venice, FL                 Yes         774\n",
       "                                              No          231\n",
       "Savannah, GA                                  Yes         964\n",
       "                                              No          411\n",
       "Scranton--Wilkes-Barre, PA                    Yes         515\n",
       "                                              No           91\n",
       "Seattle-Tacoma-Bellevue, WA                   Yes        3623\n",
       "                                              No         1287\n",
       "Sheboygan, WI                                 Yes          45\n",
       "                                              No            3\n",
       "Sherman-Denison, TX                           Yes         185\n",
       "                                              No           38\n",
       "Shreveport-Bossier City, LA                   Yes        1724\n",
       "                                              No          427\n",
       "Sioux City, IA-NE-SD                          Yes         123\n",
       "                                              No           11\n",
       "Sioux Falls, SD                               Yes         107\n",
       "                                              No           12\n",
       "South Bend-Mishawaka, IN-MI                   Yes         529\n",
       "                                              No          238\n",
       "Spartanburg, SC                               Yes         731\n",
       "                                              No          101\n",
       "Spokane, WA                                   Yes         539\n",
       "                                              No          152\n",
       "Springfield, IL                               Yes         181\n",
       "                                              No           40\n",
       "Springfield, MA                               Yes         663\n",
       "                                              No          164\n",
       "Springfield, MO                               Yes         365\n",
       "                                              No           74\n",
       "Springfield, OH                               Yes         202\n",
       "                                              No           71\n",
       "St. Cloud, MN                                 Yes          70\n",
       "                                              No           15\n",
       "St. George, UT                                Yes          39\n",
       "                                              No            7\n",
       "St. Joseph, MO-KS                             Yes         129\n",
       "                                              No           19\n",
       "St. Louis, MO-IL                              Yes        5827\n",
       "                                              No         4659\n",
       "State College, PA                             Yes          53\n",
       "                                              No            7\n",
       "Stockton, CA                                  Yes        1663\n",
       "                                              No          810\n",
       "Sumter, SC                                    Yes         363\n",
       "                                              No           43\n",
       "Syracuse, NY                                  Yes         623\n",
       "                                              No          162\n",
       "Tallahassee, FL                               Yes         543\n",
       "                                              No          140\n",
       "Tampa-St. Petersburg-Clearwater, FL           Yes        4192\n",
       "                                              No         1198\n",
       "Terre Haute, IN                               Yes         151\n",
       "                                              No           40\n",
       "Texarkana, TX-Texarkana, AR                   Yes         389\n",
       "                                              No           60\n",
       "Toledo, OH                                    Yes        1023\n",
       "                                              No          399\n",
       "Topeka, KS                                    Yes         340\n",
       "                                              No           85\n",
       "Trenton-Ewing, NJ                             Yes         657\n",
       "                                              No          356\n",
       "Tucson, AZ                                    Yes        1888\n",
       "                                              No          750\n",
       "Tulsa, OK                                     Yes        2192\n",
       "                                              No          491\n",
       "Tuscaloosa, AL                                Yes         393\n",
       "                                              No           62\n",
       "Tyler, TX                                     Yes         473\n",
       "                                              No           93\n",
       "Utica-Rome, NY                                Yes         252\n",
       "                                              No           90\n",
       "Valdosta, GA                                  Yes         243\n",
       "                                              No           68\n",
       "Vallejo-Fairfield, CA                         Yes         652\n",
       "                                              No          284\n",
       "Vero Beach, FL                                Yes         135\n",
       "                                              No           33\n",
       "Victoria, TX                                  Yes         231\n",
       "                                              No           58\n",
       "Vineland-Millville-Bridgeton, NJ              Yes         274\n",
       "                                              No           54\n",
       "Virginia Beach-Norfolk-Newport News, VA-NC    Yes        4502\n",
       "                                              No         1070\n",
       "Visalia-Porterville, CA                       Yes         977\n",
       "                                              No          387\n",
       "Waco, TX                                      Yes         565\n",
       "                                              No          189\n",
       "Warner Robins, GA                             Yes         205\n",
       "                                              No           30\n",
       "Washington-Arlington-Alexandria, DC-VA-MD-WV  Yes        7742\n",
       "                                              No         7425\n",
       "Waterloo-Cedar Falls, IA                      Yes         106\n",
       "                                              No           26\n",
       "Wausau, WI                                    Yes          55\n",
       "                                              No            8\n",
       "Weirton-Steubenville, WV-OH                   Yes         110\n",
       "                                              No           23\n",
       "Wenatchee, WA                                 Yes         121\n",
       "                                              No           12\n",
       "Wheeling, WV-OH                               Yes         145\n",
       "                                              No           21\n",
       "Wichita Falls, TX                             Yes         376\n",
       "                                              No           70\n",
       "Wichita, KS                                   Yes         842\n",
       "                                              No          161\n",
       "Williamsport, PA                              Yes          75\n",
       "                                              No           21\n",
       "Wilmington, NC                                Yes         490\n",
       "                                              No          126\n",
       "Winchester, VA-WV                             Yes         122\n",
       "                                              No           15\n",
       "Winston-Salem, NC                             Yes         884\n",
       "                                              No          211\n",
       "Worcester, MA                                 Yes         447\n",
       "                                              No          102\n",
       "Yakima, WA                                    Yes         466\n",
       "                                              No          130\n",
       "York-Hanover, PA                              Yes         361\n",
       "                                              No          109\n",
       "Youngstown-Warren-Boardman, OH-PA             Yes         993\n",
       "                                              No          621\n",
       "Yuba City, CA                                 Yes         277\n",
       "                                              No           74\n",
       "Yuma, AZ                                      Yes         221\n",
       "                                              No           40\n",
       "Name: Solved, dtype: int64"
      ]
     },
     "execution_count": 45,
     "metadata": {},
     "output_type": "execute_result"
    }
   ],
   "source": [
    "# Solved cases by Metropolitan statistical area\n",
    "shr.groupby('MSA').Solved.value_counts()"
   ]
  },
  {
   "cell_type": "markdown",
   "metadata": {},
   "source": [
    "#### County "
   ]
  },
  {
   "cell_type": "code",
   "execution_count": null,
   "metadata": {
    "collapsed": true
   },
   "outputs": [],
   "source": []
  },
  {
   "cell_type": "markdown",
   "metadata": {},
   "source": [
    "#### Agency"
   ]
  },
  {
   "cell_type": "code",
   "execution_count": 46,
   "metadata": {
    "scrolled": true
   },
   "outputs": [
    {
     "data": {
      "text/plain": [
       "New York                                              44527\n",
       "Los Angeles                                           26498\n",
       "Chicago                                               25430\n",
       "Detroit                                               19705\n",
       "Houston                                               15140\n",
       "Philadelphia                                          14600\n",
       "Dallas                                                10672\n",
       "Baltimore                                             10401\n",
       "New Orleans                                            8837\n",
       "Washington                                             8167\n",
       "St. Louis                                              7061\n",
       "Los Angeles County                                     6395\n",
       "Phoenix                                                6294\n",
       "Atlanta                                                6198\n",
       "Memphis                                                5964\n",
       "San Antonio                                            5623\n",
       "Cleveland                                              5507\n",
       "Kansas City                                            5301\n",
       "Oakland                                                4795\n",
       "Miami-Dade                                             4684\n",
       "Richmond                                               4480\n",
       "Columbus                                               4400\n",
       "Las Vegas Metro Police Department                      4248\n",
       "Milwaukee                                              4020\n",
       "Newark County                                          4006\n",
       "Jacksonville                                           3912\n",
       "Indianapolis                                           3901\n",
       "Miami                                                  3889\n",
       "Fort Worth                                             3614\n",
       "San Francisco                                          3574\n",
       "Prince George's County Police Department               3545\n",
       "San Diego                                              3404\n",
       "Nashville                                              3201\n",
       "Birmingham                                             3022\n",
       "Harris County                                          2973\n",
       "Boston                                                 2863\n",
       "Oklahoma City                                          2830\n",
       "Charlotte-Mecklenburg                                  2791\n",
       "Denver                                                 2748\n",
       "Jackson                                                2646\n",
       "Long Beach                                             2632\n",
       "Jefferson County                                       2587\n",
       "Gary                                                   2542\n",
       "Dekalb County Police Department                        2193\n",
       "Baton Rouge                                            2166\n",
       "Compton                                                2100\n",
       "Cincinnati                                             2061\n",
       "Sacramento                                             2060\n",
       "Fresno                                                 2040\n",
       "Pittsburgh                                             2012\n",
       "Buffalo                                                1878\n",
       "Tulsa                                                  1871\n",
       "Norfolk                                                1849\n",
       "Orange County                                          1826\n",
       "San Bernardino                                         1801\n",
       "Albuquerque                                            1794\n",
       "Tucson                                                 1765\n",
       "Minneapolis                                            1758\n",
       "Flint                                                  1723\n",
       "Dayton                                                 1715\n",
       "Seattle                                                1710\n",
       "Rochester                                              1686\n",
       "Stockton                                               1662\n",
       "Sacramento County                                      1647\n",
       "Shreveport                                             1645\n",
       "Tampa                                                  1610\n",
       "Portland                                               1592\n",
       "Riverside County                                       1586\n",
       "San Bernardino County                                  1578\n",
       "San Jose                                               1573\n",
       "Little Rock                                            1558\n",
       "Camden                                                 1508\n",
       "Austin                                                 1483\n",
       "Springfield                                            1448\n",
       "Mobile                                                 1314\n",
       "Santa Ana                                              1310\n",
       "Kern County                                            1291\n",
       "Louisville                                             1262\n",
       "Toledo                                                 1256\n",
       "Inglewood                                              1228\n",
       "Bridgeport                                             1202\n",
       "Baltimore County Police Department                     1200\n",
       "Youngstown                                             1194\n",
       "Hillsborough County                                    1187\n",
       "Savannah                                               1171\n",
       "Honolulu County                                        1165\n",
       "El Paso                                                1134\n",
       "Hartford                                               1127\n",
       "San Diego County                                       1127\n",
       "Jersey City                                            1115\n",
       "Suffolk County Police Department                       1076\n",
       "Marion County                                          1038\n",
       "Montgomery                                             1036\n",
       "Corpus Christi                                         1031\n",
       "Palm Beach County                                      1031\n",
       "Greenville                                             1030\n",
       "Lee County                                              992\n",
       "Bakersfield                                             966\n",
       "Fort Lauderdale                                         961\n",
       "Pomona                                                  949\n",
       "Greensboro                                              924\n",
       "Durham                                                  918\n",
       "Columbia                                                898\n",
       "Knoxville                                               896\n",
       "Polk County                                             891\n",
       "St. Petersburg                                          884\n",
       "Fresno County                                           859\n",
       "Portsmouth                                              853\n",
       "Wilmington                                              853\n",
       "Newport News                                            844\n",
       "Maricopa County                                         840\n",
       "Riverside                                               836\n",
       "Fort Wayne                                              835\n",
       "Pasadena                                                829\n",
       "Montgomery County                                       827\n",
       "Albany                                                  824\n",
       "Wichita                                                 822\n",
       "Orlando                                                 817\n",
       "Aurora                                                  813\n",
       "Richland County                                         811\n",
       "Chattanooga                                             802\n",
       "Winston-Salem                                           798\n",
       "Akron                                                   788\n",
       "Fayetteville                                            773\n",
       "Paterson                                                771\n",
       "Saginaw                                                 771\n",
       "Louisville Metro                                        765\n",
       "Washington County                                       763\n",
       "Glendale                                                759\n",
       "Greenville County                                       756\n",
       "Montgomery County Police Department                     754\n",
       "Lexington                                               754\n",
       "Macon                                                   752\n",
       "Trenton                                                 748\n",
       "State Troopers                                          745\n",
       "Pima County                                             744\n",
       "Franklin County                                         742\n",
       "East St. Louis                                          742\n",
       "Lubbock                                                 739\n",
       "Providence                                              739\n",
       "Anchorage                                               734\n",
       "New Haven                                               733\n",
       "Colorado Springs                                        728\n",
       "Nassau County                                           723\n",
       "Charleston                                              719\n",
       "Tacoma                                                  715\n",
       "St. Paul                                                712\n",
       "Augusta-Richmond County                                 710\n",
       "Raleigh                                                 704\n",
       "Grand Rapids                                            700\n",
       "West Palm Beach                                         698\n",
       "Tulare County                                           698\n",
       "Omaha                                                   697\n",
       "Virginia Beach                                          696\n",
       "Chester                                                 680\n",
       "Cumberland County                                       672\n",
       "Broward County                                          663\n",
       "Hidalgo County                                          658\n",
       "Lancaster                                               654\n",
       "Anaheim                                                 653\n",
       "Beaumont                                                653\n",
       "Alexandria                                              641\n",
       "Escambia County                                         632\n",
       "Amarillo                                                616\n",
       "Gwinnett County Police Department                       616\n",
       "San Joaquin County                                      610\n",
       "Lynwood                                                 606\n",
       "Arlington                                               604\n",
       "Mesa                                                    598\n",
       "Salt Lake City                                          597\n",
       "Pierce County                                           592\n",
       "King County                                             591\n",
       "Fairfax County Police Department                        590\n",
       "Waco                                                    587\n",
       "Syracuse                                                577\n",
       "Jackson County                                          577\n",
       "Salinas                                                 576\n",
       "St. Louis County Police Department                      569\n",
       "South Bend                                              567\n",
       "Highland Park                                           559\n",
       "Huntsville                                              554\n",
       "Madison County                                          545\n",
       "Ontario                                                 540\n",
       "Monroe                                                  529\n",
       "Anderson County                                         528\n",
       "Contra Costa County                                     527\n",
       "Henrico County Police D                                 524\n",
       "Robeson County                                          520\n",
       "Clayton County Police Department                        510\n",
       "New Mexico State Police                                 508\n",
       "Des Moines                                              507\n",
       "Lafayette                                               507\n",
       "Spartanburg County                                      507\n",
       "Irvington                                               506\n",
       "East Baton Rouge County                                 506\n",
       "Laredo                                                  503\n",
       "North Las Vegas                                         501\n",
       "Anne Arundel County Police Department                   500\n",
       "Bexar County                                            496\n",
       "Roanoke                                                 490\n",
       "Spokane                                                 489\n",
       "East Orange                                             488\n",
       "Reno                                                    484\n",
       "Oxnard                                                  483\n",
       "Horry County Police Department                          482\n",
       "Vallejo                                                 480\n",
       "Modesto                                                 479\n",
       "Elizabeth                                               475\n",
       "Pulaski County                                          473\n",
       "Pine Bluff                                              466\n",
       "Hammond                                                 464\n",
       "Norwalk                                                 463\n",
       "Hampton                                                 463\n",
       "North Charleston                                        461\n",
       "Pasco County                                            460\n",
       "Orange                                                  458\n",
       "Fulton County Police Department                         452\n",
       "Stanislaus County                                       448\n",
       "Harrisburg                                              443\n",
       "Reading                                                 441\n",
       "Yonkers                                                 435\n",
       "Galveston                                               431\n",
       "Carson                                                  431\n",
       "Lansing                                                 430\n",
       "Hialeah                                                 429\n",
       "Rockford                                                429\n",
       "Lake County                                             425\n",
       "Atlantic City                                           421\n",
       "Monroe County                                           417\n",
       "Chesapeake                                              415\n",
       "Lincoln County                                          412\n",
       "North Little Rock                                       411\n",
       "Berkeley                                                411\n",
       "Douglas County                                          406\n",
       "Fort Myers                                              406\n",
       "Longview                                                397\n",
       "Canton                                                  397\n",
       "Cobb County Police Department                           397\n",
       "Collier County                                          396\n",
       "El Monte                                                394\n",
       "Warren                                                  394\n",
       "Pontiac                                                 391\n",
       "Wichita Falls                                           389\n",
       "Lakewood                                                387\n",
       "Henry County                                            386\n",
       "Oceanside                                               384\n",
       "Shelby County                                           382\n",
       "Orangeburg County                                       381\n",
       "Cherokee County                                         379\n",
       "State Police                                            369\n",
       "Allentown                                               368\n",
       "Hawthorne                                               368\n",
       "Fontana                                                 367\n",
       "Henderson                                               367\n",
       "Brownsville                                             366\n",
       "Miami Beach                                             364\n",
       "Odessa                                                  364\n",
       "Manatee County                                          363\n",
       "Wayne County                                            362\n",
       "Prichard                                                360\n",
       "Fort Pierce                                             359\n",
       "Connecticut State Police                                358\n",
       "Sumter County                                           355\n",
       "High Point                                              354\n",
       "Union County                                            353\n",
       "Port Arthur                                             353\n",
       "Irving                                                  352\n",
       "Tyler                                                   352\n",
       "Killeen                                                 351\n",
       "Hamilton County                                         348\n",
       "Pinellas County                                         347\n",
       "Fairfield                                               346\n",
       "El Paso County                                          346\n",
       "Adams County                                            341\n",
       "Harrison County                                         340\n",
       "Hayward                                                 335\n",
       "Topeka                                                  335\n",
       "Garland                                                 334\n",
       "Hollywood                                               333\n",
       "Chesterfield                                            331\n",
       "Tallahassee                                             330\n",
       "Greenwood                                               329\n",
       "Salem                                                   329\n",
       "Aiken County                                            329\n",
       "Jefferson County Police Department                      328\n",
       "Lexington County                                        326\n",
       "Greene County                                           321\n",
       "Lawton                                                  319\n",
       "South Gate                                              315\n",
       "Concord                                                 313\n",
       "Bernalillo County                                       313\n",
       "Augusta                                                 312\n",
       "Paramount                                               311\n",
       "Grand Prairie                                           310\n",
       "Gainesville                                             309\n",
       "Daytona Beach                                           307\n",
       "Rocky Mount                                             307\n",
       "Volusia County                                          307\n",
       "Union City                                              305\n",
       "Mount Vernon                                            305\n",
       "Danville                                                305\n",
       "Clarksville                                             304\n",
       "Knox County                                             304\n",
       "Prince William County Police Department                 302\n",
       "Worcester                                               301\n",
       "Gastonia                                                301\n",
       "Petersburg                                              301\n",
       "Lake Charles                                            300\n",
       "Waterbury                                               299\n",
       "Salt Lake County                                        299\n",
       "Monterey County                                         299\n",
       "Garden Grove                                            299\n",
       "Pico Rivera                                             298\n",
       "York                                                    297\n",
       "Berkeley County                                         296\n",
       "Rialto                                                  293\n",
       "Riviera Beach                                           293\n",
       "Pittsburg                                               293\n",
       "East Chicago                                            292\n",
       "Putnam County                                           291\n",
       "Peoria                                                  289\n",
       "Columbia County                                         288\n",
       "Opa Locka                                               288\n",
       "East Palo Alto                                          287\n",
       "Moreno Valley                                           286\n",
       "Beaufort County                                         285\n",
       "Spartanburg                                             285\n",
       "Merced County                                           284\n",
       "Decatur                                                 284\n",
       "Anniston                                                284\n",
       "Baldwin Park                                            284\n",
       "Seminole County                                         283\n",
       "Anderson                                                283\n",
       "Clay County                                             281\n",
       "Halifax County                                          281\n",
       "Sonoma County                                           279\n",
       "Bessemer                                                278\n",
       "Sanford                                                 277\n",
       "Meridian                                                276\n",
       "Pueblo                                                  276\n",
       "Pompano Beach                                           276\n",
       "Visalia                                                 276\n",
       "St. Tammany County                                      276\n",
       "Abilene                                                 275\n",
       "Roswell                                                 275\n",
       "Midland                                                 274\n",
       "Huntington Park                                         274\n",
       "Brevard County                                          274\n",
       "Kalamazoo                                               273\n",
       "New Castle County Police Department                     273\n",
       "Pinal County                                            273\n",
       "Texarkana                                               272\n",
       "Alameda County                                          271\n",
       "Evansville                                              269\n",
       "Goldsboro                                               268\n",
       "Tempe                                                   265\n",
       "Racine                                                  265\n",
       "Madison                                                 263\n",
       "Suffolk County                                          263\n",
       "Yakima County                                           262\n",
       "Florence County                                         260\n",
       "Wake County                                             260\n",
       "Fort Bend County                                        260\n",
       "Burlington                                              260\n",
       "Santa Monica                                            259\n",
       "Tangipahoa County                                       258\n",
       "Gulfport                                                258\n",
       "Clark County                                            257\n",
       "Newton County                                           255\n",
       "Miami Gardens                                           255\n",
       "Plainfield                                              254\n",
       "Asheville                                               254\n",
       "Snohomish County                                        253\n",
       "Selma                                                   252\n",
       "Warren County                                           252\n",
       "Tuscaloosa                                              250\n",
       "Randolph County                                         249\n",
       "York County                                             249\n",
       "Henderson County                                        249\n",
       "Lakeland                                                248\n",
       "Chula Vista                                             246\n",
       "Antioch                                                 245\n",
       "Palmdale                                                244\n",
       "Gardena                                                 244\n",
       "Santa Clara County                                      244\n",
       "Brockton                                                243\n",
       "State Police: Washington County                         241\n",
       "Florence                                                241\n",
       "Westminster                                             239\n",
       "Lawrence                                                237\n",
       "Kenner                                                  236\n",
       "Jasper County                                           236\n",
       "Joliet                                                  236\n",
       "Baytown                                                 235\n",
       "Hamilton                                                233\n",
       "Lafayette County                                        233\n",
       "Harnett County                                          231\n",
       "Caddo County                                            230\n",
       "Salisbury                                               230\n",
       "Ventura County                                          230\n",
       "Battle Creek                                            230\n",
       "Wilson                                                  230\n",
       "Lincoln                                                 227\n",
       "Troy                                                    226\n",
       "Butte County                                            226\n",
       "Independence                                            226\n",
       "Bell Gardens                                            226\n",
       "West Memphis                                            225\n",
       "Maywood                                                 224\n",
       "Grant County                                            222\n",
       "Smith County                                            220\n",
       "Travis County                                           220\n",
       "Inkster                                                 219\n",
       "Lynchburg                                               219\n",
       "Santa Cruz County                                       218\n",
       "Erie                                                    218\n",
       "Covington                                               217\n",
       "Hempstead Village                                       216\n",
       "North Miami                                             216\n",
       "Johnston County                                         216\n",
       "Gaston County Police Department                         215\n",
       "Mobile County                                           214\n",
       "Indio                                                   214\n",
       "Clackamas County                                        213\n",
       "Brazoria County                                         212\n",
       "Johnson County                                          212\n",
       "Merced                                                  211\n",
       "Ouachita County                                         210\n",
       "Athens-Clarke County                                    209\n",
       "Yakima                                                  209\n",
       "College Park                                            209\n",
       "Scottsdale                                              208\n",
       "East Point                                              208\n",
       "Gadsden                                                 208\n",
       "Clinton                                                 207\n",
       "Clearwater                                              207\n",
       "La Puente                                               207\n",
       "Calcasieu County                                        206\n",
       "San Pablo                                               206\n",
       "Benton County                                           205\n",
       "Cameron County                                          205\n",
       "Darlington County                                       204\n",
       "St. Charles County                                      203\n",
       "Fort Smith                                              203\n",
       "Humboldt County                                         203\n",
       "Colton                                                  202\n",
       "Utica                                                   202\n",
       "Valdosta                                                202\n",
       "Sarasota County                                         201\n",
       "Fremont                                                 201\n",
       "Martin County                                           201\n",
       "Ocala                                                   199\n",
       "Middletown                                              198\n",
       "Hattiesburg                                             198\n",
       "Sarasota                                                197\n",
       "Downey                                                  197\n",
       "Escondido                                               197\n",
       "National City                                           196\n",
       "Lawrence County                                         196\n",
       "Arlington County Police Department                      196\n",
       "San Mateo County                                        195\n",
       "Montclair                                               195\n",
       "Stamford                                                195\n",
       "Caldwell County                                         194\n",
       "Kent                                                    194\n",
       "Marion                                                  193\n",
       "State Police: Wayne County                              193\n",
       "State Police: Sussex County                             193\n",
       "Hot Springs                                             193\n",
       "Victorville                                             191\n",
       "Shasta County                                           191\n",
       "Houston County                                          191\n",
       "Bellflower                                              191\n",
       "Hawaii Police Department County                         190\n",
       "Huntington                                              190\n",
       "Homestead                                               190\n",
       "Rome                                                    189\n",
       "Pensacola                                               189\n",
       "Bossier City                                            189\n",
       "Kanawha County                                          188\n",
       "Mohave County                                           188\n",
       "Mesquite                                                187\n",
       "Carroll County                                          187\n",
       "State Police: Luzerne County                            187\n",
       "Rosemead                                                186\n",
       "Mendocino County                                        186\n",
       "Davenport                                               186\n",
       "Lima                                                    186\n",
       "Fayette County                                          184\n",
       "Mcallen                                                 184\n",
       "Texas City                                              183\n",
       "State Police: Pike County                               183\n",
       "Ogden                                                   182\n",
       "Muskogee                                                182\n",
       "Auburn                                                  182\n",
       "Blytheville                                             182\n",
       "El Dorado County                                        181\n",
       "Mansfield                                               181\n",
       "Laurens County                                          181\n",
       "                                                      ...  \n",
       "Seaboard                                                  1\n",
       "Crosby                                                    1\n",
       "Middlefield                                               1\n",
       "Moultrie County                                           1\n",
       "Department of Mental Health                               1\n",
       "State Park Rangers: Warrior's Path                        1\n",
       "Worth                                                     1\n",
       "Henrietta                                                 1\n",
       "Pipestone County                                          1\n",
       "State Park: Wyoming County                                1\n",
       "Limerick Township                                         1\n",
       "Bridger                                                   1\n",
       "Pleasant Ridge                                            1\n",
       "State Police: Missaukee County                            1\n",
       "Southwick                                                 1\n",
       "Garrard County                                            1\n",
       "University of Arkansas: Monticello                        1\n",
       "Garnett                                                   1\n",
       "Ridgeville                                                1\n",
       "Machias                                                   1\n",
       "Rose City                                                 1\n",
       "Mapleton                                                  1\n",
       "State Patrol: Jefferson Cnty                              1\n",
       "Hebron                                                    1\n",
       "Edgartown                                                 1\n",
       "State Patrol: Sioux County                                1\n",
       "Taliaferro County P Dept                                  1\n",
       "Livermore Falls                                           1\n",
       "Howey-In-The-Hills                                        1\n",
       "Bearden                                                   1\n",
       "West Wildwood                                             1\n",
       "Orchard Lake                                              1\n",
       "State Police: Greensville County                          1\n",
       "Newbury                                                   1\n",
       "Cuming County                                             1\n",
       "Rutgers Un: Newark                                        1\n",
       "Ely                                                       1\n",
       "Department of Natural Resources: Doddridge County         1\n",
       "Faulk County                                              1\n",
       "Highway Patrol: Monroe County                             1\n",
       "Foster                                                    1\n",
       "Bethesda                                                  1\n",
       "Rich Hill                                                 1\n",
       "Highway Patrol: Pasco County                              1\n",
       "Tye                                                       1\n",
       "Farmer City                                               1\n",
       "Ellerbe                                                   1\n",
       "Rossville                                                 1\n",
       "Manassa                                                   1\n",
       "Caseville                                                 1\n",
       "New Mexico State University                               1\n",
       "Philomath                                                 1\n",
       "Achille Police Department                                 1\n",
       "Department of Natural Resources: Putnam County            1\n",
       "Daniels County                                            1\n",
       "Chelan                                                    1\n",
       "Crosbyton                                                 1\n",
       "Piermont Village                                          1\n",
       "Ferris State University                                   1\n",
       "Scottville                                                1\n",
       "Brigham Young University                                  1\n",
       "Zilwaukee                                                 1\n",
       "Dale                                                      1\n",
       "Dekalb County                                             1\n",
       "Pine Level                                                1\n",
       "Ben Avon                                                  1\n",
       "Wolf Point                                                1\n",
       "East Dubuque                                              1\n",
       "Springer                                                  1\n",
       "Olivia                                                    1\n",
       "Osage Beach                                               1\n",
       "Montrose Township                                         1\n",
       "Wallis                                                    1\n",
       "Audubon Park                                              1\n",
       "Bartonville                                               1\n",
       "Eaton Rapids                                              1\n",
       "Hoschton                                                  1\n",
       "Mount Desert                                              1\n",
       "Palisades I S Parkway                                     1\n",
       "State Police: Covington                                   1\n",
       "Morningside                                               1\n",
       "Yorkville Village                                         1\n",
       "Buckingham Township                                       1\n",
       "Tusculum                                                  1\n",
       "Magoffin County                                           1\n",
       "Cherry Valley                                             1\n",
       "Bow                                                       1\n",
       "Cascade                                                   1\n",
       "Conewago Township                                         1\n",
       "Department of Parks and Recreation: Orange Coast          1\n",
       "University of Mississippi: Oxford                         1\n",
       "Caryville                                                 1\n",
       "Haines                                                    1\n",
       "Univ Of Wi: Green Bay                                     1\n",
       "Stockton Unified School District                          1\n",
       "Burnside                                                  1\n",
       "Hardin                                                    1\n",
       "Thetford Township                                         1\n",
       "Hiram                                                     1\n",
       "Joshua                                                    1\n",
       "Blanchard                                                 1\n",
       "Montour Township                                          1\n",
       "Winston-Salem State Univ                                  1\n",
       "Russell Township                                          1\n",
       "Dandridge                                                 1\n",
       "Scarsdale Village                                         1\n",
       "Callahan                                                  1\n",
       "Berthoud                                                  1\n",
       "Puxico                                                    1\n",
       "Warren State Police                                       1\n",
       "ST HWY PT: Bluefield                                      1\n",
       "Mazomanie                                                 1\n",
       "Sharkey County                                            1\n",
       "Highway Patrol: Placer County                             1\n",
       "Waupaca                                                   1\n",
       "Orleans State Police                                      1\n",
       "Iron River                                                1\n",
       "Yamhill                                                   1\n",
       "Cokeville                                                 1\n",
       "Codington County                                          1\n",
       "Statham                                                   1\n",
       "Pine Ridge                                                1\n",
       "State Police: Antrim County                               1\n",
       "Hometown                                                  1\n",
       "Virginia Military Institute                               1\n",
       "Columbia State Police                                     1\n",
       "New Town                                                  1\n",
       "Higginsville                                              1\n",
       "Larksville                                                1\n",
       "Waunakee                                                  1\n",
       "Kane                                                      1\n",
       "Kilmarnock                                                1\n",
       "Interlachen                                               1\n",
       "Idalou                                                    1\n",
       "Delanco Township                                          1\n",
       "Woodsfield                                                1\n",
       "Le Claire                                                 1\n",
       "Iron Mountain Lake                                        1\n",
       "Helmetta                                                  1\n",
       "State Patrol: Douglas County                              1\n",
       "Barwick                                                   1\n",
       "Camden Village                                            1\n",
       "Buckner                                                   1\n",
       "Lower Chichester Township                                 1\n",
       "Fries                                                     1\n",
       "Hayneville                                                1\n",
       "Thomasboro                                                1\n",
       "Byram Township                                            1\n",
       "North Topsail Beach                                       1\n",
       "Shadyside                                                 1\n",
       "State Police: Alleghany County                            1\n",
       "Coastal Carolina Univers                                  1\n",
       "Walnut Cove                                               1\n",
       "Wappingers Falls Village                                  1\n",
       "Hi-Nella                                                  1\n",
       "Bronxville Village                                        1\n",
       "Wheatland Town                                            1\n",
       "Chamberlain                                               1\n",
       "North Carolina State University: Raleigh                  1\n",
       "University of La: Lafayette                               1\n",
       "Hp: Horry County                                          1\n",
       "Monson                                                    1\n",
       "Central WV Drug Task Force                                1\n",
       "Melissa                                                   1\n",
       "Hennessey                                                 1\n",
       "Wadena                                                    1\n",
       "Frankston                                                 1\n",
       "Gerrish Township                                          1\n",
       "State Police: Winchester                                  1\n",
       "Whitesboro Village                                        1\n",
       "Haughton                                                  1\n",
       "Gaston                                                    1\n",
       "Huntland                                                  1\n",
       "Custer State Patrol                                       1\n",
       "University of Connecticut: Storrs                         1\n",
       "Spruce Pine                                               1\n",
       "Department of Parks and Recreation: Gold Fields Di        1\n",
       "Hp: San Bernardino Cnty                                   1\n",
       "Level Plains                                              1\n",
       "State Park Rangers: Tim's Ford                            1\n",
       "Independent School District: Klein                        1\n",
       "Albany State Police                                       1\n",
       "Summerdale                                                1\n",
       "Falls City                                                1\n",
       "Chemung State Police                                      1\n",
       "Pima                                                      1\n",
       "East Hampton Village                                      1\n",
       "Pine Beach                                                1\n",
       "Dundy County                                              1\n",
       "Longwood University                                       1\n",
       "University of West Georgia                                1\n",
       "Ca St Un: Dominguez Hlls                                  1\n",
       "Lakeway                                                   1\n",
       "Newcomerstown                                             1\n",
       "Ansted                                                    1\n",
       "Clearcreek Township                                       1\n",
       "Oswego                                                    1\n",
       "Colby                                                     1\n",
       "Parkton                                                   1\n",
       "Clyde Hill                                                1\n",
       "Cannon Beach                                              1\n",
       "Braselton                                                 1\n",
       "Sour Lake                                                 1\n",
       "Stonewall                                                 1\n",
       "Schuyler State Police                                     1\n",
       "Lock Haven University                                     1\n",
       "Slocomb                                                   1\n",
       "State Park Patrol: Presque Isle                           1\n",
       "University of Iowa                                        1\n",
       "Pataskala                                                 1\n",
       "Campobello                                                1\n",
       "Cassville                                                 1\n",
       "Lucama                                                    1\n",
       "Lochbuie                                                  1\n",
       "Wellesley                                                 1\n",
       "Franklin Boro                                             1\n",
       "Red Hook Village                                          1\n",
       "Colonial Regional                                         1\n",
       "Durand                                                    1\n",
       "Combes                                                    1\n",
       "Kearney State Patrol                                      1\n",
       "State Police: St. Marys                                   1\n",
       "Bovina                                                    1\n",
       "University of Toledo                                      1\n",
       "Waverly Village                                           1\n",
       "Ronda                                                     1\n",
       "Ottawa Hills                                              1\n",
       "Ravenna                                                   1\n",
       "Sumas                                                     1\n",
       "Cobb County                                               1\n",
       "Groveport                                                 1\n",
       "Nance County                                              1\n",
       "Wind River Agency                                         1\n",
       "Buhler                                                    1\n",
       "East Rochester                                            1\n",
       "Lac Qui Parle County                                      1\n",
       "Pennsboro                                                 1\n",
       "Sturtevant                                                1\n",
       "Long Beach Township                                       1\n",
       "Huerfano County                                           1\n",
       "Fleetwood                                                 1\n",
       "Department of Parks and Recreation: Oceano Dunes          1\n",
       "Tupper Lake Village                                       1\n",
       "Ellinwood                                                 1\n",
       "Nenana                                                    1\n",
       "Flowery Branch                                            1\n",
       "Fawn Township                                             1\n",
       "Rison                                                     1\n",
       "Queensbury Town                                           1\n",
       "Baraga                                                    1\n",
       "Duval County Schools                                      1\n",
       "University of Tennessee: Memphis                          1\n",
       "Glen Carbon                                               1\n",
       "Bel-Nor                                                   1\n",
       "Red Lake County                                           1\n",
       "Leander                                                   1\n",
       "Red River                                                 1\n",
       "Lago Vista                                                1\n",
       "Sp: Wallowa County                                        1\n",
       "Bazetta Township                                          1\n",
       "Eldora                                                    1\n",
       "Eastfield College                                         1\n",
       "Chilton                                                   1\n",
       "Plainwell                                                 1\n",
       "Wilbraham                                                 1\n",
       "Upton                                                     1\n",
       "Cowanshannock Township                                    1\n",
       "Highway Patrol: Franklin County                           1\n",
       "Sloatsburg Village                                        1\n",
       "Utica Police Department                                   1\n",
       "Grove Hill                                                1\n",
       "Gearhart                                                  1\n",
       "Marmaduke                                                 1\n",
       "State Police: Bracken County                              1\n",
       "Pioneer Village                                           1\n",
       "Ocean County                                              1\n",
       "Texas A&M University: Galveston                           1\n",
       "Salt River Tribal                                         1\n",
       "Millersville                                              1\n",
       "Harvard                                                   1\n",
       "Kimball                                                   1\n",
       "Highway Patrol: Indian River County                       1\n",
       "Shillington                                               1\n",
       "Stallion Springs                                          1\n",
       "Marston                                                   1\n",
       "State Police: Craig County                                1\n",
       "Walkerton                                                 1\n",
       "L'Anse                                                    1\n",
       "Department of Parks and Recreation: Monterey Count        1\n",
       "State Patrol: Cedar County                                1\n",
       "Camillus Town and Villag                                  1\n",
       "Grant Joint Union High School                             1\n",
       "Shelter Island Town                                       1\n",
       "State Police: Lincoln                                     1\n",
       "Lake Lure                                                 1\n",
       "Buckeye Lake                                              1\n",
       "Pine Creek Township                                       1\n",
       "Shawneetown                                               1\n",
       "Carthage Village                                          1\n",
       "Evarts                                                    1\n",
       "Long Lake                                                 1\n",
       "Earlington                                                1\n",
       "Itasca                                                    1\n",
       "Noel                                                      1\n",
       "Milton Township                                           1\n",
       "San Francisco State Poli                                  1\n",
       "Escalon                                                   1\n",
       "Rolling Hills                                             1\n",
       "Panhandle                                                 1\n",
       "State Police: Prince William County                       1\n",
       "Dora                                                      1\n",
       "Pepperell                                                 1\n",
       "Mccaysville                                               1\n",
       "Amite County                                              1\n",
       "Parma-Sandstone                                           1\n",
       "Mokena                                                    1\n",
       "New Baden                                                 1\n",
       "Belvedere                                                 1\n",
       "Bloomfield Hills                                          1\n",
       "State Patrol: Loup County                                 1\n",
       "Isle Of Palms                                             1\n",
       "Sp: Crook County                                          1\n",
       "West Vincent Township Police Department                   1\n",
       "Terra Alta                                                1\n",
       "Cherokee Village                                          1\n",
       "Yates State Police                                        1\n",
       "South Jacksonville                                        1\n",
       "Greeleyville                                              1\n",
       "Irwin                                                     1\n",
       "Delbarton                                                 1\n",
       "Robbinsville                                              1\n",
       "Lower Windsor Township                                    1\n",
       "Twisp                                                     1\n",
       "Lake Orion                                                1\n",
       "Delaware County Park                                      1\n",
       "Southwest City                                            1\n",
       "Port Authority of New York & New Jersey                   1\n",
       "Carleton                                                  1\n",
       "Yardley                                                   1\n",
       "Pequea Township                                           1\n",
       "Mcconnellsburg                                            1\n",
       "Fort Gibson                                               1\n",
       "Bailey                                                    1\n",
       "Jasonville                                                1\n",
       "Quarryville                                               1\n",
       "Green Rock                                                1\n",
       "Elton                                                     1\n",
       "Jefferson Highway Patrol                                  1\n",
       "Wyomissing                                                1\n",
       "Biscayne Park                                             1\n",
       "Nahant                                                    1\n",
       "Fryeburg                                                  1\n",
       "Mullens                                                   1\n",
       "Wellfleet                                                 1\n",
       "Hayden                                                    1\n",
       "New Prague                                                1\n",
       "Broward Highway Patrol                                    1\n",
       "Clarinda                                                  1\n",
       "Chesterton                                                1\n",
       "Hackleburg                                                1\n",
       "Montgomery Village                                        1\n",
       "Jenkins Township                                          1\n",
       "Tool                                                      1\n",
       "State Park: Albany County                                 1\n",
       "East Washington                                           1\n",
       "Euharlee                                                  1\n",
       "San Bernardino State Pol                                  1\n",
       "Lenox                                                     1\n",
       "Hornersville                                              1\n",
       "Yellow Springs                                            1\n",
       "Lorena                                                    1\n",
       "Lakeside Park-Crestview                                   1\n",
       "Bon Homme County                                          1\n",
       "Menands Village                                           1\n",
       "Albia                                                     1\n",
       "Marlinton                                                 1\n",
       "West Mahanoy Township                                     1\n",
       "State Police: Morris County                               1\n",
       "Glouster                                                  1\n",
       "Santa Anna                                                1\n",
       "Vale                                                      1\n",
       "Lake Bluff                                                1\n",
       "West Richland                                             1\n",
       "Spenard Service District                                  1\n",
       "Atlanta Public Schools                                    1\n",
       "Divide County                                             1\n",
       "Windsor Township                                          1\n",
       "Ross                                                      1\n",
       "Newkirk                                                   1\n",
       "Central Virginia Training Center                          1\n",
       "Archbald                                                  1\n",
       "Department of Parks and Recreation: San Joaquin           1\n",
       "Boxborough                                                1\n",
       "Duxbury                                                   1\n",
       "Orland Hills                                              1\n",
       "Pinedale                                                  1\n",
       "University of Central Oklahoma                            1\n",
       "Malin                                                     1\n",
       "Hilltop                                                   1\n",
       "Orange Grove                                              1\n",
       "Bryant                                                    1\n",
       "Bunn                                                      1\n",
       "Flatonia                                                  1\n",
       "Hulbert                                                   1\n",
       "Parachute                                                 1\n",
       "Baggs                                                     1\n",
       "West Caln Township                                        1\n",
       "Atlantis                                                  1\n",
       "New Madrid                                                1\n",
       "Italy                                                     1\n",
       "Mendham Township                                          1\n",
       "Bureau of Criminal Idnt & Inv                             1\n",
       "Oxford Township                                           1\n",
       "Shallotte                                                 1\n",
       "Gouldsboro                                                1\n",
       "Atlantic                                                  1\n",
       "Palos Hills                                               1\n",
       "Sp: Middlesex County                                      1\n",
       "Plattsburg                                                1\n",
       "Troutman                                                  1\n",
       "Dunellen                                                  1\n",
       "Coulterville                                              1\n",
       "Moscow Mills                                              1\n",
       "Lexington Cnty Medical C                                  1\n",
       "Sp: Montgomery County                                     1\n",
       "Philipsburg                                               1\n",
       "Department of Parks and Recreation: Bay Area              1\n",
       "State Police: Rockingham County                           1\n",
       "Roaring Brook Township                                    1\n",
       "Three Forks                                               1\n",
       "Department of Parks and Recreation: Silverado             1\n",
       "Seneca State Police                                       1\n",
       "Yountville                                                1\n",
       "Dolores County                                            1\n",
       "Sp Bci: Beckley                                           1\n",
       "Meyersdale                                                1\n",
       "Ponder                                                    1\n",
       "Old Dominion University                                   1\n",
       "Glenville Town                                            1\n",
       "Sublette                                                  1\n",
       "Grayling                                                  1\n",
       "Port Allegany                                             1\n",
       "State Police: South Boston                                1\n",
       "Bee Cave                                                  1\n",
       "State Patrol: Dundy County                                1\n",
       "Ore City                                                  1\n",
       "Glen Rock                                                 1\n",
       "Upper Marlboro                                            1\n",
       "Flippin                                                   1\n",
       "Elmira Town                                               1\n",
       "Rye Township                                              1\n",
       "Log Lane Village                                          1\n",
       "Brownville                                                1\n",
       "State Police: Berkeley Springs                            1\n",
       "Owingsville                                               1\n",
       "Hegins Township                                           1\n",
       "Avoca                                                     1\n",
       "Decorah                                                   1\n",
       "Caspian                                                   1\n",
       "Mannford                                                  1\n",
       "Conneaut Lake Regional                                    1\n",
       "Capitol Park Police                                       1\n",
       "Argentine Township                                        1\n",
       "Oilton                                                    1\n",
       "Mexico Beach                                              1\n",
       "Garden County                                             1\n",
       "Harper                                                    1\n",
       "Haworth                                                   1\n",
       "Anthony                                                   1\n",
       "Mancelona                                                 1\n",
       "Limon                                                     1\n",
       "Hodgkins                                                  1\n",
       "Harbor Beach                                              1\n",
       "Yale University                                           1\n",
       "Anaconda                                                  1\n",
       "Bay Head                                                  1\n",
       "Peapack and Gladstone                                     1\n",
       "Kennebunk                                                 1\n",
       "Brockway                                                  1\n",
       "Belgrade                                                  1\n",
       "Vanceboro                                                 1\n",
       "Tiptonville                                               1\n",
       "Cresson Township                                          1\n",
       "Hoopeston                                                 1\n",
       "Shawnee Township                                          1\n",
       "West Frankfort                                            1\n",
       "Tioga State Police                                        1\n",
       "Sp: Gilliam County                                        1\n",
       "Commerce Township                                         1\n",
       "Seiling                                                   1\n",
       "Texas A&M University: College Statio                      1\n",
       "Bloomsbury                                                1\n",
       "Caddo Mills                                               1\n",
       "State Patrol: Hitchcock County                            1\n",
       "Hobart-Lawrence                                           1\n",
       "Zillah                                                    1\n",
       "Port St. Joe                                              1\n",
       "Ord                                                       1\n",
       "Merriam Woods                                             1\n",
       "Name: Agency, Length: 9264, dtype: int64"
      ]
     },
     "execution_count": 46,
     "metadata": {},
     "output_type": "execute_result"
    }
   ],
   "source": [
    "# New York City had the most killings between 1976 and 2015\n",
    "shr.Agency.value_counts()"
   ]
  },
  {
   "cell_type": "markdown",
   "metadata": {},
   "source": [
    "### Victims:"
   ]
  },
  {
   "cell_type": "code",
   "execution_count": 47,
   "metadata": {},
   "outputs": [
    {
     "data": {
      "text/plain": [
       "White                                364616\n",
       "Black                                342226\n",
       "Asian or Pacific Islander             10428\n",
       "Unknown                                7703\n",
       "American Indian or Alaskan Native      5259\n",
       "Name: VicRace, dtype: int64"
      ]
     },
     "execution_count": 47,
     "metadata": {},
     "output_type": "execute_result"
    }
   ],
   "source": [
    "# Race of victims\n",
    "shr['VicRace'].value_counts()"
   ]
  },
  {
   "cell_type": "code",
   "execution_count": 48,
   "metadata": {},
   "outputs": [
    {
     "data": {
      "text/plain": [
       "<matplotlib.axes._subplots.AxesSubplot at 0x117140050>"
      ]
     },
     "execution_count": 48,
     "metadata": {},
     "output_type": "execute_result"
    },
    {
     "data": {
      "image/png": "[encoded data removed]",
      "text/plain": [
       "<matplotlib.figure.Figure at 0x116bb9690>"
      ]
     },
     "metadata": {},
     "output_type": "display_data"
    }
   ],
   "source": [
    "shr['VicRace'].value_counts().plot(\"bar\",figsize=(12,6), fontsize=15,title=\"Race of Victims\")"
   ]
  },
  {
   "cell_type": "code",
   "execution_count": 49,
   "metadata": {},
   "outputs": [
    {
     "data": {
      "text/plain": [
       "Not of Hispanic origin     203006\n",
       "Unknown or not reported    169175\n",
       "Hispanic origin             74344\n",
       "Name: VicEthnic, dtype: int64"
      ]
     },
     "execution_count": 49,
     "metadata": {},
     "output_type": "execute_result"
    }
   ],
   "source": [
    "# Ethnicity of victims\n",
    "shr['VicEthnic'].value_counts()"
   ]
  },
  {
   "cell_type": "code",
   "execution_count": 50,
   "metadata": {},
   "outputs": [
    {
     "data": {
      "text/plain": [
       "<matplotlib.axes._subplots.AxesSubplot at 0x116d10710>"
      ]
     },
     "execution_count": 50,
     "metadata": {},
     "output_type": "execute_result"
    },
    {
     "data": {
      "image/png": "[encoded data removed]",
      "text/plain": [
       "<matplotlib.figure.Figure at 0x116bd2490>"
      ]
     },
     "metadata": {},
     "output_type": "display_data"
    }
   ],
   "source": [
    "shr['VicEthnic'].value_counts().plot(\"bar\",figsize=(12,6), fontsize=15,title=\"Ethnicity of Victims\")"
   ]
  },
  {
   "cell_type": "code",
   "execution_count": 51,
   "metadata": {},
   "outputs": [
    {
     "data": {
      "text/plain": [
       "Male       564727\n",
       "Female     164436\n",
       "Unknown      1069\n",
       "Name: VicSex, dtype: int64"
      ]
     },
     "execution_count": 51,
     "metadata": {},
     "output_type": "execute_result"
    }
   ],
   "source": [
    "# Victims' gender\n",
    "shr['VicSex'].value_counts()"
   ]
  },
  {
   "cell_type": "code",
   "execution_count": 52,
   "metadata": {},
   "outputs": [
    {
     "data": {
      "text/plain": [
       "<matplotlib.axes._subplots.AxesSubplot at 0x117a394d0>"
      ]
     },
     "execution_count": 52,
     "metadata": {},
     "output_type": "execute_result"
    },
    {
     "data": {
      "image/png": "[encoded data removed]",
      "text/plain": [
       "<matplotlib.figure.Figure at 0x116c79bd0>"
      ]
     },
     "metadata": {},
     "output_type": "display_data"
    }
   ],
   "source": [
    "shr['VicSex'].value_counts().plot(\"bar\",figsize=(12,6), fontsize=15,title=\"Gender of Victims\")"
   ]
  },
  {
   "cell_type": "code",
   "execution_count": 53,
   "metadata": {
    "scrolled": true
   },
   "outputs": [
    {
     "data": {
      "text/plain": [
       "22                      22713\n",
       "20                      22572\n",
       "25                      22560\n",
       "21                      22538\n",
       "23                      22282\n",
       "19                      21551\n",
       "24                      21506\n",
       "26                      20203\n",
       "27                      19305\n",
       "30                      18712\n",
       "28                      18107\n",
       "18                      18029\n",
       "29                      17921\n",
       "32                      15703\n",
       "31                      15573\n",
       "33                      14187\n",
       "35                      14155\n",
       "34                      14139\n",
       "17                      13695\n",
       "36                      12345\n",
       "37                      11698\n",
       "38                      11264\n",
       "40                      10997\n",
       "39                      10687\n",
       "42                       9456\n",
       "41                       9376\n",
       "16                       9278\n",
       "999                      8932\n",
       "0                        8901\n",
       "43                       8555\n",
       "45                       8083\n",
       "44                       7807\n",
       "46                       7369\n",
       "47                       6910\n",
       "50                       6443\n",
       "48                       6397\n",
       "49                       6177\n",
       "15                       5751\n",
       "1                        5401\n",
       "51                       5350\n",
       "52                       5296\n",
       "53                       4891\n",
       "54                       4614\n",
       "55                       4424\n",
       "56                       4015\n",
       "57                       3837\n",
       "2                        3724\n",
       "22                       3531\n",
       "25                       3507\n",
       "24                       3411\n",
       "58                       3370\n",
       "21                       3355\n",
       "26                       3328\n",
       "23                       3300\n",
       "60                       3281\n",
       "59                       3269\n",
       "14                       3260\n",
       "20                       3209\n",
       "19                       3061\n",
       "27                       2991\n",
       "62                       2953\n",
       "28                       2919\n",
       "30                       2842\n",
       "61                       2831\n",
       "29                       2743\n",
       "63                       2579\n",
       "18                       2554\n",
       "65                       2492\n",
       "3                        2341\n",
       "31                       2314\n",
       "32                       2301\n",
       "64                       2297\n",
       "33                       2173\n",
       "35                       2164\n",
       "34                       2136\n",
       "67                       2045\n",
       "17                       1977\n",
       "66                       1903\n",
       "36                       1890\n",
       "13                       1873\n",
       "68                       1866\n",
       "70                       1794\n",
       "40                       1761\n",
       "38                       1730\n",
       "69                       1709\n",
       "37                       1707\n",
       "39                       1649\n",
       "4                        1633\n",
       "72                       1601\n",
       "71                       1571\n",
       "0                        1569\n",
       "42                       1535\n",
       "41                       1449\n",
       "75                       1386\n",
       "73                       1383\n",
       "45                       1376\n",
       "74                       1355\n",
       "43                       1326\n",
       "44                       1302\n",
       "16                       1289\n",
       "12                       1250\n",
       "76                       1195\n",
       "5                        1190\n",
       "999                      1143\n",
       "50                       1123\n",
       "47                       1115\n",
       "78                       1107\n",
       "77                       1102\n",
       "79                       1080\n",
       "46                       1071\n",
       "80                       1048\n",
       "49                       1000\n",
       "6                         995\n",
       "48                        993\n",
       "52                        921\n",
       "81                        905\n",
       "7                         890\n",
       "8                         883\n",
       "11                        871\n",
       "10                        846\n",
       "15                        842\n",
       "9                         831\n",
       "51                        829\n",
       "82                        820\n",
       "53                        808\n",
       "83                        766\n",
       "54                        745\n",
       "55                        728\n",
       "56                        711\n",
       "1                         694\n",
       "84                        668\n",
       "85                        628\n",
       "57                        627\n",
       "2                         606\n",
       "58                        584\n",
       "60                        563\n",
       "86                        554\n",
       "62                        525\n",
       "59                        520\n",
       "14                        502\n",
       "61                        500\n",
       "63                        474\n",
       "87                        452\n",
       "65                        448\n",
       "64                        407\n",
       "88                        401\n",
       "3                         373\n",
       "67                        359\n",
       "66                        333\n",
       "70                        328\n",
       "69                        312\n",
       "89                        308\n",
       "68                        308\n",
       "72                        304\n",
       "90                        289\n",
       "13                        281\n",
       "4                         272\n",
       "73                        258\n",
       "75                        243\n",
       "71                        238\n",
       "74                        235\n",
       "76                        230\n",
       "77                        199\n",
       "5                         197\n",
       "91                        195\n",
       "12                        191\n",
       "78                        183\n",
       "79                        173\n",
       "7                         169\n",
       "11                        168\n",
       "80                        158\n",
       "6                         158\n",
       "10                        155\n",
       "92                        152\n",
       "9                         150\n",
       "82                        149\n",
       "81                        140\n",
       "93                        139\n",
       "8                         134\n",
       "99 years old or more      124\n",
       "83                        120\n",
       "94                        112\n",
       "84                        109\n",
       "86                         93\n",
       "85                         90\n",
       "95                         85\n",
       "87                         70\n",
       "88                         53\n",
       "90                         43\n",
       "96                         39\n",
       "89                         39\n",
       "91                         39\n",
       "97                         37\n",
       "92                         26\n",
       "98                         24\n",
       "94                         21\n",
       "93                         14\n",
       "95                         12\n",
       "98                          9\n",
       "97                          8\n",
       "96                          3\n",
       "Name: VicAge, dtype: int64"
      ]
     },
     "execution_count": 53,
     "metadata": {},
     "output_type": "execute_result"
    }
   ],
   "source": [
    "shr.VicAge.value_counts()"
   ]
  },
  {
   "cell_type": "code",
   "execution_count": 54,
   "metadata": {
    "collapsed": true
   },
   "outputs": [],
   "source": [
    "#shr.VicAge.unique()"
   ]
  },
  {
   "cell_type": "code",
   "execution_count": 55,
   "metadata": {
    "collapsed": true
   },
   "outputs": [],
   "source": [
    "# 999/'999' stand for missing values. I'm changing those to NaN\n",
    "shr.VicAge.replace('999',np.nan, inplace=True)"
   ]
  },
  {
   "cell_type": "code",
   "execution_count": 56,
   "metadata": {
    "collapsed": true
   },
   "outputs": [],
   "source": [
    "shr.VicAge.replace(999, np.nan, inplace=True)"
   ]
  },
  {
   "cell_type": "code",
   "execution_count": 57,
   "metadata": {
    "collapsed": true
   },
   "outputs": [],
   "source": [
    "shr.VicAge.replace('99 years old or more', 99, inplace=True)"
   ]
  },
  {
   "cell_type": "code",
   "execution_count": 58,
   "metadata": {
    "collapsed": true
   },
   "outputs": [],
   "source": [
    "#shr.VicAge.unique()"
   ]
  },
  {
   "cell_type": "code",
   "execution_count": 59,
   "metadata": {
    "collapsed": true
   },
   "outputs": [],
   "source": [
    "shr.VicAge = shr.VicAge.astype(float)"
   ]
  },
  {
   "cell_type": "code",
   "execution_count": 60,
   "metadata": {},
   "outputs": [
    {
     "data": {
      "text/plain": [
       "dtype('float64')"
      ]
     },
     "execution_count": 60,
     "metadata": {},
     "output_type": "execute_result"
    }
   ],
   "source": [
    "# Finally, floats :) \n",
    "shr.VicAge.dtype"
   ]
  },
  {
   "cell_type": "code",
   "execution_count": 61,
   "metadata": {},
   "outputs": [
    {
     "data": {
      "text/plain": [
       "count    720157.000000\n",
       "mean         32.781835\n",
       "std          16.171738\n",
       "min           0.000000\n",
       "25%          22.000000\n",
       "50%          29.000000\n",
       "75%          41.000000\n",
       "max          99.000000\n",
       "Name: VicAge, dtype: float64"
      ]
     },
     "execution_count": 61,
     "metadata": {},
     "output_type": "execute_result"
    }
   ],
   "source": [
    "shr.VicAge.describe()"
   ]
  },
  {
   "cell_type": "code",
   "execution_count": 62,
   "metadata": {},
   "outputs": [
    {
     "data": {
      "text/plain": [
       "29.0"
      ]
     },
     "execution_count": 62,
     "metadata": {},
     "output_type": "execute_result"
    }
   ],
   "source": [
    "shr.VicAge.median()"
   ]
  },
  {
   "cell_type": "markdown",
   "metadata": {},
   "source": [
    "### Offenders:"
   ]
  },
  {
   "cell_type": "code",
   "execution_count": 63,
   "metadata": {
    "scrolled": false
   },
   "outputs": [
    {
     "data": {
      "text/plain": [
       "Male       458229\n",
       "Unknown    213298\n",
       "Female      58705\n",
       "Name: OffSex, dtype: int64"
      ]
     },
     "execution_count": 63,
     "metadata": {},
     "output_type": "execute_result"
    }
   ],
   "source": [
    "shr['OffSex'].value_counts()"
   ]
  },
  {
   "cell_type": "code",
   "execution_count": 64,
   "metadata": {},
   "outputs": [
    {
     "data": {
      "text/plain": [
       "<matplotlib.axes._subplots.AxesSubplot at 0x1180e21d0>"
      ]
     },
     "execution_count": 64,
     "metadata": {},
     "output_type": "execute_result"
    },
    {
     "data": {
      "image/png": "[encoded data removed]",
      "text/plain": [
       "<matplotlib.figure.Figure at 0x1170eb590>"
      ]
     },
     "metadata": {},
     "output_type": "display_data"
    }
   ],
   "source": [
    "shr['OffSex'].value_counts().plot(\"bar\",figsize=(12,6), fontsize=15,title=\"Gender of Offenders\")"
   ]
  },
  {
   "cell_type": "code",
   "execution_count": 5,
   "metadata": {
    "scrolled": true
   },
   "outputs": [
    {
     "data": {
      "text/plain": [
       "White                                251969\n",
       "Black                                249012\n",
       "Unknown                              220620\n",
       "Asian or Pacific Islander              6397\n",
       "American Indian or Alaskan Native      4173\n",
       "Name: OffRace, dtype: int64"
      ]
     },
     "execution_count": 5,
     "metadata": {},
     "output_type": "execute_result"
    }
   ],
   "source": [
    "# Race of offenders\n",
    "shr['OffRace'].value_counts()"
   ]
  },
  {
   "cell_type": "code",
   "execution_count": 6,
   "metadata": {},
   "outputs": [
    {
     "data": {
      "text/plain": [
       "<matplotlib.axes._subplots.AxesSubplot at 0x11e623810>"
      ]
     },
     "execution_count": 6,
     "metadata": {},
     "output_type": "execute_result"
    },
    {
     "data": {
      "image/png": "[encoded data removed]",
      "text/plain": [
       "<matplotlib.figure.Figure at 0x10d9fad50>"
      ]
     },
     "metadata": {},
     "output_type": "display_data"
    }
   ],
   "source": [
    "shr['OffRace'].value_counts().plot(kind='bar' ,figsize=(12,6), fontsize=15,title=\"Race of Offenders\")"
   ]
  },
  {
   "cell_type": "code",
   "execution_count": 67,
   "metadata": {},
   "outputs": [
    {
     "data": {
      "text/plain": [
       "Unknown or not reported    249484\n",
       "Not of Hispanic origin     148687\n",
       "Hispanic origin             47862\n",
       "Name: OffEthnic, dtype: int64"
      ]
     },
     "execution_count": 67,
     "metadata": {},
     "output_type": "execute_result"
    }
   ],
   "source": [
    "# Ethnicity of offenders\n",
    "shr['OffEthnic'].value_counts()"
   ]
  },
  {
   "cell_type": "code",
   "execution_count": 68,
   "metadata": {},
   "outputs": [
    {
     "data": {
      "text/plain": [
       "<matplotlib.axes._subplots.AxesSubplot at 0x116f06a50>"
      ]
     },
     "execution_count": 68,
     "metadata": {},
     "output_type": "execute_result"
    },
    {
     "data": {
      "image/png": "[encoded data removed]",
      "text/plain": [
       "<matplotlib.figure.Figure at 0x11868e3d0>"
      ]
     },
     "metadata": {},
     "output_type": "display_data"
    }
   ],
   "source": [
    "shr['OffEthnic'].value_counts().plot(kind='bar' ,figsize=(12,6), fontsize=15,title=\"Ethnicity of Known Offenders\")"
   ]
  },
  {
   "cell_type": "code",
   "execution_count": 69,
   "metadata": {},
   "outputs": [
    {
     "data": {
      "text/plain": [
       "array(['55', '67', '53', '35', '25', '26', '29', '19', '30', '42', '43',\n",
       "       '27', '45', '56', '18', '33', '57', '14', '16', '78', '23', '999',\n",
       "       '70', '17', '37', '15', '39', '10', '40', '41', '20', '51', '24',\n",
       "       '32', '44', '36', '58', '28', '52', '31', '21', '61', '22', '34',\n",
       "       '38', '64', '48', '84', '65', '76', '46', '71', '49', '62', '79',\n",
       "       '68', '66', '50', '81', '47', '63', '59', '13', '74', '11', '77',\n",
       "       '73', '88', '12', '54', '60', '75', '83', '3', '86', '69',\n",
       "       '99 years old or more', '72', '85', '9', '94', '8', '80', '98', '7',\n",
       "       '82', '5', '87', '6', '2', '4', '90', '89', '92', '91', 38, 999, 19,\n",
       "       25, 35, 42, 21, 20, 27, 29, 34, 31, 36, 23, 32, 26, 39, 16, 28, 47,\n",
       "       30, 24, 44, 60, 50, 33, 37, 53, 22, 18, 68, 15, 49, 40, 43, 56, 55,\n",
       "       17, 59, 69, 48, 46, 41, 57, 70, 62, 12, 52, 67, 64, 13, 45, 79, 58,\n",
       "       54, 65, 61, 66, 8, 63, 71, 51, 74, 72, 11, 77, 10, 84, 14, 86, 3,\n",
       "       83, 75, 85, 82, 91, 89, 81, 2, 93, 73, 9, 76, 78, 6, 80, 5, 87,\n",
       "       '1 year old', '93', '95', 88, 7, 90, 92, 96, 94, 95, 4, '96', '97'], dtype=object)"
      ]
     },
     "execution_count": 69,
     "metadata": {},
     "output_type": "execute_result"
    }
   ],
   "source": [
    "# 999/'999' is used for missing values \n",
    "shr.OffAge.unique()"
   ]
  },
  {
   "cell_type": "code",
   "execution_count": 70,
   "metadata": {
    "collapsed": true,
    "scrolled": true
   },
   "outputs": [],
   "source": [
    "# Replace 999/'999' with np.nap\n",
    "shr.OffAge.replace([999,'999'], np.nan, inplace=True)"
   ]
  },
  {
   "cell_type": "code",
   "execution_count": 71,
   "metadata": {
    "collapsed": true
   },
   "outputs": [],
   "source": [
    "shr.OffAge.replace('99 years old or more', 100, inplace=True)"
   ]
  },
  {
   "cell_type": "code",
   "execution_count": 72,
   "metadata": {
    "collapsed": true
   },
   "outputs": [],
   "source": [
    "shr.OffAge.replace('1 year old', 1, inplace=True)"
   ]
  },
  {
   "cell_type": "code",
   "execution_count": 73,
   "metadata": {
    "scrolled": true
   },
   "outputs": [
    {
     "data": {
      "text/plain": [
       "20     19715\n",
       "19     18441\n",
       "21     17491\n",
       "18     17081\n",
       "22     16991\n",
       "23     16127\n",
       "25     15940\n",
       "24     15174\n",
       "26     13388\n",
       "17     12917\n",
       "27     12730\n",
       "30     12189\n",
       "28     12129\n",
       "29     11123\n",
       "31      9728\n",
       "32      9660\n",
       "33      8838\n",
       "35      8641\n",
       "16      8533\n",
       "34      8345\n",
       "36      7407\n",
       "37      7127\n",
       "38      6739\n",
       "40      6375\n",
       "39      6308\n",
       "41      5610\n",
       "42      5383\n",
       "43      5040\n",
       "15      4858\n",
       "45      4739\n",
       "44      4691\n",
       "20      4655\n",
       "25      4558\n",
       "22      4353\n",
       "19      4352\n",
       "21      4230\n",
       "23      4169\n",
       "18      4003\n",
       "24      3979\n",
       "46      3931\n",
       "47      3892\n",
       "26      3836\n",
       "27      3710\n",
       "30      3688\n",
       "48      3613\n",
       "28      3566\n",
       "29      3512\n",
       "49      3434\n",
       "50      3417\n",
       "17      3106\n",
       "31      2955\n",
       "32      2939\n",
       "51      2934\n",
       "52      2745\n",
       "33      2619\n",
       "35      2595\n",
       "34      2452\n",
       "53      2444\n",
       "14      2359\n",
       "54      2249\n",
       "16      2212\n",
       "36      2140\n",
       "55      2128\n",
       "37      2003\n",
       "56      1923\n",
       "38      1818\n",
       "57      1715\n",
       "40      1714\n",
       "39      1709\n",
       "58      1620\n",
       "59      1498\n",
       "42      1404\n",
       "41      1393\n",
       "15      1332\n",
       "60      1320\n",
       "43      1232\n",
       "61      1180\n",
       "44      1149\n",
       "45      1108\n",
       "62      1067\n",
       "13      1026\n",
       "63      1008\n",
       "64      1004\n",
       "46       900\n",
       "48       886\n",
       "47       877\n",
       "65       872\n",
       "66       767\n",
       "50       760\n",
       "49       757\n",
       "67       748\n",
       "68       691\n",
       "51       671\n",
       "14       626\n",
       "52       608\n",
       "53       599\n",
       "69       574\n",
       "54       538\n",
       "55       533\n",
       "70       523\n",
       "56       507\n",
       "71       498\n",
       "72       489\n",
       "12       438\n",
       "57       424\n",
       "73       412\n",
       "58       407\n",
       "59       393\n",
       "60       393\n",
       "74       356\n",
       "75       356\n",
       "62       341\n",
       "76       333\n",
       "61       303\n",
       "77       301\n",
       "65       273\n",
       "13       269\n",
       "63       268\n",
       "64       259\n",
       "78       253\n",
       "79       233\n",
       "81       233\n",
       "80       228\n",
       "11       208\n",
       "66       201\n",
       "67       188\n",
       "69       184\n",
       "68       183\n",
       "82       183\n",
       "70       168\n",
       "84       157\n",
       "83       157\n",
       "10       154\n",
       "71       149\n",
       "73       137\n",
       "85       131\n",
       "12       124\n",
       "72       112\n",
       "100      102\n",
       "86       102\n",
       "87       102\n",
       "74        97\n",
       "75        96\n",
       "76        85\n",
       "77        79\n",
       "9         79\n",
       "88        74\n",
       "11        71\n",
       "78        67\n",
       "79        62\n",
       "82        53\n",
       "80        52\n",
       "89        52\n",
       "6         51\n",
       "8         51\n",
       "90        50\n",
       "81        43\n",
       "83        41\n",
       "1         36\n",
       "7         35\n",
       "4         34\n",
       "10        34\n",
       "85        30\n",
       "91        29\n",
       "5         28\n",
       "92        28\n",
       "8         25\n",
       "9         25\n",
       "3         25\n",
       "87        22\n",
       "88        19\n",
       "7         17\n",
       "93        17\n",
       "86        15\n",
       "84        13\n",
       "89        12\n",
       "94        12\n",
       "5         11\n",
       "6         10\n",
       "90        10\n",
       "98         9\n",
       "91         8\n",
       "3          7\n",
       "2          6\n",
       "95         6\n",
       "92         5\n",
       "96         4\n",
       "96         3\n",
       "97         3\n",
       "93         3\n",
       "4          3\n",
       "95         3\n",
       "2          3\n",
       "94         2\n",
       "Name: OffAge, dtype: int64"
      ]
     },
     "execution_count": 73,
     "metadata": {},
     "output_type": "execute_result"
    }
   ],
   "source": [
    "shr['OffAge'].value_counts()"
   ]
  },
  {
   "cell_type": "code",
   "execution_count": 74,
   "metadata": {},
   "outputs": [
    {
     "data": {
      "text/plain": [
       "array(['55', '67', '53', '35', '25', '26', '29', '19', '30', '42', '43',\n",
       "       '27', '45', '56', '18', '33', '57', '14', '16', '78', '23', nan,\n",
       "       '70', '17', '37', '15', '39', '10', '40', '41', '20', '51', '24',\n",
       "       '32', '44', '36', '58', '28', '52', '31', '21', '61', '22', '34',\n",
       "       '38', '64', '48', '84', '65', '76', '46', '71', '49', '62', '79',\n",
       "       '68', '66', '50', '81', '47', '63', '59', '13', '74', '11', '77',\n",
       "       '73', '88', '12', '54', '60', '75', '83', '3', '86', '69', 100,\n",
       "       '72', '85', '9', '94', '8', '80', '98', '7', '82', '5', '87', '6',\n",
       "       '2', '4', '90', '89', '92', '91', 38, 19, 25, 35, 42, 21, 20, 27,\n",
       "       29, 34, 31, 36, 23, 32, 26, 39, 16, 28, 47, 30, 24, 44, 60, 50, 33,\n",
       "       37, 53, 22, 18, 68, 15, 49, 40, 43, 56, 55, 17, 59, 69, 48, 46, 41,\n",
       "       57, 70, 62, 12, 52, 67, 64, 13, 45, 79, 58, 54, 65, 61, 66, 8, 63,\n",
       "       71, 51, 74, 72, 11, 77, 10, 84, 14, 86, 3, 83, 75, 85, 82, 91, 89,\n",
       "       81, 2, 93, 73, 9, 76, 78, 6, 80, 5, 87, 1, '93', '95', 88, 7, 90,\n",
       "       92, 96, 94, 95, 4, '96', '97'], dtype=object)"
      ]
     },
     "execution_count": 74,
     "metadata": {},
     "output_type": "execute_result"
    }
   ],
   "source": [
    "shr[\"OffAge\"].unique()"
   ]
  },
  {
   "cell_type": "code",
   "execution_count": 75,
   "metadata": {
    "collapsed": true
   },
   "outputs": [],
   "source": [
    "# convert to integers\n",
    "shr['OffAge'] = shr[\"OffAge\"].astype(int, errors='ignore')"
   ]
  },
  {
   "cell_type": "code",
   "execution_count": 76,
   "metadata": {
    "collapsed": true
   },
   "outputs": [],
   "source": [
    "# For some reason converting to integers doesn't work... \n",
    "#shr['OffAge'] = shr['OffAge'].astype(int, errors ='ignore')"
   ]
  },
  {
   "cell_type": "code",
   "execution_count": 77,
   "metadata": {
    "collapsed": true
   },
   "outputs": [],
   "source": [
    "# But to floats does!\n",
    "shr['OffAge'] = pd.to_numeric(shr['OffAge'], errors = 'coerce')"
   ]
  },
  {
   "cell_type": "code",
   "execution_count": 78,
   "metadata": {},
   "outputs": [
    {
     "data": {
      "text/plain": [
       "dtype('float64')"
      ]
     },
     "execution_count": 78,
     "metadata": {},
     "output_type": "execute_result"
    }
   ],
   "source": [
    "shr['OffAge'].dtypes"
   ]
  },
  {
   "cell_type": "code",
   "execution_count": 79,
   "metadata": {},
   "outputs": [
    {
     "data": {
      "text/plain": [
       "count    488750.000000\n",
       "mean         30.908211\n",
       "std          12.880154\n",
       "min           1.000000\n",
       "25%          21.000000\n",
       "50%          28.000000\n",
       "75%          37.000000\n",
       "max         100.000000\n",
       "Name: OffAge, dtype: float64"
      ]
     },
     "execution_count": 79,
     "metadata": {},
     "output_type": "execute_result"
    }
   ],
   "source": [
    "shr['OffAge'].describe()"
   ]
  },
  {
   "cell_type": "code",
   "execution_count": 80,
   "metadata": {},
   "outputs": [
    {
     "data": {
      "text/plain": [
       "28.0"
      ]
     },
     "execution_count": 80,
     "metadata": {},
     "output_type": "execute_result"
    }
   ],
   "source": [
    "shr['OffAge'].median()"
   ]
  },
  {
   "cell_type": "markdown",
   "metadata": {},
   "source": [
    "### Nature of Incidents"
   ]
  },
  {
   "cell_type": "code",
   "execution_count": 81,
   "metadata": {
    "scrolled": true
   },
   "outputs": [
    {
     "data": {
      "text/plain": [
       "array(['Husband', 'Acquaintance', 'Wife', 'Brother', 'Friend',\n",
       "       'Relationship not determined', 'Stranger', 'In-law', 'Stepfather',\n",
       "       'Boyfriend', 'Father', 'Neighbor', 'Common-law husband',\n",
       "       'Other family', 'Ex-husband', 'Stepson', 'Homosexual relationship',\n",
       "       'Daughter', 'Common-law wife', 'Other - known to victim', 'Son',\n",
       "       'Girlfriend', 'Sister', 'Ex-wife', 'Mother', 'Employee',\n",
       "       'Stepdaughter', 'Employer', 'Stepmother'], dtype=object)"
      ]
     },
     "execution_count": 81,
     "metadata": {},
     "output_type": "execute_result"
    }
   ],
   "source": [
    "# Relationships between offender(s) and victim(s)\n",
    "shr.Relationship.unique()"
   ]
  },
  {
   "cell_type": "code",
   "execution_count": 82,
   "metadata": {
    "scrolled": true
   },
   "outputs": [
    {
     "data": {
      "text/plain": [
       "Relationship not determined    272234\n",
       "Acquaintance                   147536\n",
       "Stranger                       110161\n",
       "Other - known to victim         32259\n",
       "Wife                            27259\n",
       "Friend                          25606\n",
       "Girlfriend                      18320\n",
       "Husband                         11677\n",
       "Son                             11326\n",
       "Other family                    10806\n",
       "Boyfriend                        8473\n",
       "Daughter                         8446\n",
       "Neighbor                         7721\n",
       "Brother                          6481\n",
       "Father                           5202\n",
       "Mother                           4859\n",
       "In-law                           4654\n",
       "Common-law wife                  3175\n",
       "Common-law husband               2663\n",
       "Ex-wife                          2282\n",
       "Stepfather                       1645\n",
       "Homosexual relationship          1591\n",
       "Sister                           1511\n",
       "Stepson                          1399\n",
       "Ex-husband                        851\n",
       "Stepdaughter                      850\n",
       "Employer                          564\n",
       "Employee                          434\n",
       "Stepmother                        247\n",
       "Name: Relationship, dtype: int64"
      ]
     },
     "execution_count": 82,
     "metadata": {},
     "output_type": "execute_result"
    }
   ],
   "source": [
    "shr.Relationship.value_counts()"
   ]
  },
  {
   "cell_type": "code",
   "execution_count": 83,
   "metadata": {
    "scrolled": true
   },
   "outputs": [
    {
     "data": {
      "text/plain": [
       "Relationship                 Solved\n",
       "Acquaintance                 Yes       144996\n",
       "                             No          2540\n",
       "Boyfriend                    Yes         8454\n",
       "                             No            19\n",
       "Brother                      Yes         6462\n",
       "                             No            19\n",
       "Common-law husband           Yes         2653\n",
       "                             No            10\n",
       "Common-law wife              Yes         3162\n",
       "                             No            13\n",
       "Daughter                     Yes         8386\n",
       "                             No            60\n",
       "Employee                     Yes          429\n",
       "                             No             5\n",
       "Employer                     Yes          564\n",
       "Ex-husband                   Yes          846\n",
       "                             No             5\n",
       "Ex-wife                      Yes         2274\n",
       "                             No             8\n",
       "Father                       Yes         5191\n",
       "                             No            11\n",
       "Friend                       Yes        25340\n",
       "                             No           266\n",
       "Girlfriend                   Yes        18263\n",
       "                             No            57\n",
       "Homosexual relationship      Yes         1470\n",
       "                             No           121\n",
       "Husband                      Yes        11640\n",
       "                             No            37\n",
       "In-law                       Yes         4640\n",
       "                             No            14\n",
       "Mother                       Yes         4846\n",
       "                             No            13\n",
       "Neighbor                     Yes         7677\n",
       "                             No            44\n",
       "Other - known to victim      Yes        29586\n",
       "                             No          2673\n",
       "Other family                 Yes        10723\n",
       "                             No            83\n",
       "Relationship not determined  No        196470\n",
       "                             Yes        75764\n",
       "Sister                       Yes         1506\n",
       "                             No             5\n",
       "Son                          Yes        11251\n",
       "                             No            75\n",
       "Stepdaughter                 Yes          850\n",
       "Stepfather                   Yes         1642\n",
       "                             No             3\n",
       "Stepmother                   Yes          247\n",
       "Stepson                      Yes         1396\n",
       "                             No             3\n",
       "Stranger                     Yes        99532\n",
       "                             No         10629\n",
       "Wife                         Yes        27198\n",
       "                             No            61\n",
       "Name: Solved, dtype: int64"
      ]
     },
     "execution_count": 83,
     "metadata": {},
     "output_type": "execute_result"
    }
   ],
   "source": [
    "shr.groupby('Relationship').Solved.value_counts()"
   ]
  },
  {
   "cell_type": "code",
   "execution_count": 84,
   "metadata": {},
   "outputs": [
    {
     "data": {
      "text/plain": [
       "array(['Murder and non-negligent manslaughter',\n",
       "       'Manslaughter by negligence'], dtype=object)"
      ]
     },
     "execution_count": 84,
     "metadata": {},
     "output_type": "execute_result"
    }
   ],
   "source": [
    "# \"Type\" of murder\n",
    "shr.Homicide.unique()"
   ]
  },
  {
   "cell_type": "code",
   "execution_count": 85,
   "metadata": {
    "scrolled": true
   },
   "outputs": [
    {
     "data": {
      "text/plain": [
       "Murder and non-negligent manslaughter    719981\n",
       "Manslaughter by negligence                10251\n",
       "Name: Homicide, dtype: int64"
      ]
     },
     "execution_count": 85,
     "metadata": {},
     "output_type": "execute_result"
    }
   ],
   "source": [
    "shr.Homicide.value_counts()"
   ]
  },
  {
   "cell_type": "code",
   "execution_count": 86,
   "metadata": {},
   "outputs": [
    {
     "data": {
      "text/plain": [
       "Handgun - pistol, revolver, etc         360177\n",
       "Knife or cutting instrument             110644\n",
       "Firearm, type not stated                 52510\n",
       "Personal weapons, includes beating       42893\n",
       "Shotgun                                  37765\n",
       "Other or type unknown                    36228\n",
       "Blunt object - hammer, club, etc         33588\n",
       "Rifle                                    27968\n",
       "Strangulation - hanging                   9689\n",
       "Fire                                      7207\n",
       "Asphyxiation - includes death by gas      4470\n",
       "Other gun                                 2474\n",
       "Narcotics or drugs, sleeping pills        1829\n",
       "Drowning                                  1447\n",
       "Explosives                                 595\n",
       "Poison - does not include gas              503\n",
       "Pushed or thrown out window                245\n",
       "Name: Weapon, dtype: int64"
      ]
     },
     "execution_count": 86,
     "metadata": {},
     "output_type": "execute_result"
    }
   ],
   "source": [
    "# Weapon of choice: \n",
    "shr.Weapon.value_counts()"
   ]
  },
  {
   "cell_type": "code",
   "execution_count": 87,
   "metadata": {},
   "outputs": [
    {
     "data": {
      "text/plain": [
       "<matplotlib.axes._subplots.AxesSubplot at 0x1186c8210>"
      ]
     },
     "execution_count": 87,
     "metadata": {},
     "output_type": "execute_result"
    },
    {
     "data": {
      "image/png": "[encoded data removed]",
      "text/plain": [
       "<matplotlib.figure.Figure at 0x118928650>"
      ]
     },
     "metadata": {},
     "output_type": "display_data"
    }
   ],
   "source": [
    "shr.Weapon.value_counts().plot(\"bar\",figsize=(12,6), fontsize=15,title=\"Murders by Type of Weapon\")"
   ]
  },
  {
   "cell_type": "code",
   "execution_count": 88,
   "metadata": {},
   "outputs": [
    {
     "data": {
      "text/plain": [
       "0     642606\n",
       "1      60143\n",
       "2      17472\n",
       "3       7162\n",
       "4       1659\n",
       "5        654\n",
       "6        237\n",
       "7        139\n",
       "8         61\n",
       "9         50\n",
       "10        45\n",
       "34         4\n",
       "Name: OffCount, dtype: int64"
      ]
     },
     "execution_count": 88,
     "metadata": {},
     "output_type": "execute_result"
    }
   ],
   "source": [
    "shr.OffCount.value_counts()"
   ]
  },
  {
   "cell_type": "code",
   "execution_count": 89,
   "metadata": {},
   "outputs": [
    {
     "data": {
      "text/plain": [
       "0     672412\n",
       "1      42767\n",
       "2       9037\n",
       "3       3163\n",
       "4       1161\n",
       "5        561\n",
       "6        315\n",
       "9        314\n",
       "8        177\n",
       "10       167\n",
       "7        158\n",
       "Name: VicCount, dtype: int64"
      ]
     },
     "execution_count": 89,
     "metadata": {},
     "output_type": "execute_result"
    }
   ],
   "source": [
    "shr.VicCount.value_counts()"
   ]
  },
  {
   "cell_type": "code",
   "execution_count": 90,
   "metadata": {
    "scrolled": true
   },
   "outputs": [
    {
     "data": {
      "text/plain": [
       "Single victim/single offender           403907\n",
       "Single victim/unknown offender(s)       195309\n",
       "Single victim/multiple offenders         73298\n",
       "Multiple victims/single offender         32446\n",
       "Multiple victims/unknown offender(s)     15680\n",
       "Multiple victims/multiple offenders       9592\n",
       "Name: Situation, dtype: int64"
      ]
     },
     "execution_count": 90,
     "metadata": {},
     "output_type": "execute_result"
    }
   ],
   "source": [
    "shr.Situation.value_counts()"
   ]
  },
  {
   "cell_type": "code",
   "execution_count": 91,
   "metadata": {},
   "outputs": [
    {
     "data": {
      "text/plain": [
       "<matplotlib.axes._subplots.AxesSubplot at 0x11347f410>"
      ]
     },
     "execution_count": 91,
     "metadata": {},
     "output_type": "execute_result"
    },
    {
     "data": {
      "image/png": "[encoded data removed]",
      "text/plain": [
       "<matplotlib.figure.Figure at 0x118a5c1d0>"
      ]
     },
     "metadata": {},
     "output_type": "display_data"
    }
   ],
   "source": [
    "shr.Situation.value_counts().plot(\"barh\",figsize=(12,6), fontsize=15,title=\"Victims vs. Offenders\")"
   ]
  },
  {
   "cell_type": "code",
   "execution_count": 92,
   "metadata": {},
   "outputs": [
    {
     "data": {
      "text/plain": [
       "array(['Other arguments', 'Felon killed by private citizen', 'Other',\n",
       "       'Circumstances undetermined', 'Argument over money or property',\n",
       "       'Other negligent handling of gun',\n",
       "       'Brawl due to influence of alcohol', 'Lovers triangle', 'Burglary',\n",
       "       'All suspected felony type', 'Other - not specified',\n",
       "       'Felon killed by police', 'Arson', 'Robbery', 'Rape',\n",
       "       'Juvenile gang killings', 'Narcotic drug laws', 'Other sex offense',\n",
       "       'Larceny', 'Gambling', 'All other manslaughter by negligence',\n",
       "       'Children playing with gun', 'Child killed by babysitter',\n",
       "       'Brawl due to influence of narcotics', 'Sniper attack',\n",
       "       'Gangland killings', 'Institutional killings',\n",
       "       'Prostitution and commercialized vice', 'Motor vehicle theft',\n",
       "       'Victim shot in hunting accident', 'Abortion',\n",
       "       'Gun-cleaning death - other than self'], dtype=object)"
      ]
     },
     "execution_count": 92,
     "metadata": {},
     "output_type": "execute_result"
    }
   ],
   "source": [
    "# Circumstance of homicide\n",
    "shr.Circumstance.unique()"
   ]
  },
  {
   "cell_type": "code",
   "execution_count": 93,
   "metadata": {
    "scrolled": true
   },
   "outputs": [
    {
     "data": {
      "text/plain": [
       "Other arguments                         194117\n",
       "Circumstances undetermined              186930\n",
       "Other                                    94521\n",
       "Robbery                                  58027\n",
       "Narcotic drug laws                       27517\n",
       "Juvenile gang killings                   23111\n",
       "Other - not specified                    22253\n",
       "Brawl due to influence of alcohol        15839\n",
       "Felon killed by police                   15516\n",
       "Argument over money or property          14883\n",
       "All suspected felony type                12947\n",
       "Felon killed by private citizen          11827\n",
       "Lovers triangle                          11709\n",
       "Burglary                                  6184\n",
       "Brawl due to influence of narcotics       4866\n",
       "Arson                                     4430\n",
       "All other manslaughter by negligence      4370\n",
       "Rape                                      4132\n",
       "Gangland killings                         3933\n",
       "Other negligent handling of gun           3457\n",
       "Other sex offense                         1435\n",
       "Children playing with gun                 1354\n",
       "Child killed by babysitter                1205\n",
       "Motor vehicle theft                       1194\n",
       "Gambling                                  1046\n",
       "Institutional killings                    1043\n",
       "Larceny                                    724\n",
       "Prostitution and commercialized vice       579\n",
       "Sniper attack                              529\n",
       "Victim shot in hunting accident            404\n",
       "Gun-cleaning death - other than self       140\n",
       "Abortion                                    10\n",
       "Name: Circumstance, dtype: int64"
      ]
     },
     "execution_count": 93,
     "metadata": {},
     "output_type": "execute_result"
    }
   ],
   "source": [
    "shr.Circumstance.value_counts()"
   ]
  },
  {
   "cell_type": "code",
   "execution_count": 94,
   "metadata": {
    "scrolled": true
   },
   "outputs": [
    {
     "data": {
      "text/plain": [
       "Circumstance                          Solved\n",
       "Abortion                              Yes           10\n",
       "All other manslaughter by negligence  Yes         4074\n",
       "                                      No           296\n",
       "All suspected felony type             No          9356\n",
       "                                      Yes         3591\n",
       "Argument over money or property       Yes        14142\n",
       "                                      No           741\n",
       "Arson                                 Yes         2698\n",
       "                                      No          1732\n",
       "Brawl due to influence of alcohol     Yes        14921\n",
       "                                      No           918\n",
       "Brawl due to influence of narcotics   Yes         3977\n",
       "                                      No           889\n",
       "Burglary                              Yes         4305\n",
       "                                      No          1879\n",
       "Child killed by babysitter            Yes         1189\n",
       "                                      No            16\n",
       "Children playing with gun             Yes         1344\n",
       "                                      No            10\n",
       "Circumstances undetermined            No        115226\n",
       "                                      Yes        71704\n",
       "Felon killed by police                Yes        13757\n",
       "                                      No          1759\n",
       "Felon killed by private citizen       Yes        11091\n",
       "                                      No           736\n",
       "Gambling                              Yes          938\n",
       "                                      No           108\n",
       "Gangland killings                     Yes         2653\n",
       "                                      No          1280\n",
       "Gun-cleaning death - other than self  Yes          137\n",
       "                                      No             3\n",
       "Institutional killings                Yes          850\n",
       "                                      No           193\n",
       "Juvenile gang killings                Yes        12022\n",
       "                                      No         11089\n",
       "Larceny                               Yes          625\n",
       "                                      No            99\n",
       "Lovers triangle                       Yes        11486\n",
       "                                      No           223\n",
       "Motor vehicle theft                   Yes          959\n",
       "                                      No           235\n",
       "Narcotic drug laws                    Yes        17569\n",
       "                                      No          9948\n",
       "Other                                 Yes        80733\n",
       "                                      No         13788\n",
       "Other - not specified                 Yes        14734\n",
       "                                      No          7519\n",
       "Other arguments                       Yes       180338\n",
       "                                      No         13779\n",
       "Other negligent handling of gun       Yes         3412\n",
       "                                      No            45\n",
       "Other sex offense                     Yes         1108\n",
       "                                      No           327\n",
       "Prostitution and commercialized vice  Yes          408\n",
       "                                      No           171\n",
       "Rape                                  Yes         2745\n",
       "                                      No          1387\n",
       "Robbery                               Yes        38790\n",
       "                                      No         19237\n",
       "Sniper attack                         Yes          297\n",
       "                                      No           232\n",
       "Victim shot in hunting accident       Yes          381\n",
       "                                      No            23\n",
       "Name: Solved, dtype: int64"
      ]
     },
     "execution_count": 94,
     "metadata": {},
     "output_type": "execute_result"
    }
   ],
   "source": [
    "shr.groupby('Circumstance').Solved.value_counts()"
   ]
  },
  {
   "cell_type": "code",
   "execution_count": 95,
   "metadata": {
    "scrolled": true
   },
   "outputs": [
    {
     "data": {
      "text/plain": [
       "Circumstance                          Solved\n",
       "Abortion                              Yes       1.000000\n",
       "All other manslaughter by negligence  Yes       0.932265\n",
       "                                      No        0.067735\n",
       "All suspected felony type             No        0.722638\n",
       "                                      Yes       0.277362\n",
       "Argument over money or property       Yes       0.950212\n",
       "                                      No        0.049788\n",
       "Arson                                 Yes       0.609029\n",
       "                                      No        0.390971\n",
       "Brawl due to influence of alcohol     Yes       0.942042\n",
       "                                      No        0.057958\n",
       "Brawl due to influence of narcotics   Yes       0.817304\n",
       "                                      No        0.182696\n",
       "Burglary                              Yes       0.696151\n",
       "                                      No        0.303849\n",
       "Child killed by babysitter            Yes       0.986722\n",
       "                                      No        0.013278\n",
       "Children playing with gun             Yes       0.992614\n",
       "                                      No        0.007386\n",
       "Circumstances undetermined            No        0.616413\n",
       "                                      Yes       0.383587\n",
       "Felon killed by police                Yes       0.886633\n",
       "                                      No        0.113367\n",
       "Felon killed by private citizen       Yes       0.937770\n",
       "                                      No        0.062230\n",
       "Gambling                              Yes       0.896750\n",
       "                                      No        0.103250\n",
       "Gangland killings                     Yes       0.674549\n",
       "                                      No        0.325451\n",
       "Gun-cleaning death - other than self  Yes       0.978571\n",
       "                                      No        0.021429\n",
       "Institutional killings                Yes       0.814957\n",
       "                                      No        0.185043\n",
       "Juvenile gang killings                Yes       0.520185\n",
       "                                      No        0.479815\n",
       "Larceny                               Yes       0.863260\n",
       "                                      No        0.136740\n",
       "Lovers triangle                       Yes       0.980955\n",
       "                                      No        0.019045\n",
       "Motor vehicle theft                   Yes       0.803183\n",
       "                                      No        0.196817\n",
       "Narcotic drug laws                    Yes       0.638478\n",
       "                                      No        0.361522\n",
       "Other                                 Yes       0.854128\n",
       "                                      No        0.145872\n",
       "Other - not specified                 Yes       0.662113\n",
       "                                      No        0.337887\n",
       "Other arguments                       Yes       0.929017\n",
       "                                      No        0.070983\n",
       "Other negligent handling of gun       Yes       0.986983\n",
       "                                      No        0.013017\n",
       "Other sex offense                     Yes       0.772125\n",
       "                                      No        0.227875\n",
       "Prostitution and commercialized vice  Yes       0.704663\n",
       "                                      No        0.295337\n",
       "Rape                                  Yes       0.664327\n",
       "                                      No        0.335673\n",
       "Robbery                               Yes       0.668482\n",
       "                                      No        0.331518\n",
       "Sniper attack                         Yes       0.561437\n",
       "                                      No        0.438563\n",
       "Victim shot in hunting accident       Yes       0.943069\n",
       "                                      No        0.056931\n",
       "Name: Solved, dtype: float64"
      ]
     },
     "execution_count": 95,
     "metadata": {},
     "output_type": "execute_result"
    }
   ],
   "source": [
    "shr.groupby('Circumstance').Solved.value_counts(normalize=True)"
   ]
  },
  {
   "cell_type": "code",
   "execution_count": 96,
   "metadata": {},
   "outputs": [
    {
     "data": {
      "text/plain": [
       "array([nan, 'Felon killed in commission of a crime',\n",
       "       'Felon attacked a civilian', 'Felon resisted arrest',\n",
       "       'Felon attempted flight from a crime',\n",
       "       'Felon attacked fellow police officer',\n",
       "       'Not enough information to determine',\n",
       "       'Felon attacked police officer'], dtype=object)"
      ]
     },
     "execution_count": 96,
     "metadata": {},
     "output_type": "execute_result"
    }
   ],
   "source": [
    "# Subcircumstance\n",
    "shr.Subcircum.unique()"
   ]
  },
  {
   "cell_type": "code",
   "execution_count": 97,
   "metadata": {},
   "outputs": [
    {
     "data": {
      "text/plain": [
       "Felon killed in commission of a crime    9974\n",
       "Felon attacked police officer            8031\n",
       "Felon attacked a civilian                4176\n",
       "Not enough information to determine      2276\n",
       "Felon resisted arrest                    1179\n",
       "Felon attacked fellow police officer      888\n",
       "Felon attempted flight from a crime       809\n",
       "Name: Subcircum, dtype: int64"
      ]
     },
     "execution_count": 97,
     "metadata": {},
     "output_type": "execute_result"
    }
   ],
   "source": [
    "shr.Subcircum.value_counts()"
   ]
  }
 ],
 "metadata": {
  "kernelspec": {
   "display_name": "Python 2",
   "language": "python",
   "name": "python2"
  },
  "language_info": {
   "codemirror_mode": {
    "name": "ipython",
    "version": 2
   },
   "file_extension": ".py",
   "mimetype": "text/x-python",
   "name": "python",
   "nbconvert_exporter": "python",
   "pygments_lexer": "ipython2",
   "version": "2.7.13"
  }
 },
 "nbformat": 4,
 "nbformat_minor": 2
}
