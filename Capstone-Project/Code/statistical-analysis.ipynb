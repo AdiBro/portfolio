{
 "cells": [
  {
   "cell_type": "code",
   "execution_count": 1,
   "metadata": {
    "collapsed": true
   },
   "outputs": [],
   "source": [
    "# Necessary imports:\n",
    "import numpy as np\n",
    "import pandas as pd\n",
    "import matplotlib as plt\n",
    "%matplotlib inline\n",
    "plt.style.use('fivethirtyeight')\n",
    "import seaborn as sns\n",
    "from __future__ import division"
   ]
  },
  {
   "cell_type": "code",
   "execution_count": 2,
   "metadata": {
    "collapsed": true
   },
   "outputs": [],
   "source": [
    "# Display plots in Jupyter Notebook\n",
    "%matplotlib inline\n",
    "\n",
    "# Increase maximum rows and columns to 999 (instead of the default 60)\n",
    "pd.options.display.max_rows = 999\n",
    "pd.options.display.max_columns = 999"
   ]
  },
  {
   "cell_type": "code",
   "execution_count": 3,
   "metadata": {},
   "outputs": [
    {
     "name": "stderr",
     "output_type": "stream",
     "text": [
      "/Users/adibronshtein/anaconda2/lib/python2.7/site-packages/IPython/core/interactiveshell.py:2717: DtypeWarning: Columns (15,19) have mixed types. Specify dtype option on import or set low_memory=False.\n",
      "  interactivity=interactivity, compiler=compiler, result=result)\n"
     ]
    }
   ],
   "source": [
    "shr = pd.read_csv('/Users/adibronshtein/Documents/Datasets/Capstone/SHR1976_2015.csv')"
   ]
  },
  {
   "cell_type": "code",
   "execution_count": 4,
   "metadata": {},
   "outputs": [
    {
     "data": {
      "text/html": [
       "<div>\n",
       "<style>\n",
       "    .dataframe thead tr:only-child th {\n",
       "        text-align: right;\n",
       "    }\n",
       "\n",
       "    .dataframe thead th {\n",
       "        text-align: left;\n",
       "    }\n",
       "\n",
       "    .dataframe tbody tr th {\n",
       "        vertical-align: top;\n",
       "    }\n",
       "</style>\n",
       "<table border=\"1\" class=\"dataframe\">\n",
       "  <thead>\n",
       "    <tr style=\"text-align: right;\">\n",
       "      <th></th>\n",
       "      <th>ID</th>\n",
       "      <th>CNTYFIPS</th>\n",
       "      <th>Ori</th>\n",
       "      <th>State</th>\n",
       "      <th>Agency</th>\n",
       "      <th>Agentype</th>\n",
       "      <th>Source</th>\n",
       "      <th>Solved</th>\n",
       "      <th>Year</th>\n",
       "      <th>StateName</th>\n",
       "      <th>Month</th>\n",
       "      <th>Incident</th>\n",
       "      <th>ActionType</th>\n",
       "      <th>Homicide</th>\n",
       "      <th>Situation</th>\n",
       "      <th>VicAge</th>\n",
       "      <th>VicSex</th>\n",
       "      <th>VicRace</th>\n",
       "      <th>VicEthnic</th>\n",
       "      <th>OffAge</th>\n",
       "      <th>OffSex</th>\n",
       "      <th>OffRace</th>\n",
       "      <th>OffEthnic</th>\n",
       "      <th>Weapon</th>\n",
       "      <th>Relationship</th>\n",
       "      <th>Circumstance</th>\n",
       "      <th>Subcircum</th>\n",
       "      <th>VicCount</th>\n",
       "      <th>OffCount</th>\n",
       "      <th>FileDate</th>\n",
       "      <th>fstate</th>\n",
       "      <th>MSA</th>\n",
       "      <th>StateName2</th>\n",
       "    </tr>\n",
       "  </thead>\n",
       "  <tbody>\n",
       "    <tr>\n",
       "      <th>0</th>\n",
       "      <td>197601001AKASP00</td>\n",
       "      <td>Juneau, AK</td>\n",
       "      <td>AKASP00</td>\n",
       "      <td>Alaska</td>\n",
       "      <td>State Troopers</td>\n",
       "      <td>Primary state LE</td>\n",
       "      <td>FBI</td>\n",
       "      <td>Yes</td>\n",
       "      <td>1976</td>\n",
       "      <td>ALASKA</td>\n",
       "      <td>January</td>\n",
       "      <td>1</td>\n",
       "      <td>Normal update</td>\n",
       "      <td>Murder and non-negligent manslaughter</td>\n",
       "      <td>Single victim/single offender</td>\n",
       "      <td>48</td>\n",
       "      <td>Male</td>\n",
       "      <td>American Indian or Alaskan Native</td>\n",
       "      <td>Unknown or not reported</td>\n",
       "      <td>55</td>\n",
       "      <td>Female</td>\n",
       "      <td>American Indian or Alaskan Native</td>\n",
       "      <td>Unknown or not reported</td>\n",
       "      <td>Knife or cutting instrument</td>\n",
       "      <td>Husband</td>\n",
       "      <td>Other arguments</td>\n",
       "      <td>NaN</td>\n",
       "      <td>0</td>\n",
       "      <td>0</td>\n",
       "      <td>30180</td>\n",
       "      <td>Alaska</td>\n",
       "      <td>Rural Alaska</td>\n",
       "      <td>ALASKA</td>\n",
       "    </tr>\n",
       "    <tr>\n",
       "      <th>1</th>\n",
       "      <td>197601001AL00102</td>\n",
       "      <td>Jefferson, AL</td>\n",
       "      <td>AL00102</td>\n",
       "      <td>Alabama</td>\n",
       "      <td>Birmingham</td>\n",
       "      <td>Municipal police</td>\n",
       "      <td>FBI</td>\n",
       "      <td>Yes</td>\n",
       "      <td>1976</td>\n",
       "      <td>ALA</td>\n",
       "      <td>January</td>\n",
       "      <td>1</td>\n",
       "      <td>Normal update</td>\n",
       "      <td>Murder and non-negligent manslaughter</td>\n",
       "      <td>Single victim/single offender</td>\n",
       "      <td>65</td>\n",
       "      <td>Male</td>\n",
       "      <td>Black</td>\n",
       "      <td>Unknown or not reported</td>\n",
       "      <td>67</td>\n",
       "      <td>Male</td>\n",
       "      <td>Black</td>\n",
       "      <td>Unknown or not reported</td>\n",
       "      <td>Shotgun</td>\n",
       "      <td>Acquaintance</td>\n",
       "      <td>Felon killed by private citizen</td>\n",
       "      <td>Felon killed in commission of a crime</td>\n",
       "      <td>0</td>\n",
       "      <td>0</td>\n",
       "      <td>30180</td>\n",
       "      <td>Alabama</td>\n",
       "      <td>Birmingham-Hoover, AL</td>\n",
       "      <td>ALA</td>\n",
       "    </tr>\n",
       "    <tr>\n",
       "      <th>2</th>\n",
       "      <td>197601001AL00104</td>\n",
       "      <td>Jefferson, AL</td>\n",
       "      <td>AL00104</td>\n",
       "      <td>Alabama</td>\n",
       "      <td>Fairfield</td>\n",
       "      <td>Municipal police</td>\n",
       "      <td>FBI</td>\n",
       "      <td>Yes</td>\n",
       "      <td>1976</td>\n",
       "      <td>ALA</td>\n",
       "      <td>January</td>\n",
       "      <td>1</td>\n",
       "      <td>Normal update</td>\n",
       "      <td>Murder and non-negligent manslaughter</td>\n",
       "      <td>Single victim/single offender</td>\n",
       "      <td>45</td>\n",
       "      <td>Female</td>\n",
       "      <td>Black</td>\n",
       "      <td>Unknown or not reported</td>\n",
       "      <td>53</td>\n",
       "      <td>Male</td>\n",
       "      <td>Black</td>\n",
       "      <td>Unknown or not reported</td>\n",
       "      <td>Shotgun</td>\n",
       "      <td>Wife</td>\n",
       "      <td>Other</td>\n",
       "      <td>NaN</td>\n",
       "      <td>0</td>\n",
       "      <td>0</td>\n",
       "      <td>30180</td>\n",
       "      <td>Alabama</td>\n",
       "      <td>Birmingham-Hoover, AL</td>\n",
       "      <td>ALA</td>\n",
       "    </tr>\n",
       "    <tr>\n",
       "      <th>3</th>\n",
       "      <td>197601001AL00106</td>\n",
       "      <td>Jefferson, AL</td>\n",
       "      <td>AL00106</td>\n",
       "      <td>Alabama</td>\n",
       "      <td>Leeds</td>\n",
       "      <td>Municipal police</td>\n",
       "      <td>FBI</td>\n",
       "      <td>Yes</td>\n",
       "      <td>1976</td>\n",
       "      <td>ALA</td>\n",
       "      <td>January</td>\n",
       "      <td>1</td>\n",
       "      <td>Normal update</td>\n",
       "      <td>Murder and non-negligent manslaughter</td>\n",
       "      <td>Single victim/single offender</td>\n",
       "      <td>43</td>\n",
       "      <td>Male</td>\n",
       "      <td>Black</td>\n",
       "      <td>Unknown or not reported</td>\n",
       "      <td>35</td>\n",
       "      <td>Female</td>\n",
       "      <td>Black</td>\n",
       "      <td>Unknown or not reported</td>\n",
       "      <td>Knife or cutting instrument</td>\n",
       "      <td>Brother</td>\n",
       "      <td>Other arguments</td>\n",
       "      <td>NaN</td>\n",
       "      <td>0</td>\n",
       "      <td>0</td>\n",
       "      <td>30180</td>\n",
       "      <td>Alabama</td>\n",
       "      <td>Birmingham-Hoover, AL</td>\n",
       "      <td>ALA</td>\n",
       "    </tr>\n",
       "    <tr>\n",
       "      <th>4</th>\n",
       "      <td>197601001AL00201</td>\n",
       "      <td>Mobile, AL</td>\n",
       "      <td>AL00201</td>\n",
       "      <td>Alabama</td>\n",
       "      <td>Mobile</td>\n",
       "      <td>Municipal police</td>\n",
       "      <td>FBI</td>\n",
       "      <td>Yes</td>\n",
       "      <td>1976</td>\n",
       "      <td>ALA</td>\n",
       "      <td>January</td>\n",
       "      <td>1</td>\n",
       "      <td>Adjustment</td>\n",
       "      <td>Murder and non-negligent manslaughter</td>\n",
       "      <td>Single victim/single offender</td>\n",
       "      <td>35</td>\n",
       "      <td>Male</td>\n",
       "      <td>White</td>\n",
       "      <td>Unknown or not reported</td>\n",
       "      <td>25</td>\n",
       "      <td>Female</td>\n",
       "      <td>White</td>\n",
       "      <td>Unknown or not reported</td>\n",
       "      <td>Strangulation - hanging</td>\n",
       "      <td>Acquaintance</td>\n",
       "      <td>Circumstances undetermined</td>\n",
       "      <td>NaN</td>\n",
       "      <td>0</td>\n",
       "      <td>0</td>\n",
       "      <td>30180</td>\n",
       "      <td>Alabama</td>\n",
       "      <td>Mobile, AL</td>\n",
       "      <td>ALA</td>\n",
       "    </tr>\n",
       "  </tbody>\n",
       "</table>\n",
       "</div>"
      ],
      "text/plain": [
       "                 ID       CNTYFIPS      Ori    State          Agency  \\\n",
       "0  197601001AKASP00     Juneau, AK  AKASP00   Alaska  State Troopers   \n",
       "1  197601001AL00102  Jefferson, AL  AL00102  Alabama      Birmingham   \n",
       "2  197601001AL00104  Jefferson, AL  AL00104  Alabama       Fairfield   \n",
       "3  197601001AL00106  Jefferson, AL  AL00106  Alabama           Leeds   \n",
       "4  197601001AL00201     Mobile, AL  AL00201  Alabama          Mobile   \n",
       "\n",
       "           Agentype Source Solved  Year StateName    Month  Incident  \\\n",
       "0  Primary state LE    FBI    Yes  1976    ALASKA  January         1   \n",
       "1  Municipal police    FBI    Yes  1976       ALA  January         1   \n",
       "2  Municipal police    FBI    Yes  1976       ALA  January         1   \n",
       "3  Municipal police    FBI    Yes  1976       ALA  January         1   \n",
       "4  Municipal police    FBI    Yes  1976       ALA  January         1   \n",
       "\n",
       "      ActionType                               Homicide  \\\n",
       "0  Normal update  Murder and non-negligent manslaughter   \n",
       "1  Normal update  Murder and non-negligent manslaughter   \n",
       "2  Normal update  Murder and non-negligent manslaughter   \n",
       "3  Normal update  Murder and non-negligent manslaughter   \n",
       "4     Adjustment  Murder and non-negligent manslaughter   \n",
       "\n",
       "                       Situation VicAge  VicSex  \\\n",
       "0  Single victim/single offender     48    Male   \n",
       "1  Single victim/single offender     65    Male   \n",
       "2  Single victim/single offender     45  Female   \n",
       "3  Single victim/single offender     43    Male   \n",
       "4  Single victim/single offender     35    Male   \n",
       "\n",
       "                             VicRace                VicEthnic OffAge  OffSex  \\\n",
       "0  American Indian or Alaskan Native  Unknown or not reported     55  Female   \n",
       "1                              Black  Unknown or not reported     67    Male   \n",
       "2                              Black  Unknown or not reported     53    Male   \n",
       "3                              Black  Unknown or not reported     35  Female   \n",
       "4                              White  Unknown or not reported     25  Female   \n",
       "\n",
       "                             OffRace                OffEthnic  \\\n",
       "0  American Indian or Alaskan Native  Unknown or not reported   \n",
       "1                              Black  Unknown or not reported   \n",
       "2                              Black  Unknown or not reported   \n",
       "3                              Black  Unknown or not reported   \n",
       "4                              White  Unknown or not reported   \n",
       "\n",
       "                        Weapon  Relationship                     Circumstance  \\\n",
       "0  Knife or cutting instrument       Husband                  Other arguments   \n",
       "1                      Shotgun  Acquaintance  Felon killed by private citizen   \n",
       "2                      Shotgun          Wife                            Other   \n",
       "3  Knife or cutting instrument       Brother                  Other arguments   \n",
       "4      Strangulation - hanging  Acquaintance       Circumstances undetermined   \n",
       "\n",
       "                               Subcircum  VicCount  OffCount  FileDate  \\\n",
       "0                                    NaN         0         0     30180   \n",
       "1  Felon killed in commission of a crime         0         0     30180   \n",
       "2                                    NaN         0         0     30180   \n",
       "3                                    NaN         0         0     30180   \n",
       "4                                    NaN         0         0     30180   \n",
       "\n",
       "    fstate                    MSA StateName2  \n",
       "0   Alaska           Rural Alaska     ALASKA  \n",
       "1  Alabama  Birmingham-Hoover, AL        ALA  \n",
       "2  Alabama  Birmingham-Hoover, AL        ALA  \n",
       "3  Alabama  Birmingham-Hoover, AL        ALA  \n",
       "4  Alabama             Mobile, AL        ALA  "
      ]
     },
     "execution_count": 4,
     "metadata": {},
     "output_type": "execute_result"
    }
   ],
   "source": [
    "shr.head()"
   ]
  },
  {
   "cell_type": "code",
   "execution_count": 5,
   "metadata": {
    "collapsed": true
   },
   "outputs": [],
   "source": [
    "shr.drop_duplicates(inplace=True)"
   ]
  },
  {
   "cell_type": "code",
   "execution_count": 6,
   "metadata": {},
   "outputs": [
    {
     "data": {
      "text/plain": [
       "0"
      ]
     },
     "execution_count": 6,
     "metadata": {},
     "output_type": "execute_result"
    }
   ],
   "source": [
    "shr.duplicated().sum()"
   ]
  },
  {
   "cell_type": "code",
   "execution_count": 7,
   "metadata": {
    "collapsed": true
   },
   "outputs": [],
   "source": [
    "# 999/'999' stand for missing values. I'm changing those to NaN\n",
    "shr.VicAge.replace('999',np.nan, inplace=True)\n",
    "shr.VicAge.replace(999, np.nan, inplace=True)\n",
    "shr.VicAge.replace('99 years old or more', 99, inplace=True)"
   ]
  },
  {
   "cell_type": "code",
   "execution_count": 8,
   "metadata": {
    "collapsed": true
   },
   "outputs": [],
   "source": [
    "shr.VicAge = shr.VicAge.astype(float)\n"
   ]
  },
  {
   "cell_type": "code",
   "execution_count": 9,
   "metadata": {},
   "outputs": [
    {
     "data": {
      "text/plain": [
       "dtype('float64')"
      ]
     },
     "execution_count": 9,
     "metadata": {},
     "output_type": "execute_result"
    }
   ],
   "source": [
    "# Finally, floats :) \n",
    "shr.VicAge.dtype"
   ]
  },
  {
   "cell_type": "code",
   "execution_count": 10,
   "metadata": {
    "collapsed": true
   },
   "outputs": [],
   "source": [
    "# Same for offenders:\n",
    "shr.OffAge.replace([999,'999'], np.nan, inplace=True)\n",
    "shr.OffAge.replace('99 years old or more', 100, inplace=True)\n",
    "shr.OffAge.replace('1 year old', 1, inplace=True)\n"
   ]
  },
  {
   "cell_type": "code",
   "execution_count": 11,
   "metadata": {
    "collapsed": true
   },
   "outputs": [],
   "source": [
    "shr['OffAge'] = pd.to_numeric(shr['OffAge'], errors = 'coerce')"
   ]
  },
  {
   "cell_type": "code",
   "execution_count": 12,
   "metadata": {},
   "outputs": [
    {
     "data": {
      "text/plain": [
       "dtype('float64')"
      ]
     },
     "execution_count": 12,
     "metadata": {},
     "output_type": "execute_result"
    }
   ],
   "source": [
    "shr['OffAge'].dtypes"
   ]
  },
  {
   "cell_type": "code",
   "execution_count": 13,
   "metadata": {},
   "outputs": [
    {
     "data": {
      "text/plain": [
       "Index([u'ID', u'CNTYFIPS', u'Ori', u'State', u'Agency', u'Agentype', u'Source',\n",
       "       u'Solved', u'Year', u'StateName', u'Month', u'Incident', u'ActionType',\n",
       "       u'Homicide', u'Situation', u'VicAge', u'VicSex', u'VicRace',\n",
       "       u'VicEthnic', u'OffAge', u'OffSex', u'OffRace', u'OffEthnic', u'Weapon',\n",
       "       u'Relationship', u'Circumstance', u'Subcircum', u'VicCount',\n",
       "       u'OffCount', u'FileDate', u'fstate', u'MSA', u'StateName2'],\n",
       "      dtype='object')"
      ]
     },
     "execution_count": 13,
     "metadata": {},
     "output_type": "execute_result"
    }
   ],
   "source": [
    "shr.columns"
   ]
  },
  {
   "cell_type": "code",
   "execution_count": 14,
   "metadata": {
    "collapsed": true
   },
   "outputs": [],
   "source": [
    "# My target variable is whether a murder was solved or not. \n",
    "y = [1 if x == 'Yes' else 0 for x in shr.Solved]"
   ]
  },
  {
   "cell_type": "code",
   "execution_count": 15,
   "metadata": {
    "collapsed": true
   },
   "outputs": [],
   "source": [
    "shr['target'] = y"
   ]
  },
  {
   "cell_type": "code",
   "execution_count": 16,
   "metadata": {},
   "outputs": [
    {
     "data": {
      "text/plain": [
       "1    516988\n",
       "0    213244\n",
       "Name: target, dtype: int64"
      ]
     },
     "execution_count": 16,
     "metadata": {},
     "output_type": "execute_result"
    }
   ],
   "source": [
    "shr['target'].value_counts()"
   ]
  },
  {
   "cell_type": "code",
   "execution_count": 17,
   "metadata": {},
   "outputs": [
    {
     "data": {
      "text/html": [
       "<div>\n",
       "<style>\n",
       "    .dataframe thead tr:only-child th {\n",
       "        text-align: right;\n",
       "    }\n",
       "\n",
       "    .dataframe thead th {\n",
       "        text-align: left;\n",
       "    }\n",
       "\n",
       "    .dataframe tbody tr th {\n",
       "        vertical-align: top;\n",
       "    }\n",
       "</style>\n",
       "<table border=\"1\" class=\"dataframe\">\n",
       "  <thead>\n",
       "    <tr style=\"text-align: right;\">\n",
       "      <th></th>\n",
       "      <th>Year</th>\n",
       "      <th>Incident</th>\n",
       "      <th>VicAge</th>\n",
       "      <th>OffAge</th>\n",
       "      <th>VicCount</th>\n",
       "      <th>OffCount</th>\n",
       "      <th>FileDate</th>\n",
       "      <th>target</th>\n",
       "    </tr>\n",
       "  </thead>\n",
       "  <tbody>\n",
       "    <tr>\n",
       "      <th>Year</th>\n",
       "      <td>1.000000</td>\n",
       "      <td>0.130180</td>\n",
       "      <td>-0.017414</td>\n",
       "      <td>0.006846</td>\n",
       "      <td>0.029992</td>\n",
       "      <td>0.062458</td>\n",
       "      <td>0.024893</td>\n",
       "      <td>-0.043978</td>\n",
       "    </tr>\n",
       "    <tr>\n",
       "      <th>Incident</th>\n",
       "      <td>0.130180</td>\n",
       "      <td>1.000000</td>\n",
       "      <td>0.003302</td>\n",
       "      <td>0.007667</td>\n",
       "      <td>-0.007422</td>\n",
       "      <td>-0.005710</td>\n",
       "      <td>-0.102810</td>\n",
       "      <td>-0.022589</td>\n",
       "    </tr>\n",
       "    <tr>\n",
       "      <th>VicAge</th>\n",
       "      <td>-0.017414</td>\n",
       "      <td>0.003302</td>\n",
       "      <td>1.000000</td>\n",
       "      <td>0.376227</td>\n",
       "      <td>-0.022630</td>\n",
       "      <td>-0.028170</td>\n",
       "      <td>-0.009666</td>\n",
       "      <td>-0.005370</td>\n",
       "    </tr>\n",
       "    <tr>\n",
       "      <th>OffAge</th>\n",
       "      <td>0.006846</td>\n",
       "      <td>0.007667</td>\n",
       "      <td>0.376227</td>\n",
       "      <td>1.000000</td>\n",
       "      <td>0.005486</td>\n",
       "      <td>-0.178269</td>\n",
       "      <td>-0.011488</td>\n",
       "      <td>-0.014936</td>\n",
       "    </tr>\n",
       "    <tr>\n",
       "      <th>VicCount</th>\n",
       "      <td>0.029992</td>\n",
       "      <td>-0.007422</td>\n",
       "      <td>-0.022630</td>\n",
       "      <td>0.005486</td>\n",
       "      <td>1.000000</td>\n",
       "      <td>0.057484</td>\n",
       "      <td>0.001150</td>\n",
       "      <td>0.022964</td>\n",
       "    </tr>\n",
       "    <tr>\n",
       "      <th>OffCount</th>\n",
       "      <td>0.062458</td>\n",
       "      <td>-0.005710</td>\n",
       "      <td>-0.028170</td>\n",
       "      <td>-0.178269</td>\n",
       "      <td>0.057484</td>\n",
       "      <td>1.000000</td>\n",
       "      <td>-0.022862</td>\n",
       "      <td>0.162111</td>\n",
       "    </tr>\n",
       "    <tr>\n",
       "      <th>FileDate</th>\n",
       "      <td>0.024893</td>\n",
       "      <td>-0.102810</td>\n",
       "      <td>-0.009666</td>\n",
       "      <td>-0.011488</td>\n",
       "      <td>0.001150</td>\n",
       "      <td>-0.022862</td>\n",
       "      <td>1.000000</td>\n",
       "      <td>-0.009997</td>\n",
       "    </tr>\n",
       "    <tr>\n",
       "      <th>target</th>\n",
       "      <td>-0.043978</td>\n",
       "      <td>-0.022589</td>\n",
       "      <td>-0.005370</td>\n",
       "      <td>-0.014936</td>\n",
       "      <td>0.022964</td>\n",
       "      <td>0.162111</td>\n",
       "      <td>-0.009997</td>\n",
       "      <td>1.000000</td>\n",
       "    </tr>\n",
       "  </tbody>\n",
       "</table>\n",
       "</div>"
      ],
      "text/plain": [
       "              Year  Incident    VicAge    OffAge  VicCount  OffCount  \\\n",
       "Year      1.000000  0.130180 -0.017414  0.006846  0.029992  0.062458   \n",
       "Incident  0.130180  1.000000  0.003302  0.007667 -0.007422 -0.005710   \n",
       "VicAge   -0.017414  0.003302  1.000000  0.376227 -0.022630 -0.028170   \n",
       "OffAge    0.006846  0.007667  0.376227  1.000000  0.005486 -0.178269   \n",
       "VicCount  0.029992 -0.007422 -0.022630  0.005486  1.000000  0.057484   \n",
       "OffCount  0.062458 -0.005710 -0.028170 -0.178269  0.057484  1.000000   \n",
       "FileDate  0.024893 -0.102810 -0.009666 -0.011488  0.001150 -0.022862   \n",
       "target   -0.043978 -0.022589 -0.005370 -0.014936  0.022964  0.162111   \n",
       "\n",
       "          FileDate    target  \n",
       "Year      0.024893 -0.043978  \n",
       "Incident -0.102810 -0.022589  \n",
       "VicAge   -0.009666 -0.005370  \n",
       "OffAge   -0.011488 -0.014936  \n",
       "VicCount  0.001150  0.022964  \n",
       "OffCount -0.022862  0.162111  \n",
       "FileDate  1.000000 -0.009997  \n",
       "target   -0.009997  1.000000  "
      ]
     },
     "execution_count": 17,
     "metadata": {},
     "output_type": "execute_result"
    }
   ],
   "source": [
    "shr.corr()"
   ]
  },
  {
   "cell_type": "code",
   "execution_count": 18,
   "metadata": {},
   "outputs": [
    {
     "data": {
      "text/plain": [
       "<matplotlib.axes._subplots.AxesSubplot at 0x1211f59d0>"
      ]
     },
     "execution_count": 18,
     "metadata": {},
     "output_type": "execute_result"
    },
    {
     "data": {
      "image/png": "[encoded data removed]",
      "text/plain": [
       "<matplotlib.figure.Figure at 0x1211f56d0>"
      ]
     },
     "metadata": {},
     "output_type": "display_data"
    }
   ],
   "source": [
    "sns.heatmap(shr.corr())"
   ]
  },
  {
   "cell_type": "code",
   "execution_count": 19,
   "metadata": {},
   "outputs": [
    {
     "data": {
      "text/plain": [
       "Index([u'ID', u'CNTYFIPS', u'Ori', u'State', u'Agency', u'Agentype', u'Source',\n",
       "       u'Solved', u'Year', u'StateName', u'Month', u'Incident', u'ActionType',\n",
       "       u'Homicide', u'Situation', u'VicAge', u'VicSex', u'VicRace',\n",
       "       u'VicEthnic', u'OffAge', u'OffSex', u'OffRace', u'OffEthnic', u'Weapon',\n",
       "       u'Relationship', u'Circumstance', u'Subcircum', u'VicCount',\n",
       "       u'OffCount', u'FileDate', u'fstate', u'MSA', u'StateName2', u'target'],\n",
       "      dtype='object')"
      ]
     },
     "execution_count": 19,
     "metadata": {},
     "output_type": "execute_result"
    }
   ],
   "source": [
    "shr.keys()"
   ]
  },
  {
   "cell_type": "markdown",
   "metadata": {},
   "source": [
    "## Feature Engineering "
   ]
  },
  {
   "cell_type": "markdown",
   "metadata": {},
   "source": [
    "Clustering relationship into groups:"
   ]
  },
  {
   "cell_type": "code",
   "execution_count": 20,
   "metadata": {
    "collapsed": true
   },
   "outputs": [],
   "source": [
    "def encodeIntimateRelationship(x): return 1 if x in ('Boyfriend', 'Boyfriend/Girlfriend', 'Girlfriend', 'Wife', 'Husband') else 0\n",
    "def encodeFamilyRelationship(x): return 1 if x in ('Son', 'Family', 'Daughter', 'Brother', 'Father', 'Mother', 'Sister') else 0\n",
    "def encodeWorkRelationship(x): return 1 if x in ('Employer', 'Employee') else 0"
   ]
  },
  {
   "cell_type": "code",
   "execution_count": 21,
   "metadata": {
    "collapsed": true
   },
   "outputs": [],
   "source": [
    "shr['enc_IntimateRelationship'] = shr.Relationship.apply(encodeIntimateRelationship)\n",
    "shr['enc_FamilyRelationship'] = shr.Relationship.apply(encodeFamilyRelationship)\n",
    "shr['enc_WorkRelationship'] = shr.Relationship.apply(encodeWorkRelationship)"
   ]
  },
  {
   "cell_type": "code",
   "execution_count": 22,
   "metadata": {},
   "outputs": [
    {
     "data": {
      "text/plain": [
       "0    664503\n",
       "1     65729\n",
       "Name: enc_IntimateRelationship, dtype: int64"
      ]
     },
     "execution_count": 22,
     "metadata": {},
     "output_type": "execute_result"
    }
   ],
   "source": [
    "shr['enc_IntimateRelationship'].value_counts()"
   ]
  },
  {
   "cell_type": "code",
   "execution_count": 23,
   "metadata": {},
   "outputs": [
    {
     "data": {
      "text/plain": [
       "0    692407\n",
       "1     37825\n",
       "Name: enc_FamilyRelationship, dtype: int64"
      ]
     },
     "execution_count": 23,
     "metadata": {},
     "output_type": "execute_result"
    }
   ],
   "source": [
    "shr['enc_FamilyRelationship'].value_counts()"
   ]
  },
  {
   "cell_type": "code",
   "execution_count": 24,
   "metadata": {},
   "outputs": [
    {
     "data": {
      "text/plain": [
       "0    729234\n",
       "1       998\n",
       "Name: enc_WorkRelationship, dtype: int64"
      ]
     },
     "execution_count": 24,
     "metadata": {},
     "output_type": "execute_result"
    }
   ],
   "source": [
    "shr['enc_WorkRelationship'].value_counts()"
   ]
  },
  {
   "cell_type": "code",
   "execution_count": 25,
   "metadata": {
    "collapsed": true
   },
   "outputs": [],
   "source": [
    "off_dummies = pd.get_dummies(shr['OffRace'])"
   ]
  },
  {
   "cell_type": "code",
   "execution_count": 26,
   "metadata": {
    "collapsed": true
   },
   "outputs": [],
   "source": [
    "vic_dummies = pd.get_dummies(shr['VicRace'])"
   ]
  },
  {
   "cell_type": "code",
   "execution_count": 27,
   "metadata": {
    "collapsed": true
   },
   "outputs": [],
   "source": [
    "def encodeGender(x): return 1 if x == 'Female' else 0 "
   ]
  },
  {
   "cell_type": "code",
   "execution_count": 28,
   "metadata": {
    "collapsed": true
   },
   "outputs": [],
   "source": [
    "shr['VicSexDummy'] = shr.VicSex.apply(encodeGender)"
   ]
  },
  {
   "cell_type": "code",
   "execution_count": 29,
   "metadata": {},
   "outputs": [
    {
     "data": {
      "text/plain": [
       "0    565796\n",
       "1    164436\n",
       "Name: VicSexDummy, dtype: int64"
      ]
     },
     "execution_count": 29,
     "metadata": {},
     "output_type": "execute_result"
    }
   ],
   "source": [
    "shr.VicSexDummy.value_counts()"
   ]
  },
  {
   "cell_type": "markdown",
   "metadata": {},
   "source": [
    "## Logistic Regression "
   ]
  },
  {
   "cell_type": "code",
   "execution_count": null,
   "metadata": {
    "collapsed": true
   },
   "outputs": [],
   "source": []
  },
  {
   "cell_type": "markdown",
   "metadata": {},
   "source": [
    "## Random Forest"
   ]
  },
  {
   "cell_type": "code",
   "execution_count": 30,
   "metadata": {},
   "outputs": [
    {
     "name": "stderr",
     "output_type": "stream",
     "text": [
      "/Users/adibronshtein/anaconda2/lib/python2.7/site-packages/sklearn/cross_validation.py:44: DeprecationWarning: This module was deprecated in version 0.18 in favor of the model_selection module into which all the refactored classes and functions are moved. Also note that the interface of the new CV iterators are different from that of this module. This module will be removed in 0.20.\n",
      "  \"This module will be removed in 0.20.\", DeprecationWarning)\n"
     ]
    }
   ],
   "source": [
    "from sklearn.ensemble import RandomForestClassifier\n",
    "from sklearn import preprocessing\n",
    "from sklearn.cross_validation import cross_val_score\n",
    "from sklearn import tree\n",
    "from sklearn.manifold import TSNE\n",
    "from sklearn.decomposition import PCA\n",
    "from sklearn.cluster import KMeans"
   ]
  },
  {
   "cell_type": "code",
   "execution_count": 31,
   "metadata": {
    "collapsed": true
   },
   "outputs": [],
   "source": [
    "from sklearn.preprocessing import LabelEncoder\n",
    "from sklearn.model_selection import cross_val_score, StratifiedKFold\n",
    "from sklearn.ensemble import RandomForestClassifier, ExtraTreesClassifier, BaggingClassifier\n",
    "from sklearn.cross_validation import train_test_split\n",
    "from sklearn.metrics import accuracy_score"
   ]
  },
  {
   "cell_type": "code",
   "execution_count": 38,
   "metadata": {
    "collapsed": true
   },
   "outputs": [],
   "source": [
    "shr.dropna(inplace=True)"
   ]
  },
  {
   "cell_type": "code",
   "execution_count": 32,
   "metadata": {
    "scrolled": true
   },
   "outputs": [
    {
     "data": {
      "text/plain": [
       "Index([u'ID', u'CNTYFIPS', u'Ori', u'State', u'Agency', u'Agentype', u'Source',\n",
       "       u'Solved', u'Year', u'StateName', u'Month', u'Incident', u'ActionType',\n",
       "       u'Homicide', u'Situation', u'VicAge', u'VicSex', u'VicRace',\n",
       "       u'VicEthnic', u'OffAge', u'OffSex', u'OffRace', u'OffEthnic', u'Weapon',\n",
       "       u'Relationship', u'Circumstance', u'Subcircum', u'VicCount',\n",
       "       u'OffCount', u'FileDate', u'fstate', u'MSA', u'StateName2', u'target',\n",
       "       u'enc_IntimateRelationship', u'enc_FamilyRelationship',\n",
       "       u'enc_WorkRelationship', u'VicSexDummy'],\n",
       "      dtype='object')"
      ]
     },
     "execution_count": 32,
     "metadata": {},
     "output_type": "execute_result"
    }
   ],
   "source": [
    "shr.columns"
   ]
  },
  {
   "cell_type": "code",
   "execution_count": 39,
   "metadata": {
    "collapsed": true
   },
   "outputs": [],
   "source": [
    "y = LabelEncoder().fit_transform(shr['Solved'])\n",
    "X = pd.get_dummies(shr[['VicSex','VicRace','OffAge','OffRace', 'enc_IntimateRelationship', 'enc_FamilyRelationship', 'enc_WorkRelationship']])"
   ]
  },
  {
   "cell_type": "code",
   "execution_count": 40,
   "metadata": {
    "collapsed": true
   },
   "outputs": [],
   "source": [
    "X_train, X_test, Y_train, Y_test = train_test_split(X, y, test_size=0.33)"
   ]
  },
  {
   "cell_type": "code",
   "execution_count": 41,
   "metadata": {
    "collapsed": true
   },
   "outputs": [],
   "source": [
    "cv = StratifiedKFold(n_splits=5, shuffle=True, random_state=41)\n"
   ]
  },
  {
   "cell_type": "code",
   "execution_count": 42,
   "metadata": {},
   "outputs": [
    {
     "name": "stdout",
     "output_type": "stream",
     "text": [
      "0.999800637959\n"
     ]
    },
    {
     "name": "stderr",
     "output_type": "stream",
     "text": [
      "/Users/adibronshtein/anaconda2/lib/python2.7/site-packages/sklearn/model_selection/_split.py:581: Warning: The least populated class in y has only 4 members, which is too few. The minimum number of groups for any class cannot be less than n_splits=5.\n",
      "  % (min_groups, self.n_splits)), Warning)\n"
     ]
    },
    {
     "name": "stdout",
     "output_type": "stream",
     "text": [
      "Random Forest Score:\t0.999 ± 0.001\n"
     ]
    }
   ],
   "source": [
    "rt = RandomForestClassifier(n_jobs=-1)\n",
    "rt.fit(X_train, Y_train)\n",
    "Y_pred = rt.predict(X_test)\n",
    "print rt.score(X_test, Y_test)\n",
    "s = cross_val_score(rt, X_train, Y_train, cv=cv, n_jobs=-1)\n",
    "print \"{} Score:\\t{:0.3} ± {:0.3}\".format(\"Random Forest\", s.mean().round(3), s.std().round(3))"
   ]
  },
  {
   "cell_type": "code",
   "execution_count": 46,
   "metadata": {},
   "outputs": [
    {
     "data": {
      "text/plain": [
       "DecisionTreeClassifier(class_weight=None, criterion='gini', max_depth=None,\n",
       "            max_features=None, max_leaf_nodes=None,\n",
       "            min_impurity_split=1e-07, min_samples_leaf=1,\n",
       "            min_samples_split=2, min_weight_fraction_leaf=0.0,\n",
       "            presort=False, random_state=None, splitter='best')"
      ]
     },
     "execution_count": 46,
     "metadata": {},
     "output_type": "execute_result"
    }
   ],
   "source": [
    "rt.base_estimator"
   ]
  },
  {
   "cell_type": "code",
   "execution_count": 51,
   "metadata": {},
   "outputs": [
    {
     "data": {
      "text/plain": [
       "('criterion',\n",
       " 'max_depth',\n",
       " 'min_samples_split',\n",
       " 'min_samples_leaf',\n",
       " 'min_weight_fraction_leaf',\n",
       " 'max_features',\n",
       " 'max_leaf_nodes',\n",
       " 'min_impurity_split',\n",
       " 'random_state')"
      ]
     },
     "execution_count": 51,
     "metadata": {},
     "output_type": "execute_result"
    }
   ],
   "source": [
    "rt.estimator_params"
   ]
  },
  {
   "cell_type": "code",
   "execution_count": 53,
   "metadata": {},
   "outputs": [
    {
     "data": {
      "text/plain": [
       "<bound method RandomForestClassifier.decision_path of RandomForestClassifier(bootstrap=True, class_weight=None, criterion='gini',\n",
       "            max_depth=None, max_features='auto', max_leaf_nodes=None,\n",
       "            min_impurity_split=1e-07, min_samples_leaf=1,\n",
       "            min_samples_split=2, min_weight_fraction_leaf=0.0,\n",
       "            n_estimators=10, n_jobs=-1, oob_score=False, random_state=None,\n",
       "            verbose=0, warm_start=False)>"
      ]
     },
     "execution_count": 53,
     "metadata": {},
     "output_type": "execute_result"
    }
   ],
   "source": [
    "rt.decision_path"
   ]
  },
  {
   "cell_type": "code",
   "execution_count": 44,
   "metadata": {},
   "outputs": [
    {
     "data": {
      "text/plain": [
       "[DecisionTreeClassifier(class_weight=None, criterion='gini', max_depth=None,\n",
       "             max_features='auto', max_leaf_nodes=None,\n",
       "             min_impurity_split=1e-07, min_samples_leaf=1,\n",
       "             min_samples_split=2, min_weight_fraction_leaf=0.0,\n",
       "             presort=False, random_state=141420683, splitter='best'),\n",
       " DecisionTreeClassifier(class_weight=None, criterion='gini', max_depth=None,\n",
       "             max_features='auto', max_leaf_nodes=None,\n",
       "             min_impurity_split=1e-07, min_samples_leaf=1,\n",
       "             min_samples_split=2, min_weight_fraction_leaf=0.0,\n",
       "             presort=False, random_state=701056263, splitter='best'),\n",
       " DecisionTreeClassifier(class_weight=None, criterion='gini', max_depth=None,\n",
       "             max_features='auto', max_leaf_nodes=None,\n",
       "             min_impurity_split=1e-07, min_samples_leaf=1,\n",
       "             min_samples_split=2, min_weight_fraction_leaf=0.0,\n",
       "             presort=False, random_state=1289225897, splitter='best'),\n",
       " DecisionTreeClassifier(class_weight=None, criterion='gini', max_depth=None,\n",
       "             max_features='auto', max_leaf_nodes=None,\n",
       "             min_impurity_split=1e-07, min_samples_leaf=1,\n",
       "             min_samples_split=2, min_weight_fraction_leaf=0.0,\n",
       "             presort=False, random_state=245124548, splitter='best'),\n",
       " DecisionTreeClassifier(class_weight=None, criterion='gini', max_depth=None,\n",
       "             max_features='auto', max_leaf_nodes=None,\n",
       "             min_impurity_split=1e-07, min_samples_leaf=1,\n",
       "             min_samples_split=2, min_weight_fraction_leaf=0.0,\n",
       "             presort=False, random_state=1117717817, splitter='best'),\n",
       " DecisionTreeClassifier(class_weight=None, criterion='gini', max_depth=None,\n",
       "             max_features='auto', max_leaf_nodes=None,\n",
       "             min_impurity_split=1e-07, min_samples_leaf=1,\n",
       "             min_samples_split=2, min_weight_fraction_leaf=0.0,\n",
       "             presort=False, random_state=962054914, splitter='best'),\n",
       " DecisionTreeClassifier(class_weight=None, criterion='gini', max_depth=None,\n",
       "             max_features='auto', max_leaf_nodes=None,\n",
       "             min_impurity_split=1e-07, min_samples_leaf=1,\n",
       "             min_samples_split=2, min_weight_fraction_leaf=0.0,\n",
       "             presort=False, random_state=2115108604, splitter='best'),\n",
       " DecisionTreeClassifier(class_weight=None, criterion='gini', max_depth=None,\n",
       "             max_features='auto', max_leaf_nodes=None,\n",
       "             min_impurity_split=1e-07, min_samples_leaf=1,\n",
       "             min_samples_split=2, min_weight_fraction_leaf=0.0,\n",
       "             presort=False, random_state=2112387178, splitter='best'),\n",
       " DecisionTreeClassifier(class_weight=None, criterion='gini', max_depth=None,\n",
       "             max_features='auto', max_leaf_nodes=None,\n",
       "             min_impurity_split=1e-07, min_samples_leaf=1,\n",
       "             min_samples_split=2, min_weight_fraction_leaf=0.0,\n",
       "             presort=False, random_state=1637392709, splitter='best'),\n",
       " DecisionTreeClassifier(class_weight=None, criterion='gini', max_depth=None,\n",
       "             max_features='auto', max_leaf_nodes=None,\n",
       "             min_impurity_split=1e-07, min_samples_leaf=1,\n",
       "             min_samples_split=2, min_weight_fraction_leaf=0.0,\n",
       "             presort=False, random_state=1165272087, splitter='best')]"
      ]
     },
     "execution_count": 44,
     "metadata": {},
     "output_type": "execute_result"
    }
   ],
   "source": [
    "rt.estimators_"
   ]
  },
  {
   "cell_type": "code",
   "execution_count": 45,
   "metadata": {
    "collapsed": true
   },
   "outputs": [],
   "source": [
    "from sklearn.ensemble import AdaBoostClassifier\n"
   ]
  }
 ],
 "metadata": {
  "kernelspec": {
   "display_name": "Python 2",
   "language": "python",
   "name": "python2"
  },
  "language_info": {
   "codemirror_mode": {
    "name": "ipython",
    "version": 2
   },
   "file_extension": ".py",
   "mimetype": "text/x-python",
   "name": "python",
   "nbconvert_exporter": "python",
   "pygments_lexer": "ipython2",
   "version": "2.7.13"
  }
 },
 "nbformat": 4,
 "nbformat_minor": 2
}
