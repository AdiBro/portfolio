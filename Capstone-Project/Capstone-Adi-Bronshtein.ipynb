{
 "cells": [
  {
   "cell_type": "markdown",
   "metadata": {},
   "source": [
    "# Data Science Project - Analyzing the Homicide Reports Dataset"
   ]
  },
  {
   "cell_type": "markdown",
   "metadata": {},
   "source": [
    "I'm loading in the Supplementary Homicide Report (SHR) dataset, obtained through The Murder Accountability Project, that has assembled case details on 732,171 homicides from 1976 through 2015, including 23,435 cases not reported to the FBI.  \n",
    "I conducted exploratory data analysis (EDA) - cleaning and preparing the data for analysis. Then I explored trends in the data (solved vs. unsolved cases), realtionship between variables, and added visual representation of the data throughout the analysis.  \n"
   ]
  },
  {
   "cell_type": "code",
   "execution_count": 3,
   "metadata": {
    "collapsed": true
   },
   "outputs": [],
   "source": [
    "# Necessary imports for EDA\n",
    "import numpy as np\n",
    "import pandas as pd\n",
    "import matplotlib\n",
    "import matplotlib.pyplot as plt\n",
    "plt.style.use('fivethirtyeight')\n",
    "import seaborn as sns\n",
    "from __future__ import division"
   ]
  },
  {
   "cell_type": "code",
   "execution_count": 4,
   "metadata": {
    "collapsed": true
   },
   "outputs": [],
   "source": [
    "# Display plots in Jupyter Notebook\n",
    "%matplotlib inline\n",
    "\n",
    "# Increase maximum rows and columns to 999 (instead of the default 60)\n",
    "pd.options.display.max_rows = 999\n",
    "pd.options.display.max_columns = 999"
   ]
  },
  {
   "cell_type": "code",
   "execution_count": 5,
   "metadata": {
    "collapsed": true
   },
   "outputs": [],
   "source": [
    "# Load in the Supplementary Homicide Report (SHR)\n",
    "shr = pd.read_csv('/Users/adibronshtein/Documents/Datasets/Capstone/SHR1976_2015.csv', low_memory=False)"
   ]
  },
  {
   "cell_type": "code",
   "execution_count": 6,
   "metadata": {},
   "outputs": [
    {
     "data": {
      "text/html": [
       "<div>\n",
       "<style>\n",
       "    .dataframe thead tr:only-child th {\n",
       "        text-align: right;\n",
       "    }\n",
       "\n",
       "    .dataframe thead th {\n",
       "        text-align: left;\n",
       "    }\n",
       "\n",
       "    .dataframe tbody tr th {\n",
       "        vertical-align: top;\n",
       "    }\n",
       "</style>\n",
       "<table border=\"1\" class=\"dataframe\">\n",
       "  <thead>\n",
       "    <tr style=\"text-align: right;\">\n",
       "      <th></th>\n",
       "      <th>ID</th>\n",
       "      <th>CNTYFIPS</th>\n",
       "      <th>Ori</th>\n",
       "      <th>State</th>\n",
       "      <th>Agency</th>\n",
       "      <th>Agentype</th>\n",
       "      <th>Source</th>\n",
       "      <th>Solved</th>\n",
       "      <th>Year</th>\n",
       "      <th>StateName</th>\n",
       "      <th>Month</th>\n",
       "      <th>Incident</th>\n",
       "      <th>ActionType</th>\n",
       "      <th>Homicide</th>\n",
       "      <th>Situation</th>\n",
       "      <th>VicAge</th>\n",
       "      <th>VicSex</th>\n",
       "      <th>VicRace</th>\n",
       "      <th>VicEthnic</th>\n",
       "      <th>OffAge</th>\n",
       "      <th>OffSex</th>\n",
       "      <th>OffRace</th>\n",
       "      <th>OffEthnic</th>\n",
       "      <th>Weapon</th>\n",
       "      <th>Relationship</th>\n",
       "      <th>Circumstance</th>\n",
       "      <th>Subcircum</th>\n",
       "      <th>VicCount</th>\n",
       "      <th>OffCount</th>\n",
       "      <th>FileDate</th>\n",
       "      <th>fstate</th>\n",
       "      <th>MSA</th>\n",
       "      <th>StateName2</th>\n",
       "    </tr>\n",
       "  </thead>\n",
       "  <tbody>\n",
       "    <tr>\n",
       "      <th>0</th>\n",
       "      <td>197601001AKASP00</td>\n",
       "      <td>Juneau, AK</td>\n",
       "      <td>AKASP00</td>\n",
       "      <td>Alaska</td>\n",
       "      <td>State Troopers</td>\n",
       "      <td>Primary state LE</td>\n",
       "      <td>FBI</td>\n",
       "      <td>Yes</td>\n",
       "      <td>1976</td>\n",
       "      <td>ALASKA</td>\n",
       "      <td>January</td>\n",
       "      <td>1</td>\n",
       "      <td>Normal update</td>\n",
       "      <td>Murder and non-negligent manslaughter</td>\n",
       "      <td>Single victim/single offender</td>\n",
       "      <td>48</td>\n",
       "      <td>Male</td>\n",
       "      <td>American Indian or Alaskan Native</td>\n",
       "      <td>Unknown or not reported</td>\n",
       "      <td>55</td>\n",
       "      <td>Female</td>\n",
       "      <td>American Indian or Alaskan Native</td>\n",
       "      <td>Unknown or not reported</td>\n",
       "      <td>Knife or cutting instrument</td>\n",
       "      <td>Husband</td>\n",
       "      <td>Other arguments</td>\n",
       "      <td>NaN</td>\n",
       "      <td>0</td>\n",
       "      <td>0</td>\n",
       "      <td>30180</td>\n",
       "      <td>Alaska</td>\n",
       "      <td>Rural Alaska</td>\n",
       "      <td>ALASKA</td>\n",
       "    </tr>\n",
       "    <tr>\n",
       "      <th>1</th>\n",
       "      <td>197601001AL00102</td>\n",
       "      <td>Jefferson, AL</td>\n",
       "      <td>AL00102</td>\n",
       "      <td>Alabama</td>\n",
       "      <td>Birmingham</td>\n",
       "      <td>Municipal police</td>\n",
       "      <td>FBI</td>\n",
       "      <td>Yes</td>\n",
       "      <td>1976</td>\n",
       "      <td>ALA</td>\n",
       "      <td>January</td>\n",
       "      <td>1</td>\n",
       "      <td>Normal update</td>\n",
       "      <td>Murder and non-negligent manslaughter</td>\n",
       "      <td>Single victim/single offender</td>\n",
       "      <td>65</td>\n",
       "      <td>Male</td>\n",
       "      <td>Black</td>\n",
       "      <td>Unknown or not reported</td>\n",
       "      <td>67</td>\n",
       "      <td>Male</td>\n",
       "      <td>Black</td>\n",
       "      <td>Unknown or not reported</td>\n",
       "      <td>Shotgun</td>\n",
       "      <td>Acquaintance</td>\n",
       "      <td>Felon killed by private citizen</td>\n",
       "      <td>Felon killed in commission of a crime</td>\n",
       "      <td>0</td>\n",
       "      <td>0</td>\n",
       "      <td>30180</td>\n",
       "      <td>Alabama</td>\n",
       "      <td>Birmingham-Hoover, AL</td>\n",
       "      <td>ALA</td>\n",
       "    </tr>\n",
       "    <tr>\n",
       "      <th>2</th>\n",
       "      <td>197601001AL00104</td>\n",
       "      <td>Jefferson, AL</td>\n",
       "      <td>AL00104</td>\n",
       "      <td>Alabama</td>\n",
       "      <td>Fairfield</td>\n",
       "      <td>Municipal police</td>\n",
       "      <td>FBI</td>\n",
       "      <td>Yes</td>\n",
       "      <td>1976</td>\n",
       "      <td>ALA</td>\n",
       "      <td>January</td>\n",
       "      <td>1</td>\n",
       "      <td>Normal update</td>\n",
       "      <td>Murder and non-negligent manslaughter</td>\n",
       "      <td>Single victim/single offender</td>\n",
       "      <td>45</td>\n",
       "      <td>Female</td>\n",
       "      <td>Black</td>\n",
       "      <td>Unknown or not reported</td>\n",
       "      <td>53</td>\n",
       "      <td>Male</td>\n",
       "      <td>Black</td>\n",
       "      <td>Unknown or not reported</td>\n",
       "      <td>Shotgun</td>\n",
       "      <td>Wife</td>\n",
       "      <td>Other</td>\n",
       "      <td>NaN</td>\n",
       "      <td>0</td>\n",
       "      <td>0</td>\n",
       "      <td>30180</td>\n",
       "      <td>Alabama</td>\n",
       "      <td>Birmingham-Hoover, AL</td>\n",
       "      <td>ALA</td>\n",
       "    </tr>\n",
       "    <tr>\n",
       "      <th>3</th>\n",
       "      <td>197601001AL00106</td>\n",
       "      <td>Jefferson, AL</td>\n",
       "      <td>AL00106</td>\n",
       "      <td>Alabama</td>\n",
       "      <td>Leeds</td>\n",
       "      <td>Municipal police</td>\n",
       "      <td>FBI</td>\n",
       "      <td>Yes</td>\n",
       "      <td>1976</td>\n",
       "      <td>ALA</td>\n",
       "      <td>January</td>\n",
       "      <td>1</td>\n",
       "      <td>Normal update</td>\n",
       "      <td>Murder and non-negligent manslaughter</td>\n",
       "      <td>Single victim/single offender</td>\n",
       "      <td>43</td>\n",
       "      <td>Male</td>\n",
       "      <td>Black</td>\n",
       "      <td>Unknown or not reported</td>\n",
       "      <td>35</td>\n",
       "      <td>Female</td>\n",
       "      <td>Black</td>\n",
       "      <td>Unknown or not reported</td>\n",
       "      <td>Knife or cutting instrument</td>\n",
       "      <td>Brother</td>\n",
       "      <td>Other arguments</td>\n",
       "      <td>NaN</td>\n",
       "      <td>0</td>\n",
       "      <td>0</td>\n",
       "      <td>30180</td>\n",
       "      <td>Alabama</td>\n",
       "      <td>Birmingham-Hoover, AL</td>\n",
       "      <td>ALA</td>\n",
       "    </tr>\n",
       "    <tr>\n",
       "      <th>4</th>\n",
       "      <td>197601001AL00201</td>\n",
       "      <td>Mobile, AL</td>\n",
       "      <td>AL00201</td>\n",
       "      <td>Alabama</td>\n",
       "      <td>Mobile</td>\n",
       "      <td>Municipal police</td>\n",
       "      <td>FBI</td>\n",
       "      <td>Yes</td>\n",
       "      <td>1976</td>\n",
       "      <td>ALA</td>\n",
       "      <td>January</td>\n",
       "      <td>1</td>\n",
       "      <td>Adjustment</td>\n",
       "      <td>Murder and non-negligent manslaughter</td>\n",
       "      <td>Single victim/single offender</td>\n",
       "      <td>35</td>\n",
       "      <td>Male</td>\n",
       "      <td>White</td>\n",
       "      <td>Unknown or not reported</td>\n",
       "      <td>25</td>\n",
       "      <td>Female</td>\n",
       "      <td>White</td>\n",
       "      <td>Unknown or not reported</td>\n",
       "      <td>Strangulation - hanging</td>\n",
       "      <td>Acquaintance</td>\n",
       "      <td>Circumstances undetermined</td>\n",
       "      <td>NaN</td>\n",
       "      <td>0</td>\n",
       "      <td>0</td>\n",
       "      <td>30180</td>\n",
       "      <td>Alabama</td>\n",
       "      <td>Mobile, AL</td>\n",
       "      <td>ALA</td>\n",
       "    </tr>\n",
       "  </tbody>\n",
       "</table>\n",
       "</div>"
      ],
      "text/plain": [
       "                 ID       CNTYFIPS      Ori    State          Agency  \\\n",
       "0  197601001AKASP00     Juneau, AK  AKASP00   Alaska  State Troopers   \n",
       "1  197601001AL00102  Jefferson, AL  AL00102  Alabama      Birmingham   \n",
       "2  197601001AL00104  Jefferson, AL  AL00104  Alabama       Fairfield   \n",
       "3  197601001AL00106  Jefferson, AL  AL00106  Alabama           Leeds   \n",
       "4  197601001AL00201     Mobile, AL  AL00201  Alabama          Mobile   \n",
       "\n",
       "           Agentype Source Solved  Year StateName    Month  Incident  \\\n",
       "0  Primary state LE    FBI    Yes  1976    ALASKA  January         1   \n",
       "1  Municipal police    FBI    Yes  1976       ALA  January         1   \n",
       "2  Municipal police    FBI    Yes  1976       ALA  January         1   \n",
       "3  Municipal police    FBI    Yes  1976       ALA  January         1   \n",
       "4  Municipal police    FBI    Yes  1976       ALA  January         1   \n",
       "\n",
       "      ActionType                               Homicide  \\\n",
       "0  Normal update  Murder and non-negligent manslaughter   \n",
       "1  Normal update  Murder and non-negligent manslaughter   \n",
       "2  Normal update  Murder and non-negligent manslaughter   \n",
       "3  Normal update  Murder and non-negligent manslaughter   \n",
       "4     Adjustment  Murder and non-negligent manslaughter   \n",
       "\n",
       "                       Situation VicAge  VicSex  \\\n",
       "0  Single victim/single offender     48    Male   \n",
       "1  Single victim/single offender     65    Male   \n",
       "2  Single victim/single offender     45  Female   \n",
       "3  Single victim/single offender     43    Male   \n",
       "4  Single victim/single offender     35    Male   \n",
       "\n",
       "                             VicRace                VicEthnic OffAge  OffSex  \\\n",
       "0  American Indian or Alaskan Native  Unknown or not reported     55  Female   \n",
       "1                              Black  Unknown or not reported     67    Male   \n",
       "2                              Black  Unknown or not reported     53    Male   \n",
       "3                              Black  Unknown or not reported     35  Female   \n",
       "4                              White  Unknown or not reported     25  Female   \n",
       "\n",
       "                             OffRace                OffEthnic  \\\n",
       "0  American Indian or Alaskan Native  Unknown or not reported   \n",
       "1                              Black  Unknown or not reported   \n",
       "2                              Black  Unknown or not reported   \n",
       "3                              Black  Unknown or not reported   \n",
       "4                              White  Unknown or not reported   \n",
       "\n",
       "                        Weapon  Relationship                     Circumstance  \\\n",
       "0  Knife or cutting instrument       Husband                  Other arguments   \n",
       "1                      Shotgun  Acquaintance  Felon killed by private citizen   \n",
       "2                      Shotgun          Wife                            Other   \n",
       "3  Knife or cutting instrument       Brother                  Other arguments   \n",
       "4      Strangulation - hanging  Acquaintance       Circumstances undetermined   \n",
       "\n",
       "                               Subcircum  VicCount  OffCount  FileDate  \\\n",
       "0                                    NaN         0         0     30180   \n",
       "1  Felon killed in commission of a crime         0         0     30180   \n",
       "2                                    NaN         0         0     30180   \n",
       "3                                    NaN         0         0     30180   \n",
       "4                                    NaN         0         0     30180   \n",
       "\n",
       "    fstate                    MSA StateName2  \n",
       "0   Alaska           Rural Alaska     ALASKA  \n",
       "1  Alabama  Birmingham-Hoover, AL        ALA  \n",
       "2  Alabama  Birmingham-Hoover, AL        ALA  \n",
       "3  Alabama  Birmingham-Hoover, AL        ALA  \n",
       "4  Alabama             Mobile, AL        ALA  "
      ]
     },
     "execution_count": 6,
     "metadata": {},
     "output_type": "execute_result"
    }
   ],
   "source": [
    "# Check the first five rows, to see that data loaded correctly:\n",
    "shr.head()"
   ]
  },
  {
   "cell_type": "code",
   "execution_count": 44,
   "metadata": {},
   "outputs": [
    {
     "data": {
      "text/html": [
       "<div>\n",
       "<style>\n",
       "    .dataframe thead tr:only-child th {\n",
       "        text-align: right;\n",
       "    }\n",
       "\n",
       "    .dataframe thead th {\n",
       "        text-align: left;\n",
       "    }\n",
       "\n",
       "    .dataframe tbody tr th {\n",
       "        vertical-align: top;\n",
       "    }\n",
       "</style>\n",
       "<table border=\"1\" class=\"dataframe\">\n",
       "  <thead>\n",
       "    <tr style=\"text-align: right;\">\n",
       "      <th></th>\n",
       "      <th>ID</th>\n",
       "      <th>CNTYFIPS</th>\n",
       "      <th>Ori</th>\n",
       "      <th>State</th>\n",
       "      <th>Agency</th>\n",
       "      <th>Agentype</th>\n",
       "      <th>Source</th>\n",
       "      <th>Solved</th>\n",
       "      <th>Year</th>\n",
       "      <th>StateName</th>\n",
       "      <th>Month</th>\n",
       "      <th>Incident</th>\n",
       "      <th>ActionType</th>\n",
       "      <th>Homicide</th>\n",
       "      <th>Situation</th>\n",
       "      <th>VicAge</th>\n",
       "      <th>VicSex</th>\n",
       "      <th>VicRace</th>\n",
       "      <th>VicEthnic</th>\n",
       "      <th>OffAge</th>\n",
       "      <th>OffSex</th>\n",
       "      <th>OffRace</th>\n",
       "      <th>OffEthnic</th>\n",
       "      <th>Weapon</th>\n",
       "      <th>Relationship</th>\n",
       "      <th>Circumstance</th>\n",
       "      <th>Subcircum</th>\n",
       "      <th>VicCount</th>\n",
       "      <th>OffCount</th>\n",
       "      <th>FileDate</th>\n",
       "      <th>fstate</th>\n",
       "      <th>MSA</th>\n",
       "      <th>StateName2</th>\n",
       "    </tr>\n",
       "  </thead>\n",
       "  <tbody>\n",
       "    <tr>\n",
       "      <th>732166</th>\n",
       "      <td>201512961FL03703</td>\n",
       "      <td>Leon, FL</td>\n",
       "      <td>FL03703</td>\n",
       "      <td>Florida</td>\n",
       "      <td>Tallahassee</td>\n",
       "      <td>Municipal police</td>\n",
       "      <td>MAP</td>\n",
       "      <td>Yes</td>\n",
       "      <td>2015</td>\n",
       "      <td>FLA</td>\n",
       "      <td>December</td>\n",
       "      <td>961</td>\n",
       "      <td>Normal update</td>\n",
       "      <td>Murder and non-negligent manslaughter</td>\n",
       "      <td>Single victim/single offender</td>\n",
       "      <td>24.0</td>\n",
       "      <td>Male</td>\n",
       "      <td>Black</td>\n",
       "      <td>Unknown or not reported</td>\n",
       "      <td>32.0</td>\n",
       "      <td>Male</td>\n",
       "      <td>Black</td>\n",
       "      <td>Unknown or not reported</td>\n",
       "      <td>Rifle</td>\n",
       "      <td>Relationship not determined</td>\n",
       "      <td>Felon killed by police</td>\n",
       "      <td>Felon killed in commission of a crime</td>\n",
       "      <td>0</td>\n",
       "      <td>0</td>\n",
       "      <td>30116</td>\n",
       "      <td>Florida</td>\n",
       "      <td>Tallahassee, FL</td>\n",
       "      <td>FLA</td>\n",
       "    </tr>\n",
       "    <tr>\n",
       "      <th>732167</th>\n",
       "      <td>201512985FL04100</td>\n",
       "      <td>Manatee, FL</td>\n",
       "      <td>FL04100</td>\n",
       "      <td>Florida</td>\n",
       "      <td>Manatee County</td>\n",
       "      <td>Sheriff</td>\n",
       "      <td>MAP</td>\n",
       "      <td>Yes</td>\n",
       "      <td>2015</td>\n",
       "      <td>FLA</td>\n",
       "      <td>December</td>\n",
       "      <td>985</td>\n",
       "      <td>Normal update</td>\n",
       "      <td>Murder and non-negligent manslaughter</td>\n",
       "      <td>Single victim/single offender</td>\n",
       "      <td>1.0</td>\n",
       "      <td>Male</td>\n",
       "      <td>Black</td>\n",
       "      <td>Unknown or not reported</td>\n",
       "      <td>37.0</td>\n",
       "      <td>Male</td>\n",
       "      <td>White</td>\n",
       "      <td>Unknown or not reported</td>\n",
       "      <td>Personal weapons, includes beating</td>\n",
       "      <td>Relationship not determined</td>\n",
       "      <td>All other manslaughter by negligence</td>\n",
       "      <td>NaN</td>\n",
       "      <td>0</td>\n",
       "      <td>0</td>\n",
       "      <td>30116</td>\n",
       "      <td>Florida</td>\n",
       "      <td>Sarasota-Bradenton-Venice, FL</td>\n",
       "      <td>FLA</td>\n",
       "    </tr>\n",
       "    <tr>\n",
       "      <th>732168</th>\n",
       "      <td>201512986FL04100</td>\n",
       "      <td>Manatee, FL</td>\n",
       "      <td>FL04100</td>\n",
       "      <td>Florida</td>\n",
       "      <td>Manatee County</td>\n",
       "      <td>Sheriff</td>\n",
       "      <td>MAP</td>\n",
       "      <td>Yes</td>\n",
       "      <td>2015</td>\n",
       "      <td>FLA</td>\n",
       "      <td>December</td>\n",
       "      <td>986</td>\n",
       "      <td>Normal update</td>\n",
       "      <td>Murder and non-negligent manslaughter</td>\n",
       "      <td>Single victim/single offender</td>\n",
       "      <td>26.0</td>\n",
       "      <td>Male</td>\n",
       "      <td>Black</td>\n",
       "      <td>Unknown or not reported</td>\n",
       "      <td>37.0</td>\n",
       "      <td>Male</td>\n",
       "      <td>Black</td>\n",
       "      <td>Unknown or not reported</td>\n",
       "      <td>Firearm, type not stated</td>\n",
       "      <td>Relationship not determined</td>\n",
       "      <td>Other</td>\n",
       "      <td>NaN</td>\n",
       "      <td>0</td>\n",
       "      <td>0</td>\n",
       "      <td>30116</td>\n",
       "      <td>Florida</td>\n",
       "      <td>Sarasota-Bradenton-Venice, FL</td>\n",
       "      <td>FLA</td>\n",
       "    </tr>\n",
       "    <tr>\n",
       "      <th>732169</th>\n",
       "      <td>201512987FL04100</td>\n",
       "      <td>Manatee, FL</td>\n",
       "      <td>FL04100</td>\n",
       "      <td>Florida</td>\n",
       "      <td>Manatee County</td>\n",
       "      <td>Sheriff</td>\n",
       "      <td>MAP</td>\n",
       "      <td>Yes</td>\n",
       "      <td>2015</td>\n",
       "      <td>FLA</td>\n",
       "      <td>December</td>\n",
       "      <td>987</td>\n",
       "      <td>Normal update</td>\n",
       "      <td>Murder and non-negligent manslaughter</td>\n",
       "      <td>Single victim/single offender</td>\n",
       "      <td>27.0</td>\n",
       "      <td>Male</td>\n",
       "      <td>Black</td>\n",
       "      <td>Unknown or not reported</td>\n",
       "      <td>20.0</td>\n",
       "      <td>Male</td>\n",
       "      <td>Black</td>\n",
       "      <td>Unknown or not reported</td>\n",
       "      <td>Firearm, type not stated</td>\n",
       "      <td>Relationship not determined</td>\n",
       "      <td>Other - not specified</td>\n",
       "      <td>NaN</td>\n",
       "      <td>0</td>\n",
       "      <td>0</td>\n",
       "      <td>30116</td>\n",
       "      <td>Florida</td>\n",
       "      <td>Sarasota-Bradenton-Venice, FL</td>\n",
       "      <td>FLA</td>\n",
       "    </tr>\n",
       "    <tr>\n",
       "      <th>732170</th>\n",
       "      <td>201512987LA02803</td>\n",
       "      <td>Lafayette, LA</td>\n",
       "      <td>LA02803</td>\n",
       "      <td>Louisiana</td>\n",
       "      <td>Lafayette</td>\n",
       "      <td>Municipal police</td>\n",
       "      <td>FBI</td>\n",
       "      <td>No</td>\n",
       "      <td>2015</td>\n",
       "      <td>LA</td>\n",
       "      <td>December</td>\n",
       "      <td>987</td>\n",
       "      <td>2</td>\n",
       "      <td>Murder and non-negligent manslaughter</td>\n",
       "      <td>Single victim/unknown offender(s)</td>\n",
       "      <td>57.0</td>\n",
       "      <td>Male</td>\n",
       "      <td>Asian or Pacific Islander</td>\n",
       "      <td>Unknown or not reported</td>\n",
       "      <td>NaN</td>\n",
       "      <td>Unknown</td>\n",
       "      <td>Unknown</td>\n",
       "      <td>Unknown or not reported</td>\n",
       "      <td>Handgun - pistol, revolver, etc</td>\n",
       "      <td>Relationship not determined</td>\n",
       "      <td>Robbery</td>\n",
       "      <td>NaN</td>\n",
       "      <td>0</td>\n",
       "      <td>0</td>\n",
       "      <td>60216</td>\n",
       "      <td>Louisiana</td>\n",
       "      <td>Lafayette, LA</td>\n",
       "      <td>LA</td>\n",
       "    </tr>\n",
       "  </tbody>\n",
       "</table>\n",
       "</div>"
      ],
      "text/plain": [
       "                      ID       CNTYFIPS      Ori      State          Agency  \\\n",
       "732166  201512961FL03703       Leon, FL  FL03703    Florida     Tallahassee   \n",
       "732167  201512985FL04100    Manatee, FL  FL04100    Florida  Manatee County   \n",
       "732168  201512986FL04100    Manatee, FL  FL04100    Florida  Manatee County   \n",
       "732169  201512987FL04100    Manatee, FL  FL04100    Florida  Manatee County   \n",
       "732170  201512987LA02803  Lafayette, LA  LA02803  Louisiana       Lafayette   \n",
       "\n",
       "                Agentype Source Solved  Year StateName     Month  Incident  \\\n",
       "732166  Municipal police    MAP    Yes  2015       FLA  December       961   \n",
       "732167           Sheriff    MAP    Yes  2015       FLA  December       985   \n",
       "732168           Sheriff    MAP    Yes  2015       FLA  December       986   \n",
       "732169           Sheriff    MAP    Yes  2015       FLA  December       987   \n",
       "732170  Municipal police    FBI     No  2015        LA  December       987   \n",
       "\n",
       "           ActionType                               Homicide  \\\n",
       "732166  Normal update  Murder and non-negligent manslaughter   \n",
       "732167  Normal update  Murder and non-negligent manslaughter   \n",
       "732168  Normal update  Murder and non-negligent manslaughter   \n",
       "732169  Normal update  Murder and non-negligent manslaughter   \n",
       "732170              2  Murder and non-negligent manslaughter   \n",
       "\n",
       "                                Situation  VicAge VicSex  \\\n",
       "732166      Single victim/single offender    24.0   Male   \n",
       "732167      Single victim/single offender     1.0   Male   \n",
       "732168      Single victim/single offender    26.0   Male   \n",
       "732169      Single victim/single offender    27.0   Male   \n",
       "732170  Single victim/unknown offender(s)    57.0   Male   \n",
       "\n",
       "                          VicRace                VicEthnic  OffAge   OffSex  \\\n",
       "732166                      Black  Unknown or not reported    32.0     Male   \n",
       "732167                      Black  Unknown or not reported    37.0     Male   \n",
       "732168                      Black  Unknown or not reported    37.0     Male   \n",
       "732169                      Black  Unknown or not reported    20.0     Male   \n",
       "732170  Asian or Pacific Islander  Unknown or not reported     NaN  Unknown   \n",
       "\n",
       "        OffRace                OffEthnic                              Weapon  \\\n",
       "732166    Black  Unknown or not reported                               Rifle   \n",
       "732167    White  Unknown or not reported  Personal weapons, includes beating   \n",
       "732168    Black  Unknown or not reported            Firearm, type not stated   \n",
       "732169    Black  Unknown or not reported            Firearm, type not stated   \n",
       "732170  Unknown  Unknown or not reported     Handgun - pistol, revolver, etc   \n",
       "\n",
       "                       Relationship                          Circumstance  \\\n",
       "732166  Relationship not determined                Felon killed by police   \n",
       "732167  Relationship not determined  All other manslaughter by negligence   \n",
       "732168  Relationship not determined                                 Other   \n",
       "732169  Relationship not determined                 Other - not specified   \n",
       "732170  Relationship not determined                               Robbery   \n",
       "\n",
       "                                    Subcircum  VicCount  OffCount  FileDate  \\\n",
       "732166  Felon killed in commission of a crime         0         0     30116   \n",
       "732167                                    NaN         0         0     30116   \n",
       "732168                                    NaN         0         0     30116   \n",
       "732169                                    NaN         0         0     30116   \n",
       "732170                                    NaN         0         0     60216   \n",
       "\n",
       "           fstate                            MSA StateName2  \n",
       "732166    Florida                Tallahassee, FL        FLA  \n",
       "732167    Florida  Sarasota-Bradenton-Venice, FL        FLA  \n",
       "732168    Florida  Sarasota-Bradenton-Venice, FL        FLA  \n",
       "732169    Florida  Sarasota-Bradenton-Venice, FL        FLA  \n",
       "732170  Louisiana                  Lafayette, LA         LA  "
      ]
     },
     "execution_count": 44,
     "metadata": {},
     "output_type": "execute_result"
    }
   ],
   "source": [
    "# Check the last five rows\n",
    "shr.tail()"
   ]
  },
  {
   "cell_type": "markdown",
   "metadata": {},
   "source": [
    "## Exploratory Data Analysis"
   ]
  },
  {
   "cell_type": "code",
   "execution_count": 8,
   "metadata": {},
   "outputs": [
    {
     "data": {
      "text/plain": [
       "(732171, 33)"
      ]
     },
     "execution_count": 8,
     "metadata": {},
     "output_type": "execute_result"
    }
   ],
   "source": [
    "shr.shape"
   ]
  },
  {
   "cell_type": "markdown",
   "metadata": {},
   "source": [
    "As described on The Murder Accountability Project website (http://www.murderdata.org/), it has assembled case details on 732,171 homicides from 1976 through 2015, including 23,435 cases not reported to the FBI. As seen here, there are $732,171$ rows in this dataset, and 33 columns."
   ]
  },
  {
   "cell_type": "code",
   "execution_count": 9,
   "metadata": {},
   "outputs": [
    {
     "data": {
      "text/plain": [
       "Index([u'ID', u'CNTYFIPS', u'Ori', u'State', u'Agency', u'Agentype', u'Source',\n",
       "       u'Solved', u'Year', u'StateName', u'Month', u'Incident', u'ActionType',\n",
       "       u'Homicide', u'Situation', u'VicAge', u'VicSex', u'VicRace',\n",
       "       u'VicEthnic', u'OffAge', u'OffSex', u'OffRace', u'OffEthnic', u'Weapon',\n",
       "       u'Relationship', u'Circumstance', u'Subcircum', u'VicCount',\n",
       "       u'OffCount', u'FileDate', u'fstate', u'MSA', u'StateName2'],\n",
       "      dtype='object')"
      ]
     },
     "execution_count": 9,
     "metadata": {},
     "output_type": "execute_result"
    }
   ],
   "source": [
    "shr.columns"
   ]
  },
  {
   "cell_type": "markdown",
   "metadata": {},
   "source": [
    "### Data Dictionary \n",
    "\n",
    "| Column | Description | \n",
    "| :--- | :--- | \n",
    "| ID | ID of incident |\n",
    "| CNTYFIPS | County |\n",
    "| Ori | Originating Agency Identifier |\n",
    "| State | State|\n",
    "| Agency | Law Enforcement Agency|\n",
    "| Agentype | Type of Agency |\n",
    "| Source| FBI or Murder Accountability Project |\n",
    "| Solved | Case Solved or Not |\n",
    "| Year | Year of Incident |\n",
    "| StateName| Name of State |\n",
    "| Month | Month of Incident |\n",
    "| Incident | (defined as) Incident Number |\n",
    "| ActionType | What Actions Were Taken Post-Incident |\n",
    "| Homicide | Type/Degree of Homicide |\n",
    "| Situation | Single vs. Multiple Victims/Offenders |\n",
    "| VicAge | Age of Victim |\n",
    "| VicSex | Gender of Victim |\n",
    "| VicRace | Race of Victim | \n",
    "| VicEthnic | Ethnicity of Offender |\n",
    "| OffAge | Age of Victim |\n",
    "| OffSex | Gender of Offender |\n",
    "| OffRace | Race of Offender | \n",
    "| OffEthnic | Ethnicity of Offender |\n",
    "| Weapon | Weapon Used in Incident |\n",
    "| Relationship | Relationship between Victim(s) and Offender(s) |\n",
    "| Circumstance | Circumstances of Incident |\n",
    "| Subcircum | Subcirumstances of Incident | \n",
    "| VicCount | Number of Victims |\n",
    "| OffCount | Number of Offenders |\n",
    "| FileDate | Date the Incident Was Filed |\n",
    "| fstate | State Names (again) | \n",
    "| MSA | Metropolitan Statistical Area | \n",
    "| StateName2 | State Name, Mostly Shortened |"
   ]
  },
  {
   "cell_type": "code",
   "execution_count": 10,
   "metadata": {},
   "outputs": [
    {
     "data": {
      "text/plain": [
       "ID              object\n",
       "CNTYFIPS        object\n",
       "Ori             object\n",
       "State           object\n",
       "Agency          object\n",
       "Agentype        object\n",
       "Source          object\n",
       "Solved          object\n",
       "Year             int64\n",
       "StateName       object\n",
       "Month           object\n",
       "Incident         int64\n",
       "ActionType      object\n",
       "Homicide        object\n",
       "Situation       object\n",
       "VicAge          object\n",
       "VicSex          object\n",
       "VicRace         object\n",
       "VicEthnic       object\n",
       "OffAge          object\n",
       "OffSex          object\n",
       "OffRace         object\n",
       "OffEthnic       object\n",
       "Weapon          object\n",
       "Relationship    object\n",
       "Circumstance    object\n",
       "Subcircum       object\n",
       "VicCount         int64\n",
       "OffCount         int64\n",
       "FileDate         int64\n",
       "fstate          object\n",
       "MSA             object\n",
       "StateName2      object\n",
       "dtype: object"
      ]
     },
     "execution_count": 10,
     "metadata": {},
     "output_type": "execute_result"
    }
   ],
   "source": [
    "shr.dtypes"
   ]
  },
  {
   "cell_type": "markdown",
   "metadata": {},
   "source": [
    "Some columns (such as VicAge and OffAge) will have to be converted to numerical in order to analyze them. "
   ]
  },
  {
   "cell_type": "code",
   "execution_count": 11,
   "metadata": {
    "scrolled": true
   },
   "outputs": [
    {
     "data": {
      "text/plain": [
       "22                      26330\n",
       "25                      26147\n",
       "21                      25976\n",
       "20                      25892\n",
       "23                      25663\n",
       "24                      24989\n",
       "19                      24725\n",
       "26                      23588\n",
       "27                      22350\n",
       "30                      21609\n",
       "28                      21080\n",
       "29                      20704\n",
       "18                      20676\n",
       "32                      18026\n",
       "31                      17926\n",
       "33                      16386\n",
       "35                      16334\n",
       "34                      16295\n",
       "17                      15757\n",
       "36                      14247\n",
       "37                      13424\n",
       "38                      13007\n",
       "40                      12774\n",
       "39                      12345\n",
       "42                      11008\n",
       "41                      10841\n",
       "16                      10613\n",
       "0                       10529\n",
       "999                     10290\n",
       "43                       9891\n",
       "45                       9470\n",
       "44                       9114\n",
       "46                       8446\n",
       "47                       8034\n",
       "50                       7578\n",
       "48                       7397\n",
       "49                       7184\n",
       "15                       6623\n",
       "52                       6222\n",
       "51                       6185\n",
       "1                        6111\n",
       "53                       5704\n",
       "54                       5361\n",
       "55                       5159\n",
       "56                       4726\n",
       "57                       4467\n",
       "2                        4353\n",
       "58                       3957\n",
       "60                       3850\n",
       "59                       3790\n",
       "14                       3780\n",
       "62                       3480\n",
       "61                       3333\n",
       "63                       3057\n",
       "65                       2942\n",
       "3                        2728\n",
       "64                       2705\n",
       "67                       2406\n",
       "66                       2237\n",
       "68                       2176\n",
       "13                       2162\n",
       "70                       2125\n",
       "69                       2021\n",
       "4                        1912\n",
       "72                       1910\n",
       "71                       1810\n",
       "73                       1642\n",
       "75                       1631\n",
       "74                       1591\n",
       "12                       1446\n",
       "76                       1427\n",
       "5                        1395\n",
       "77                       1302\n",
       "78                       1290\n",
       "79                       1254\n",
       "80                       1209\n",
       "6                        1171\n",
       "7                        1069\n",
       "11                       1048\n",
       "81                       1045\n",
       "8                        1024\n",
       "10                       1004\n",
       "9                         985\n",
       "82                        969\n",
       "83                        887\n",
       "84                        777\n",
       "85                        719\n",
       "86                        648\n",
       "87                        524\n",
       "88                        455\n",
       "89                        348\n",
       "90                        332\n",
       "91                        235\n",
       "92                        178\n",
       "93                        153\n",
       "94                        135\n",
       "99 years old or more      124\n",
       "95                         97\n",
       "97                         45\n",
       "96                         42\n",
       "98                         33\n",
       "Name: VicAge, dtype: int64"
      ]
     },
     "execution_count": 11,
     "metadata": {},
     "output_type": "execute_result"
    }
   ],
   "source": [
    "shr.VicAge.value_counts()"
   ]
  },
  {
   "cell_type": "code",
   "execution_count": 12,
   "metadata": {
    "collapsed": true
   },
   "outputs": [],
   "source": [
    "# 999/'999' stand for missing values. I'm changing those to NaN\n",
    "shr.VicAge.replace('999',np.nan, inplace=True)\n",
    "shr.VicAge.replace(999, np.nan, inplace=True)\n",
    "shr.VicAge.replace('99 years old or more', 99, inplace=True)"
   ]
  },
  {
   "cell_type": "code",
   "execution_count": 13,
   "metadata": {
    "collapsed": true
   },
   "outputs": [],
   "source": [
    "shr.VicAge = shr.VicAge.astype(float)"
   ]
  },
  {
   "cell_type": "code",
   "execution_count": 14,
   "metadata": {},
   "outputs": [
    {
     "data": {
      "text/plain": [
       "array(['55', '67', '53', '35', '25', '26', '29', '19', '30', '42', '43',\n",
       "       '27', '45', '56', '18', '33', '57', '14', '16', '78', '23', '999',\n",
       "       '70', '17', '37', '15', '39', '10', '40', '41', '20', '51', '24',\n",
       "       '32', '44', '36', '58', '28', '52', '31', '21', '61', '22', '34',\n",
       "       '38', '64', '48', '84', '65', '76', '46', '71', '49', '62', '79',\n",
       "       '68', '66', '50', '81', '47', '63', '59', '13', '74', '11', '77',\n",
       "       '73', '88', '12', '54', '60', '75', '83', '3', '86', '69',\n",
       "       '99 years old or more', '72', '85', '9', '94', '8', '80', '98', '7',\n",
       "       '82', '5', '87', '6', '2', '4', '90', '89', '92', '91', '93',\n",
       "       '1 year old', '95', '96', '97'], dtype=object)"
      ]
     },
     "execution_count": 14,
     "metadata": {},
     "output_type": "execute_result"
    }
   ],
   "source": [
    "shr.OffAge.unique()"
   ]
  },
  {
   "cell_type": "markdown",
   "metadata": {},
   "source": [
    "999 stands for missing values. Not surprisingly, there are a lot of missing values for offender's age - most likely unknown offenders. \n"
   ]
  },
  {
   "cell_type": "code",
   "execution_count": 15,
   "metadata": {
    "scrolled": true
   },
   "outputs": [
    {
     "data": {
      "text/plain": [
       "999                     242269\n",
       "20                       24466\n",
       "19                       22862\n",
       "21                       21788\n",
       "22                       21406\n",
       "18                       21143\n",
       "25                       20560\n",
       "23                       20352\n",
       "24                       19200\n",
       "26                       17250\n",
       "27                       16472\n",
       "17                       16060\n",
       "30                       15918\n",
       "28                       15736\n",
       "29                       14666\n",
       "31                       12724\n",
       "32                       12626\n",
       "33                       11482\n",
       "35                       11261\n",
       "34                       10824\n",
       "16                       10767\n",
       "36                        9566\n",
       "37                        9152\n",
       "38                        8569\n",
       "40                        8104\n",
       "39                        8033\n",
       "41                        7014\n",
       "42                        6794\n",
       "43                        6289\n",
       "15                        6202\n",
       "45                        5862\n",
       "44                        5850\n",
       "46                        4839\n",
       "47                        4777\n",
       "48                        4505\n",
       "49                        4197\n",
       "50                        4182\n",
       "51                        3609\n",
       "52                        3355\n",
       "53                        3048\n",
       "14                        2992\n",
       "54                        2793\n",
       "55                        2663\n",
       "56                        2434\n",
       "57                        2144\n",
       "58                        2029\n",
       "59                        1892\n",
       "60                        1714\n",
       "61                        1485\n",
       "62                        1410\n",
       "13                        1297\n",
       "63                        1279\n",
       "64                        1264\n",
       "65                        1145\n",
       "66                         968\n",
       "67                         937\n",
       "68                         875\n",
       "69                         765\n",
       "70                         694\n",
       "71                         647\n",
       "72                         601\n",
       "12                         565\n",
       "73                         550\n",
       "74                         453\n",
       "75                         452\n",
       "76                         418\n",
       "77                         380\n",
       "78                         321\n",
       "79                         295\n",
       "11                         281\n",
       "80                         281\n",
       "81                         276\n",
       "82                         236\n",
       "83                         198\n",
       "10                         188\n",
       "84                         170\n",
       "85                         161\n",
       "87                         125\n",
       "86                         117\n",
       "9                          104\n",
       "99 years old or more       102\n",
       "88                          93\n",
       "8                           76\n",
       "89                          64\n",
       "6                           61\n",
       "90                          60\n",
       "7                           52\n",
       "5                           39\n",
       "4                           37\n",
       "91                          37\n",
       "1 year old                  36\n",
       "92                          33\n",
       "3                           32\n",
       "93                          20\n",
       "94                          14\n",
       "95                           9\n",
       "2                            9\n",
       "98                           9\n",
       "96                           7\n",
       "97                           3\n",
       "Name: OffAge, dtype: int64"
      ]
     },
     "execution_count": 15,
     "metadata": {},
     "output_type": "execute_result"
    }
   ],
   "source": [
    "shr.OffAge.value_counts()"
   ]
  },
  {
   "cell_type": "code",
   "execution_count": 16,
   "metadata": {
    "collapsed": true
   },
   "outputs": [],
   "source": [
    "# Replace 999/'999' with np.nap\n",
    "shr.OffAge.replace([999,'999'], np.nan, inplace=True)"
   ]
  },
  {
   "cell_type": "code",
   "execution_count": 17,
   "metadata": {
    "collapsed": true
   },
   "outputs": [],
   "source": [
    "shr.OffAge.replace('99 years old or more', 100, inplace=True)"
   ]
  },
  {
   "cell_type": "code",
   "execution_count": 18,
   "metadata": {
    "collapsed": true
   },
   "outputs": [],
   "source": [
    "# Don't know a lot of 1 year old murderers... Probably a data entry error. Only 36 in the entire dataset though. \n",
    "shr.OffAge.replace('1 year old', 1, inplace=True)"
   ]
  },
  {
   "cell_type": "code",
   "execution_count": 19,
   "metadata": {
    "collapsed": true
   },
   "outputs": [],
   "source": [
    "# Convert offenders age to numerical:\n",
    "shr['OffAge'] = pd.to_numeric(shr['OffAge'], errors = 'coerce')"
   ]
  },
  {
   "cell_type": "code",
   "execution_count": 20,
   "metadata": {},
   "outputs": [
    {
     "data": {
      "text/html": [
       "<div>\n",
       "<style>\n",
       "    .dataframe thead tr:only-child th {\n",
       "        text-align: right;\n",
       "    }\n",
       "\n",
       "    .dataframe thead th {\n",
       "        text-align: left;\n",
       "    }\n",
       "\n",
       "    .dataframe tbody tr th {\n",
       "        vertical-align: top;\n",
       "    }\n",
       "</style>\n",
       "<table border=\"1\" class=\"dataframe\">\n",
       "  <thead>\n",
       "    <tr style=\"text-align: right;\">\n",
       "      <th></th>\n",
       "      <th>Year</th>\n",
       "      <th>Incident</th>\n",
       "      <th>VicAge</th>\n",
       "      <th>OffAge</th>\n",
       "      <th>VicCount</th>\n",
       "      <th>OffCount</th>\n",
       "      <th>FileDate</th>\n",
       "    </tr>\n",
       "  </thead>\n",
       "  <tbody>\n",
       "    <tr>\n",
       "      <th>count</th>\n",
       "      <td>732171.000000</td>\n",
       "      <td>732171.000000</td>\n",
       "      <td>721881.000000</td>\n",
       "      <td>489902.000000</td>\n",
       "      <td>732171.000000</td>\n",
       "      <td>732171.000000</td>\n",
       "      <td>732171.000000</td>\n",
       "    </tr>\n",
       "    <tr>\n",
       "      <th>mean</th>\n",
       "      <td>1994.282741</td>\n",
       "      <td>26.301014</td>\n",
       "      <td>32.762727</td>\n",
       "      <td>30.902246</td>\n",
       "      <td>0.123737</td>\n",
       "      <td>0.179402</td>\n",
       "      <td>50973.232108</td>\n",
       "    </tr>\n",
       "    <tr>\n",
       "      <th>std</th>\n",
       "      <td>11.265598</td>\n",
       "      <td>102.364930</td>\n",
       "      <td>16.171170</td>\n",
       "      <td>12.876774</td>\n",
       "      <td>0.542241</td>\n",
       "      <td>0.583334</td>\n",
       "      <td>32154.539944</td>\n",
       "    </tr>\n",
       "    <tr>\n",
       "      <th>min</th>\n",
       "      <td>1976.000000</td>\n",
       "      <td>0.000000</td>\n",
       "      <td>0.000000</td>\n",
       "      <td>1.000000</td>\n",
       "      <td>0.000000</td>\n",
       "      <td>0.000000</td>\n",
       "      <td>10181.000000</td>\n",
       "    </tr>\n",
       "    <tr>\n",
       "      <th>25%</th>\n",
       "      <td>1985.000000</td>\n",
       "      <td>1.000000</td>\n",
       "      <td>22.000000</td>\n",
       "      <td>21.000000</td>\n",
       "      <td>0.000000</td>\n",
       "      <td>0.000000</td>\n",
       "      <td>30112.000000</td>\n",
       "    </tr>\n",
       "    <tr>\n",
       "      <th>50%</th>\n",
       "      <td>1993.000000</td>\n",
       "      <td>2.000000</td>\n",
       "      <td>29.000000</td>\n",
       "      <td>28.000000</td>\n",
       "      <td>0.000000</td>\n",
       "      <td>0.000000</td>\n",
       "      <td>33084.000000</td>\n",
       "    </tr>\n",
       "    <tr>\n",
       "      <th>75%</th>\n",
       "      <td>2004.000000</td>\n",
       "      <td>10.000000</td>\n",
       "      <td>41.000000</td>\n",
       "      <td>37.000000</td>\n",
       "      <td>0.000000</td>\n",
       "      <td>0.000000</td>\n",
       "      <td>80790.000000</td>\n",
       "    </tr>\n",
       "    <tr>\n",
       "      <th>max</th>\n",
       "      <td>2015.000000</td>\n",
       "      <td>999.000000</td>\n",
       "      <td>99.000000</td>\n",
       "      <td>100.000000</td>\n",
       "      <td>10.000000</td>\n",
       "      <td>34.000000</td>\n",
       "      <td>123197.000000</td>\n",
       "    </tr>\n",
       "  </tbody>\n",
       "</table>\n",
       "</div>"
      ],
      "text/plain": [
       "                Year       Incident         VicAge         OffAge  \\\n",
       "count  732171.000000  732171.000000  721881.000000  489902.000000   \n",
       "mean     1994.282741      26.301014      32.762727      30.902246   \n",
       "std        11.265598     102.364930      16.171170      12.876774   \n",
       "min      1976.000000       0.000000       0.000000       1.000000   \n",
       "25%      1985.000000       1.000000      22.000000      21.000000   \n",
       "50%      1993.000000       2.000000      29.000000      28.000000   \n",
       "75%      2004.000000      10.000000      41.000000      37.000000   \n",
       "max      2015.000000     999.000000      99.000000     100.000000   \n",
       "\n",
       "            VicCount       OffCount       FileDate  \n",
       "count  732171.000000  732171.000000  732171.000000  \n",
       "mean        0.123737       0.179402   50973.232108  \n",
       "std         0.542241       0.583334   32154.539944  \n",
       "min         0.000000       0.000000   10181.000000  \n",
       "25%         0.000000       0.000000   30112.000000  \n",
       "50%         0.000000       0.000000   33084.000000  \n",
       "75%         0.000000       0.000000   80790.000000  \n",
       "max        10.000000      34.000000  123197.000000  "
      ]
     },
     "execution_count": 20,
     "metadata": {},
     "output_type": "execute_result"
    }
   ],
   "source": [
    "# Descriptive statistics of numerical columns\n",
    "shr.describe()"
   ]
  },
  {
   "cell_type": "code",
   "execution_count": 21,
   "metadata": {},
   "outputs": [
    {
     "name": "stdout",
     "output_type": "stream",
     "text": [
      "29.0\n",
      "28.0\n"
     ]
    }
   ],
   "source": [
    "# Median age of victims and offenders:\n",
    "print shr['VicAge'].median()\n",
    "print shr['OffAge'].median()"
   ]
  },
  {
   "cell_type": "code",
   "execution_count": 23,
   "metadata": {},
   "outputs": [
    {
     "data": {
      "text/plain": [
       "ID                   0\n",
       "CNTYFIPS             0\n",
       "Ori                  0\n",
       "State                0\n",
       "Agency               0\n",
       "Agentype             0\n",
       "Source               0\n",
       "Solved               0\n",
       "Year                 0\n",
       "StateName            0\n",
       "Month                0\n",
       "Incident             0\n",
       "ActionType           0\n",
       "Homicide             0\n",
       "Situation            0\n",
       "VicAge           10290\n",
       "VicSex               0\n",
       "VicRace              0\n",
       "VicEthnic       284629\n",
       "OffAge          242269\n",
       "OffSex               0\n",
       "OffRace              0\n",
       "OffEthnic       285122\n",
       "Weapon               0\n",
       "Relationship         0\n",
       "Circumstance         0\n",
       "Subcircum       704798\n",
       "VicCount             0\n",
       "OffCount             0\n",
       "FileDate             0\n",
       "fstate               0\n",
       "MSA                  0\n",
       "StateName2           0\n",
       "dtype: int64"
      ]
     },
     "execution_count": 23,
     "metadata": {},
     "output_type": "execute_result"
    }
   ],
   "source": [
    "# Missing values\n",
    "shr.isnull().sum()"
   ]
  },
  {
   "cell_type": "markdown",
   "metadata": {},
   "source": [
    "Missing information about offenders is understandable, a little weird that there is missing information about victims - I assume it cases where they could not get a positive ID of the victim. Subcirumstances is missing a lot because it contains very specific circumstances (felon kills felon, felon killed by police etc). Other than that - not a lot of missing data!"
   ]
  },
  {
   "cell_type": "code",
   "execution_count": 24,
   "metadata": {},
   "outputs": [
    {
     "data": {
      "text/plain": [
       "1939"
      ]
     },
     "execution_count": 24,
     "metadata": {},
     "output_type": "execute_result"
    }
   ],
   "source": [
    "# Check for duplicates\n",
    "shr.duplicated().sum()"
   ]
  },
  {
   "cell_type": "code",
   "execution_count": 25,
   "metadata": {
    "collapsed": true
   },
   "outputs": [],
   "source": [
    "# Apparently, some cases were reported more than once. I will drop them:\n",
    "shr.drop_duplicates(inplace=True)"
   ]
  },
  {
   "cell_type": "code",
   "execution_count": 26,
   "metadata": {},
   "outputs": [
    {
     "data": {
      "text/plain": [
       "0"
      ]
     },
     "execution_count": 26,
     "metadata": {},
     "output_type": "execute_result"
    }
   ],
   "source": [
    "# And recheck for duplicates:\n",
    "shr.duplicated().sum()"
   ]
  },
  {
   "cell_type": "code",
   "execution_count": 27,
   "metadata": {
    "scrolled": true
   },
   "outputs": [
    {
     "data": {
      "text/plain": [
       "array([1976, 1977, 1978, 1979, 1980, 1981, 1982, 1983, 1984, 1985, 1986,\n",
       "       1987, 1988, 1989, 1990, 1991, 1992, 1993, 1994, 1995, 1996, 1997,\n",
       "       1998, 1999, 2000, 2001, 2002, 2003, 2004, 2005, 2006, 2007, 2008,\n",
       "       2009, 2010, 2011, 2012, 2013, 2014, 2015])"
      ]
     },
     "execution_count": 27,
     "metadata": {},
     "output_type": "execute_result"
    }
   ],
   "source": [
    "shr.Year.unique()"
   ]
  },
  {
   "cell_type": "markdown",
   "metadata": {},
   "source": [
    "As mentioned, the dataset spans from 1976 to 2015."
   ]
  },
  {
   "cell_type": "markdown",
   "metadata": {
    "collapsed": true
   },
   "source": [
    "### General Info on Solved vs. Unsolved Cases\n"
   ]
  },
  {
   "cell_type": "code",
   "execution_count": 28,
   "metadata": {},
   "outputs": [
    {
     "name": "stdout",
     "output_type": "stream",
     "text": [
      "Yes    516988\n",
      "No     213244\n",
      "Name: Solved, dtype: int64\n",
      "Yes    0.707978\n",
      "No     0.292022\n",
      "Name: Solved, dtype: float64\n"
     ]
    }
   ],
   "source": [
    "print shr.Solved.value_counts()\n",
    "print shr.Solved.value_counts(normalize=True)"
   ]
  },
  {
   "cell_type": "markdown",
   "metadata": {},
   "source": [
    "$29\\%$ of homicides reported between 1976 and 2015 were not solved (solved is defined as arrest made in the case)."
   ]
  },
  {
   "cell_type": "code",
   "execution_count": 29,
   "metadata": {},
   "outputs": [
    {
     "data": {
      "text/plain": [
       "<matplotlib.text.Text at 0x10ddb7490>"
      ]
     },
     "execution_count": 29,
     "metadata": {},
     "output_type": "execute_result"
    },
    {
     "data": {
      "image/png": "[encoded data removed]",
      "text/plain": [
       "<matplotlib.figure.Figure at 0x102dadad0>"
      ]
     },
     "metadata": {},
     "output_type": "display_data"
    }
   ],
   "source": [
    "## Rate of crimes solved\n",
    "solved = pd.DataFrame(shr, columns = ['Solved']) \n",
    "resolution = solved.stack().value_counts()\n",
    "ax = resolution.plot(kind = 'pie', figsize=(8,8), fontsize=15,\n",
    "                              title = 'Crimes solved between 1976 to 2015 (in %)',\n",
    "                              startangle = 10,\n",
    "                              autopct='%.2f')\n",
    "ax.set_ylabel('')"
   ]
  },
  {
   "cell_type": "markdown",
   "metadata": {},
   "source": [
    "## Dates Information"
   ]
  },
  {
   "cell_type": "markdown",
   "metadata": {},
   "source": [
    "### Murder Rates and Solved Cases by Year:"
   ]
  },
  {
   "cell_type": "code",
   "execution_count": 30,
   "metadata": {
    "scrolled": true
   },
   "outputs": [
    {
     "data": {
      "text/plain": [
       "1993    24274\n",
       "1992    23735\n",
       "1994    23183\n",
       "1980    23033\n",
       "1991    22617\n",
       "1979    21620\n",
       "1990    21203\n",
       "1981    21163\n",
       "1995    21112\n",
       "1982    20490\n",
       "1986    20088\n",
       "1989    19823\n",
       "1983    19617\n",
       "1978    19478\n",
       "1996    18949\n",
       "1977    18775\n",
       "1987    18748\n",
       "1988    18747\n",
       "1985    18351\n",
       "1984    18062\n",
       "1997    17766\n",
       "1976    17584\n",
       "2007    17268\n",
       "2006    17234\n",
       "2005    16803\n",
       "2003    16466\n",
       "2002    16234\n",
       "2004    16199\n",
       "1998    16045\n",
       "2009    15811\n",
       "2001    15776\n",
       "2015    15585\n",
       "2008    15564\n",
       "2010    15089\n",
       "2012    15006\n",
       "2011    14733\n",
       "2000    14661\n",
       "1999    14593\n",
       "2013    14436\n",
       "2014    14311\n",
       "Name: Year, dtype: int64"
      ]
     },
     "execution_count": 30,
     "metadata": {},
     "output_type": "execute_result"
    }
   ],
   "source": [
    "# Number of homicides each year\n",
    "shr.Year.value_counts()"
   ]
  },
  {
   "cell_type": "code",
   "execution_count": 32,
   "metadata": {},
   "outputs": [
    {
     "data": {
      "text/plain": [
       "<matplotlib.axes._subplots.AxesSubplot at 0x10eef3250>"
      ]
     },
     "execution_count": 32,
     "metadata": {},
     "output_type": "execute_result"
    },
    {
     "data": {
      "image/png": "[encoded data removed]",
      "text/plain": [
       "<matplotlib.figure.Figure at 0x10e3962d0>"
      ]
     },
     "metadata": {},
     "output_type": "display_data"
    }
   ],
   "source": [
    "plt.figure(figsize=(12,6))\n",
    "yearMRD = shr['Year'].value_counts()\n",
    "yearMRD.sort_index().plot(kind='line')"
   ]
  },
  {
   "cell_type": "code",
   "execution_count": 31,
   "metadata": {},
   "outputs": [
    {
     "data": {
      "text/plain": [
       "1993    24274\n",
       "1992    23735\n",
       "1994    23183\n",
       "1980    23033\n",
       "1991    22617\n",
       "1979    21620\n",
       "1990    21203\n",
       "1981    21163\n",
       "1995    21112\n",
       "1982    20490\n",
       "Name: Year, dtype: int64"
      ]
     },
     "execution_count": 31,
     "metadata": {},
     "output_type": "execute_result"
    }
   ],
   "source": [
    "# \"Deadliest\" years\n",
    "shr.Year.value_counts()[0:10]"
   ]
  },
  {
   "cell_type": "code",
   "execution_count": 33,
   "metadata": {
    "scrolled": true
   },
   "outputs": [
    {
     "data": {
      "text/plain": [
       "Year  Solved\n",
       "1976  Yes       13891\n",
       "      No         3693\n",
       "1977  Yes       14195\n",
       "      No         4580\n",
       "1978  Yes       14963\n",
       "      No         4515\n",
       "1979  Yes       15987\n",
       "      No         5633\n",
       "1980  Yes       16696\n",
       "      No         6337\n",
       "1981  Yes       15763\n",
       "      No         5400\n",
       "1982  Yes       15025\n",
       "      No         5465\n",
       "1983  Yes       14492\n",
       "      No         5125\n",
       "1984  Yes       13223\n",
       "      No         4839\n",
       "1985  Yes       13605\n",
       "      No         4746\n",
       "1986  Yes       14798\n",
       "      No         5290\n",
       "1987  Yes       13447\n",
       "      No         5301\n",
       "1988  Yes       13371\n",
       "      No         5376\n",
       "1989  Yes       14145\n",
       "      No         5678\n",
       "1990  Yes       14967\n",
       "      No         6236\n",
       "1991  Yes       15292\n",
       "      No         7325\n",
       "1992  Yes       15851\n",
       "      No         7884\n",
       "1993  Yes       16400\n",
       "      No         7874\n",
       "1994  Yes       15836\n",
       "      No         7347\n",
       "1995  Yes       14324\n",
       "      No         6788\n",
       "1996  Yes       13089\n",
       "      No         5860\n",
       "1997  Yes       12125\n",
       "      No         5641\n",
       "1998  Yes       11288\n",
       "      No         4757\n",
       "1999  Yes       10220\n",
       "      No         4373\n",
       "2000  Yes       10204\n",
       "      No         4457\n",
       "2001  Yes       11034\n",
       "      No         4742\n",
       "2002  Yes       11267\n",
       "      No         4967\n",
       "2003  Yes       11206\n",
       "      No         5260\n",
       "2004  Yes       11136\n",
       "      No         5063\n",
       "2005  Yes       11596\n",
       "      No         5207\n",
       "2006  Yes       11905\n",
       "      No         5329\n",
       "2007  Yes       11764\n",
       "      No         5504\n",
       "2008  Yes       10525\n",
       "      No         5039\n",
       "2009  Yes       11203\n",
       "      No         4608\n",
       "2010  Yes       10687\n",
       "      No         4402\n",
       "2011  Yes       10429\n",
       "      No         4304\n",
       "2012  Yes       10563\n",
       "      No         4443\n",
       "2013  Yes       10054\n",
       "      No         4382\n",
       "2014  Yes        9937\n",
       "      No         4374\n",
       "2015  Yes       10485\n",
       "      No         5100\n",
       "Name: Solved, dtype: int64"
      ]
     },
     "execution_count": 33,
     "metadata": {},
     "output_type": "execute_result"
    }
   ],
   "source": [
    "# Solved cases by year\n",
    "shr.groupby('Year').Solved.value_counts()"
   ]
  },
  {
   "cell_type": "code",
   "execution_count": 35,
   "metadata": {},
   "outputs": [
    {
     "data": {
      "text/plain": [
       "<matplotlib.legend.Legend at 0x10fff0fd0>"
      ]
     },
     "execution_count": 35,
     "metadata": {},
     "output_type": "execute_result"
    },
    {
     "data": {
      "image/png": "[encoded data removed]",
      "text/plain": [
       "<matplotlib.figure.Figure at 0x1102ba4d0>"
      ]
     },
     "metadata": {},
     "output_type": "display_data"
    }
   ],
   "source": [
    "# Number of cases by year and solved/unsolved\n",
    "plt.figure(figsize=(16,8))\n",
    "solved_year_crosstab = pd.crosstab(shr.Year, shr.Solved)\n",
    "for item in solved_year_crosstab.columns:\n",
    "    plt.plot(solved_year_crosstab.index, solved_year_crosstab[item])\n",
    "    \n",
    "plt.xlabel('Year', fontsize=20)\n",
    "plt.ylabel('Solved and Unsolved Cases', fontsize=20)\n",
    "plt.legend(fontsize=15)"
   ]
  },
  {
   "cell_type": "code",
   "execution_count": 36,
   "metadata": {
    "scrolled": true
   },
   "outputs": [
    {
     "data": {
      "text/plain": [
       "Year  Solved\n",
       "1976  Yes       0.789980\n",
       "      No        0.210020\n",
       "1977  Yes       0.756059\n",
       "      No        0.243941\n",
       "1978  Yes       0.768200\n",
       "      No        0.231800\n",
       "1979  Yes       0.739454\n",
       "      No        0.260546\n",
       "1980  Yes       0.724873\n",
       "      No        0.275127\n",
       "1981  Yes       0.744838\n",
       "      No        0.255162\n",
       "1982  Yes       0.733285\n",
       "      No        0.266715\n",
       "1983  Yes       0.738747\n",
       "      No        0.261253\n",
       "1984  Yes       0.732089\n",
       "      No        0.267911\n",
       "1985  Yes       0.741376\n",
       "      No        0.258624\n",
       "1986  Yes       0.736659\n",
       "      No        0.263341\n",
       "1987  Yes       0.717250\n",
       "      No        0.282750\n",
       "1988  Yes       0.713234\n",
       "      No        0.286766\n",
       "1989  Yes       0.713565\n",
       "      No        0.286435\n",
       "1990  Yes       0.705891\n",
       "      No        0.294109\n",
       "1991  Yes       0.676129\n",
       "      No        0.323871\n",
       "1992  Yes       0.667832\n",
       "      No        0.332168\n",
       "1993  Yes       0.675620\n",
       "      No        0.324380\n",
       "1994  Yes       0.683087\n",
       "      No        0.316913\n",
       "1995  Yes       0.678477\n",
       "      No        0.321523\n",
       "1996  Yes       0.690749\n",
       "      No        0.309251\n",
       "1997  Yes       0.682483\n",
       "      No        0.317517\n",
       "1998  Yes       0.703521\n",
       "      No        0.296479\n",
       "1999  Yes       0.700336\n",
       "      No        0.299664\n",
       "2000  Yes       0.695996\n",
       "      No        0.304004\n",
       "2001  Yes       0.699417\n",
       "      No        0.300583\n",
       "2002  Yes       0.694037\n",
       "      No        0.305963\n",
       "2003  Yes       0.680554\n",
       "      No        0.319446\n",
       "2004  Yes       0.687450\n",
       "      No        0.312550\n",
       "2005  Yes       0.690115\n",
       "      No        0.309885\n",
       "2006  Yes       0.690786\n",
       "      No        0.309214\n",
       "2007  Yes       0.681260\n",
       "      No        0.318740\n",
       "2008  Yes       0.676240\n",
       "      No        0.323760\n",
       "2009  Yes       0.708557\n",
       "      No        0.291443\n",
       "2010  Yes       0.708264\n",
       "      No        0.291736\n",
       "2011  Yes       0.707867\n",
       "      No        0.292133\n",
       "2012  Yes       0.703918\n",
       "      No        0.296082\n",
       "2013  Yes       0.696453\n",
       "      No        0.303547\n",
       "2014  Yes       0.694361\n",
       "      No        0.305639\n",
       "2015  Yes       0.672762\n",
       "      No        0.327238\n",
       "Name: Solved, dtype: float64"
      ]
     },
     "execution_count": 36,
     "metadata": {},
     "output_type": "execute_result"
    }
   ],
   "source": [
    "# Percentage of solved cases by year\n",
    "shr.groupby('Year').Solved.value_counts(normalize=True)"
   ]
  },
  {
   "cell_type": "markdown",
   "metadata": {},
   "source": [
    "### Murder Rates by Months:\n"
   ]
  },
  {
   "cell_type": "code",
   "execution_count": 37,
   "metadata": {},
   "outputs": [
    {
     "data": {
      "text/plain": [
       "July         66806\n",
       "August       66063\n",
       "December     63494\n",
       "September    61985\n",
       "October      61333\n",
       "May          61072\n",
       "June         61070\n",
       "January      60337\n",
       "March        58960\n",
       "April        58346\n",
       "November     57648\n",
       "February     53118\n",
       "Name: Month, dtype: int64"
      ]
     },
     "execution_count": 37,
     "metadata": {},
     "output_type": "execute_result"
    }
   ],
   "source": [
    "shr.Month.value_counts()"
   ]
  },
  {
   "cell_type": "markdown",
   "metadata": {},
   "source": [
    "Probably not surprisingly, the hottest months of the year are the \"deadliest\". What is surprising is December is right after - maybe the stress of the holiday season affects people??? "
   ]
  },
  {
   "cell_type": "code",
   "execution_count": 38,
   "metadata": {},
   "outputs": [
    {
     "data": {
      "image/png": "[encoded data removed]",
      "text/plain": [
       "<matplotlib.figure.Figure at 0x10e396090>"
      ]
     },
     "metadata": {},
     "output_type": "display_data"
    }
   ],
   "source": [
    "plt.figure(figsize=(12,6))\n",
    "sns.countplot(x='Month', data=shr, order=['January', 'February', 'March', 'April', 'May', 'June', 'July', 'August', 'September', 'October', 'November', 'December'])\n",
    "plt.xticks(rotation=90)\n",
    "plt.title('Homicide Rates by Months')\n",
    "plt.xlabel('Month')\n",
    "plt.ylabel('Number of Homicides')\n",
    "plt.show()"
   ]
  },
  {
   "cell_type": "code",
   "execution_count": 42,
   "metadata": {},
   "outputs": [
    {
     "name": "stdout",
     "output_type": "stream",
     "text": [
      "Month      Solved\n",
      "April      Yes       42027\n",
      "           No        16319\n",
      "August     Yes       46817\n",
      "           No        19246\n",
      "December   Yes       43208\n",
      "           No        20286\n",
      "February   Yes       38623\n",
      "           No        14495\n",
      "January    Yes       43662\n",
      "           No        16675\n",
      "July       Yes       47597\n",
      "           No        19209\n",
      "June       Yes       43333\n",
      "           No        17737\n",
      "March      Yes       42289\n",
      "           No        16671\n",
      "May        Yes       43726\n",
      "           No        17346\n",
      "November   Yes       39383\n",
      "           No        18265\n",
      "October    Yes       42674\n",
      "           No        18659\n",
      "September  Yes       43649\n",
      "           No        18336\n",
      "Name: Solved, dtype: int64\n"
     ]
    }
   ],
   "source": [
    "# Solved cases by month\n",
    "print shr.groupby('Month').Solved.value_counts()\n"
   ]
  },
  {
   "cell_type": "code",
   "execution_count": 43,
   "metadata": {},
   "outputs": [
    {
     "name": "stdout",
     "output_type": "stream",
     "text": [
      "Month      Solved\n",
      "April      Yes       0.720306\n",
      "           No        0.279694\n",
      "August     Yes       0.708672\n",
      "           No        0.291328\n",
      "December   Yes       0.680505\n",
      "           No        0.319495\n",
      "February   Yes       0.727117\n",
      "           No        0.272883\n",
      "January    Yes       0.723636\n",
      "           No        0.276364\n",
      "July       Yes       0.712466\n",
      "           No        0.287534\n",
      "June       Yes       0.709563\n",
      "           No        0.290437\n",
      "March      Yes       0.717249\n",
      "           No        0.282751\n",
      "May        Yes       0.715975\n",
      "           No        0.284025\n",
      "November   Yes       0.683163\n",
      "           No        0.316837\n",
      "October    Yes       0.695776\n",
      "           No        0.304224\n",
      "September  Yes       0.704186\n",
      "           No        0.295814\n",
      "Name: Solved, dtype: float64\n"
     ]
    }
   ],
   "source": [
    "# Percentage of solved cases by month\n",
    "print shr.groupby('Month').Solved.value_counts(normalize=True)"
   ]
  },
  {
   "cell_type": "markdown",
   "metadata": {},
   "source": [
    "There isn't a big difference in solved cases rate in the differnt months of the year."
   ]
  },
  {
   "cell_type": "markdown",
   "metadata": {},
   "source": [
    "## Location Information"
   ]
  },
  {
   "cell_type": "code",
   "execution_count": 45,
   "metadata": {},
   "outputs": [
    {
     "data": {
      "text/plain": [
       "California              112223\n",
       "Texas                    70745\n",
       "New York                 56940\n",
       "Florida                  42131\n",
       "Michigan                 32669\n",
       "Illinois                 31646\n",
       "Pennsylvania             27801\n",
       "Georgia                  23885\n",
       "North Carolina           23260\n",
       "Ohio                     22629\n",
       "Louisiana                22549\n",
       "Maryland                 19128\n",
       "Virginia                 17772\n",
       "Missouri                 17177\n",
       "Tennessee                16870\n",
       "New Jersey               16174\n",
       "Arizona                  14068\n",
       "South Carolina           13541\n",
       "Alabama                  13360\n",
       "Indiana                  13058\n",
       "Oklahoma                 10039\n",
       "Washington                8640\n",
       "Kentucky                  8172\n",
       "District of Columbia      8055\n",
       "Arkansas                  7842\n",
       "Mississippi               7512\n",
       "Colorado                  7483\n",
       "Wisconsin                 7023\n",
       "Massachusetts             6907\n",
       "Nevada                    6117\n",
       "Connecticut               5441\n",
       "New Mexico                4779\n",
       "Oregon                    4722\n",
       "Minnesota                 4500\n",
       "Kansas                    3701\n",
       "West Virginia             3587\n",
       "Utah                      2251\n",
       "Iowa                      2062\n",
       "Alaska                    1873\n",
       "Hawaii                    1600\n",
       "Nebraska                  1579\n",
       "Delaware                  1388\n",
       "Idaho                     1380\n",
       "Rhodes Island             1363\n",
       "Maine                     1013\n",
       "Montana                    760\n",
       "Wyoming                    751\n",
       "New Hampshire              745\n",
       "South Dakota               512\n",
       "Vermont                    454\n",
       "North Dakota               355\n",
       "Name: State, dtype: int64"
      ]
     },
     "execution_count": 45,
     "metadata": {},
     "output_type": "execute_result"
    }
   ],
   "source": [
    "shr.State.value_counts()"
   ]
  },
  {
   "cell_type": "markdown",
   "metadata": {},
   "source": [
    "A very important thing to remember is the population size in each state - it's really not surprising that the 3 states with the highest murder rates are also the three most populated states..."
   ]
  },
  {
   "cell_type": "code",
   "execution_count": 46,
   "metadata": {},
   "outputs": [
    {
     "data": {
      "image/png": "[encoded data removed]",
      "text/plain": [
       "<matplotlib.figure.Figure at 0x110062350>"
      ]
     },
     "metadata": {},
     "output_type": "display_data"
    }
   ],
   "source": [
    "plt.figure(figsize=(12,6))\n",
    "sns.countplot(x='State', data=shr)\n",
    "plt.xticks(rotation=90, fontsize=15)\n",
    "plt.yticks(fontsize=15)\n",
    "plt.title('Homicide Rates by State')\n",
    "plt.xlabel('State')\n",
    "plt.ylabel('Number of Homicides')\n",
    "plt.show()"
   ]
  },
  {
   "cell_type": "code",
   "execution_count": 47,
   "metadata": {},
   "outputs": [
    {
     "data": {
      "text/plain": [
       "<matplotlib.axes._subplots.AxesSubplot at 0x1101b0f10>"
      ]
     },
     "execution_count": 47,
     "metadata": {},
     "output_type": "execute_result"
    },
    {
     "data": {
      "image/png": "[encoded data removed]",
      "text/plain": [
       "<matplotlib.figure.Figure at 0x1102baad0>"
      ]
     },
     "metadata": {},
     "output_type": "display_data"
    }
   ],
   "source": [
    "# And by order:\n",
    "shr.State.value_counts().plot(\"bar\",figsize=(12,6), fontsize=15,title=\"Murder Count in States\")"
   ]
  },
  {
   "cell_type": "code",
   "execution_count": 48,
   "metadata": {},
   "outputs": [
    {
     "data": {
      "text/plain": [
       "State                 Solved\n",
       "Alabama               Yes       10778\n",
       "                      No         2582\n",
       "Alaska                Yes        1522\n",
       "                      No          351\n",
       "Arizona               Yes       10136\n",
       "                      No         3932\n",
       "Arkansas              Yes        6670\n",
       "                      No         1172\n",
       "California            Yes       71826\n",
       "                      No        40397\n",
       "Colorado              Yes        5950\n",
       "                      No         1533\n",
       "Connecticut           Yes        3679\n",
       "                      No         1762\n",
       "Delaware              Yes        1119\n",
       "                      No          269\n",
       "District of Columbia  No         5043\n",
       "                      Yes        3012\n",
       "Florida               Yes       30312\n",
       "                      No        11819\n",
       "Georgia               Yes       17521\n",
       "                      No         6364\n",
       "Hawaii                Yes        1225\n",
       "                      No          375\n",
       "Idaho                 Yes        1242\n",
       "                      No          138\n",
       "Illinois              Yes       20135\n",
       "                      No        11511\n",
       "Indiana               Yes        8926\n",
       "                      No         4132\n",
       "Iowa                  Yes        1773\n",
       "                      No          289\n",
       "Kansas                Yes        2985\n",
       "                      No          716\n",
       "Kentucky              Yes        6417\n",
       "                      No         1755\n",
       "Louisiana             Yes       15913\n",
       "                      No         6636\n",
       "Maine                 Yes         900\n",
       "                      No          113\n",
       "Maryland              Yes       11509\n",
       "                      No         7619\n",
       "Massachusetts         Yes        4448\n",
       "                      No         2459\n",
       "Michigan              Yes       22062\n",
       "                      No        10607\n",
       "Minnesota             Yes        3694\n",
       "                      No          806\n",
       "Mississippi           Yes        6368\n",
       "                      No         1144\n",
       "Missouri              Yes       10979\n",
       "                      No         6198\n",
       "Montana               Yes         694\n",
       "                      No           66\n",
       "Nebraska              Yes        1316\n",
       "                      No          263\n",
       "Nevada                Yes        4218\n",
       "                      No         1899\n",
       "New Hampshire         Yes         625\n",
       "                      No          120\n",
       "New Jersey            Yes       10467\n",
       "                      No         5707\n",
       "New Mexico            Yes        3563\n",
       "                      No         1216\n",
       "New York              Yes       30986\n",
       "                      No        25954\n",
       "North Carolina        Yes       18827\n",
       "                      No         4433\n",
       "North Dakota          Yes         329\n",
       "                      No           26\n",
       "Ohio                  Yes       16408\n",
       "                      No         6221\n",
       "Oklahoma              Yes        8370\n",
       "                      No         1669\n",
       "Oregon                Yes        3868\n",
       "                      No          854\n",
       "Pennsylvania          Yes       21104\n",
       "                      No         6697\n",
       "Rhodes Island         Yes         927\n",
       "                      No          436\n",
       "South Carolina        Yes       12248\n",
       "                      No         1293\n",
       "South Dakota          Yes         469\n",
       "                      No           43\n",
       "Tennessee             Yes       14220\n",
       "                      No         2650\n",
       "Texas                 Yes       54304\n",
       "                      No        16441\n",
       "Utah                  Yes        1924\n",
       "                      No          327\n",
       "Vermont               Yes         402\n",
       "                      No           52\n",
       "Virginia              Yes       14128\n",
       "                      No         3644\n",
       "Washington            Yes        6746\n",
       "                      No         1894\n",
       "West Virginia         Yes        3231\n",
       "                      No          356\n",
       "Wisconsin             Yes        5839\n",
       "                      No         1184\n",
       "Wyoming               Yes         674\n",
       "                      No           77\n",
       "Name: Solved, dtype: int64"
      ]
     },
     "execution_count": 48,
     "metadata": {},
     "output_type": "execute_result"
    }
   ],
   "source": [
    "# Solved cases by state\n",
    "shr.groupby('State').Solved.value_counts()"
   ]
  },
  {
   "cell_type": "code",
   "execution_count": 49,
   "metadata": {},
   "outputs": [
    {
     "data": {
      "text/plain": [
       "State                 Solved\n",
       "Alabama               Yes       0.806737\n",
       "                      No        0.193263\n",
       "Alaska                Yes       0.812600\n",
       "                      No        0.187400\n",
       "Arizona               Yes       0.720500\n",
       "                      No        0.279500\n",
       "Arkansas              Yes       0.850548\n",
       "                      No        0.149452\n",
       "California            Yes       0.640029\n",
       "                      No        0.359971\n",
       "Colorado              Yes       0.795136\n",
       "                      No        0.204864\n",
       "Connecticut           Yes       0.676162\n",
       "                      No        0.323838\n",
       "Delaware              Yes       0.806196\n",
       "                      No        0.193804\n",
       "District of Columbia  No        0.626071\n",
       "                      Yes       0.373929\n",
       "Florida               Yes       0.719470\n",
       "                      No        0.280530\n",
       "Georgia               Yes       0.733557\n",
       "                      No        0.266443\n",
       "Hawaii                Yes       0.765625\n",
       "                      No        0.234375\n",
       "Idaho                 Yes       0.900000\n",
       "                      No        0.100000\n",
       "Illinois              Yes       0.636257\n",
       "                      No        0.363743\n",
       "Indiana               Yes       0.683566\n",
       "                      No        0.316434\n",
       "Iowa                  Yes       0.859845\n",
       "                      No        0.140155\n",
       "Kansas                Yes       0.806539\n",
       "                      No        0.193461\n",
       "Kentucky              Yes       0.785242\n",
       "                      No        0.214758\n",
       "Louisiana             Yes       0.705708\n",
       "                      No        0.294292\n",
       "Maine                 Yes       0.888450\n",
       "                      No        0.111550\n",
       "Maryland              Yes       0.601683\n",
       "                      No        0.398317\n",
       "Massachusetts         Yes       0.643984\n",
       "                      No        0.356016\n",
       "Michigan              Yes       0.675319\n",
       "                      No        0.324681\n",
       "Minnesota             Yes       0.820889\n",
       "                      No        0.179111\n",
       "Mississippi           Yes       0.847710\n",
       "                      No        0.152290\n",
       "Missouri              Yes       0.639169\n",
       "                      No        0.360831\n",
       "Montana               Yes       0.913158\n",
       "                      No        0.086842\n",
       "Nebraska              Yes       0.833439\n",
       "                      No        0.166561\n",
       "Nevada                Yes       0.689554\n",
       "                      No        0.310446\n",
       "New Hampshire         Yes       0.838926\n",
       "                      No        0.161074\n",
       "New Jersey            Yes       0.647150\n",
       "                      No        0.352850\n",
       "New Mexico            Yes       0.745553\n",
       "                      No        0.254447\n",
       "New York              Yes       0.544187\n",
       "                      No        0.455813\n",
       "North Carolina        Yes       0.809415\n",
       "                      No        0.190585\n",
       "North Dakota          Yes       0.926761\n",
       "                      No        0.073239\n",
       "Ohio                  Yes       0.725087\n",
       "                      No        0.274913\n",
       "Oklahoma              Yes       0.833748\n",
       "                      No        0.166252\n",
       "Oregon                Yes       0.819144\n",
       "                      No        0.180856\n",
       "Pennsylvania          Yes       0.759109\n",
       "                      No        0.240891\n",
       "Rhodes Island         Yes       0.680117\n",
       "                      No        0.319883\n",
       "South Carolina        Yes       0.904512\n",
       "                      No        0.095488\n",
       "South Dakota          Yes       0.916016\n",
       "                      No        0.083984\n",
       "Tennessee             Yes       0.842916\n",
       "                      No        0.157084\n",
       "Texas                 Yes       0.767602\n",
       "                      No        0.232398\n",
       "Utah                  Yes       0.854731\n",
       "                      No        0.145269\n",
       "Vermont               Yes       0.885463\n",
       "                      No        0.114537\n",
       "Virginia              Yes       0.794958\n",
       "                      No        0.205042\n",
       "Washington            Yes       0.780787\n",
       "                      No        0.219213\n",
       "West Virginia         Yes       0.900753\n",
       "                      No        0.099247\n",
       "Wisconsin             Yes       0.831411\n",
       "                      No        0.168589\n",
       "Wyoming               Yes       0.897470\n",
       "                      No        0.102530\n",
       "Name: Solved, dtype: float64"
      ]
     },
     "execution_count": 49,
     "metadata": {},
     "output_type": "execute_result"
    }
   ],
   "source": [
    "# Percentage of olved cases by state\n",
    "shr.groupby('State').Solved.value_counts(normalize=True)"
   ]
  },
  {
   "cell_type": "markdown",
   "metadata": {},
   "source": [
    "## Information about Victims:"
   ]
  },
  {
   "cell_type": "code",
   "execution_count": 50,
   "metadata": {},
   "outputs": [
    {
     "data": {
      "text/plain": [
       "White                                364616\n",
       "Black                                342226\n",
       "Asian or Pacific Islander             10428\n",
       "Unknown                                7703\n",
       "American Indian or Alaskan Native      5259\n",
       "Name: VicRace, dtype: int64"
      ]
     },
     "execution_count": 50,
     "metadata": {},
     "output_type": "execute_result"
    }
   ],
   "source": [
    "# Race of victims\n",
    "shr['VicRace'].value_counts()"
   ]
  },
  {
   "cell_type": "code",
   "execution_count": 54,
   "metadata": {},
   "outputs": [
    {
     "data": {
      "text/plain": [
       "White                                0.499315\n",
       "Black                                0.468654\n",
       "Asian or Pacific Islander            0.014280\n",
       "Unknown                              0.010549\n",
       "American Indian or Alaskan Native    0.007202\n",
       "Name: VicRace, dtype: float64"
      ]
     },
     "execution_count": 54,
     "metadata": {},
     "output_type": "execute_result"
    }
   ],
   "source": [
    "# Percentage of race of victims \n",
    "shr['VicRace'].value_counts(normalize=True)"
   ]
  },
  {
   "cell_type": "markdown",
   "metadata": {},
   "source": [
    "White and black victims make up the vast majority of victims in the dataset. "
   ]
  },
  {
   "cell_type": "code",
   "execution_count": 51,
   "metadata": {},
   "outputs": [
    {
     "data": {
      "text/plain": [
       "<matplotlib.axes._subplots.AxesSubplot at 0x110200a50>"
      ]
     },
     "execution_count": 51,
     "metadata": {},
     "output_type": "execute_result"
    },
    {
     "data": {
      "image/png": "[encoded data removed]",
      "text/plain": [
       "<matplotlib.figure.Figure at 0x10ddb7250>"
      ]
     },
     "metadata": {},
     "output_type": "display_data"
    }
   ],
   "source": [
    "shr['VicRace'].value_counts().plot(\"bar\",figsize=(12,6), fontsize=15,title=\"Race of Victims\")"
   ]
  },
  {
   "cell_type": "code",
   "execution_count": 52,
   "metadata": {},
   "outputs": [
    {
     "data": {
      "text/plain": [
       "Not of Hispanic origin     203006\n",
       "Unknown or not reported    169175\n",
       "Hispanic origin             74344\n",
       "Name: VicEthnic, dtype: int64"
      ]
     },
     "execution_count": 52,
     "metadata": {},
     "output_type": "execute_result"
    }
   ],
   "source": [
    "# Ethnicity of victims\n",
    "shr['VicEthnic'].value_counts()"
   ]
  },
  {
   "cell_type": "code",
   "execution_count": 56,
   "metadata": {},
   "outputs": [
    {
     "data": {
      "text/plain": [
       "Not of Hispanic origin     0.454635\n",
       "Unknown or not reported    0.378870\n",
       "Hispanic origin            0.166495\n",
       "Name: VicEthnic, dtype: float64"
      ]
     },
     "execution_count": 56,
     "metadata": {},
     "output_type": "execute_result"
    }
   ],
   "source": [
    "# Percentage of ethnicity of victims \n",
    "shr['VicEthnic'].value_counts(normalize=True)"
   ]
  },
  {
   "cell_type": "code",
   "execution_count": 53,
   "metadata": {},
   "outputs": [
    {
     "data": {
      "text/plain": [
       "<matplotlib.axes._subplots.AxesSubplot at 0x1110d4050>"
      ]
     },
     "execution_count": 53,
     "metadata": {},
     "output_type": "execute_result"
    },
    {
     "data": {
      "image/png": "[encoded data removed]",
      "text/plain": [
       "<matplotlib.figure.Figure at 0x110ed2d10>"
      ]
     },
     "metadata": {},
     "output_type": "display_data"
    }
   ],
   "source": [
    "shr['VicEthnic'].value_counts().plot(\"bar\",figsize=(12,6), fontsize=15,title=\"Ethnicity of Victims\")"
   ]
  },
  {
   "cell_type": "code",
   "execution_count": 57,
   "metadata": {},
   "outputs": [
    {
     "data": {
      "text/plain": [
       "Male       564727\n",
       "Female     164436\n",
       "Unknown      1069\n",
       "Name: VicSex, dtype: int64"
      ]
     },
     "execution_count": 57,
     "metadata": {},
     "output_type": "execute_result"
    }
   ],
   "source": [
    "# Victims' gender\n",
    "shr['VicSex'].value_counts()"
   ]
  },
  {
   "cell_type": "code",
   "execution_count": 58,
   "metadata": {},
   "outputs": [
    {
     "data": {
      "text/plain": [
       "Male       0.773353\n",
       "Female     0.225183\n",
       "Unknown    0.001464\n",
       "Name: VicSex, dtype: float64"
      ]
     },
     "execution_count": 58,
     "metadata": {},
     "output_type": "execute_result"
    }
   ],
   "source": [
    "# Percentage of victims' gender\n",
    "shr['VicSex'].value_counts(normalize=True)"
   ]
  },
  {
   "cell_type": "markdown",
   "metadata": {},
   "source": [
    "There are by far more male victims that female victims. My theory is that it is because the data contains gang violence statistics."
   ]
  },
  {
   "cell_type": "code",
   "execution_count": 59,
   "metadata": {},
   "outputs": [
    {
     "data": {
      "text/plain": [
       "<matplotlib.axes._subplots.AxesSubplot at 0x10fa6b3d0>"
      ]
     },
     "execution_count": 59,
     "metadata": {},
     "output_type": "execute_result"
    },
    {
     "data": {
      "image/png": "[encoded data removed]",
      "text/plain": [
       "<matplotlib.figure.Figure at 0x11115f290>"
      ]
     },
     "metadata": {},
     "output_type": "display_data"
    }
   ],
   "source": [
    "shr['VicSex'].value_counts().plot(\"bar\",figsize=(12,6), fontsize=15,title=\"Gender of Victims\")"
   ]
  },
  {
   "cell_type": "code",
   "execution_count": 61,
   "metadata": {
    "scrolled": true
   },
   "outputs": [
    {
     "data": {
      "text/plain": [
       "22.0    26244\n",
       "25.0    26067\n",
       "21.0    25893\n",
       "20.0    25781\n",
       "23.0    25582\n",
       "24.0    24917\n",
       "19.0    24612\n",
       "26.0    23531\n",
       "27.0    22296\n",
       "30.0    21554\n",
       "28.0    21026\n",
       "29.0    20664\n",
       "18.0    20583\n",
       "32.0    18004\n",
       "31.0    17887\n",
       "33.0    16360\n",
       "35.0    16319\n",
       "34.0    16275\n",
       "17.0    15672\n",
       "36.0    14235\n",
       "37.0    13405\n",
       "38.0    12994\n",
       "40.0    12758\n",
       "39.0    12336\n",
       "42.0    10991\n",
       "41.0    10825\n",
       "16.0    10567\n",
       "0.0     10470\n",
       "43.0     9881\n",
       "45.0     9459\n",
       "44.0     9109\n",
       "46.0     8440\n",
       "47.0     8025\n",
       "50.0     7566\n",
       "48.0     7390\n",
       "49.0     7177\n",
       "15.0     6593\n",
       "52.0     6217\n",
       "51.0     6179\n",
       "1.0      6095\n",
       "53.0     5699\n",
       "54.0     5359\n",
       "55.0     5152\n",
       "56.0     4726\n",
       "57.0     4464\n",
       "2.0      4330\n",
       "58.0     3954\n",
       "60.0     3844\n",
       "59.0     3789\n",
       "14.0     3762\n",
       "62.0     3478\n",
       "61.0     3331\n",
       "63.0     3053\n",
       "65.0     2940\n",
       "3.0      2714\n",
       "64.0     2704\n",
       "67.0     2404\n",
       "66.0     2236\n",
       "68.0     2174\n",
       "13.0     2154\n",
       "70.0     2122\n",
       "69.0     2021\n",
       "72.0     1905\n",
       "4.0      1905\n",
       "71.0     1809\n",
       "73.0     1641\n",
       "75.0     1629\n",
       "74.0     1590\n",
       "12.0     1441\n",
       "76.0     1425\n",
       "5.0      1387\n",
       "77.0     1301\n",
       "78.0     1290\n",
       "79.0     1253\n",
       "80.0     1206\n",
       "6.0      1153\n",
       "7.0      1059\n",
       "81.0     1045\n",
       "11.0     1039\n",
       "8.0      1017\n",
       "10.0     1001\n",
       "9.0       981\n",
       "82.0      969\n",
       "83.0      886\n",
       "84.0      777\n",
       "85.0      718\n",
       "86.0      647\n",
       "87.0      522\n",
       "88.0      454\n",
       "89.0      347\n",
       "90.0      332\n",
       "91.0      234\n",
       "92.0      178\n",
       "93.0      153\n",
       "94.0      133\n",
       "99.0      124\n",
       "95.0       97\n",
       "97.0       45\n",
       "96.0       42\n",
       "98.0       33\n",
       "Name: VicAge, dtype: int64"
      ]
     },
     "execution_count": 61,
     "metadata": {},
     "output_type": "execute_result"
    }
   ],
   "source": [
    "# Age of victims\n",
    "shr.VicAge.value_counts()"
   ]
  },
  {
   "cell_type": "markdown",
   "metadata": {},
   "source": [
    "It seems that at the top of this chart, there are mostly victims in their 20s and 30s. "
   ]
  },
  {
   "cell_type": "markdown",
   "metadata": {},
   "source": [
    "### Offenders:"
   ]
  },
  {
   "cell_type": "code",
   "execution_count": 63,
   "metadata": {},
   "outputs": [
    {
     "data": {
      "text/plain": [
       "Male       458229\n",
       "Unknown    213298\n",
       "Female      58705\n",
       "Name: OffSex, dtype: int64"
      ]
     },
     "execution_count": 63,
     "metadata": {},
     "output_type": "execute_result"
    }
   ],
   "source": [
    "# Gender of offenders:\n",
    "shr['OffSex'].value_counts()"
   ]
  },
  {
   "cell_type": "code",
   "execution_count": 64,
   "metadata": {},
   "outputs": [
    {
     "data": {
      "text/plain": [
       "Male       0.627512\n",
       "Unknown    0.292096\n",
       "Female     0.080392\n",
       "Name: OffSex, dtype: float64"
      ]
     },
     "execution_count": 64,
     "metadata": {},
     "output_type": "execute_result"
    }
   ],
   "source": [
    "shr['OffSex'].value_counts(normalize=True)"
   ]
  },
  {
   "cell_type": "markdown",
   "metadata": {},
   "source": [
    "Vast majority of offenders are males. "
   ]
  },
  {
   "cell_type": "code",
   "execution_count": 65,
   "metadata": {},
   "outputs": [
    {
     "data": {
      "text/plain": [
       "<matplotlib.axes._subplots.AxesSubplot at 0x1113d87d0>"
      ]
     },
     "execution_count": 65,
     "metadata": {},
     "output_type": "execute_result"
    },
    {
     "data": {
      "image/png": "[encoded data removed]",
      "text/plain": [
       "<matplotlib.figure.Figure at 0x111169810>"
      ]
     },
     "metadata": {},
     "output_type": "display_data"
    }
   ],
   "source": [
    "shr['OffSex'].value_counts().plot(\"bar\",figsize=(12,6), fontsize=15,title=\"Gender of Offenders\")"
   ]
  },
  {
   "cell_type": "code",
   "execution_count": 66,
   "metadata": {},
   "outputs": [
    {
     "data": {
      "text/plain": [
       "White                                251322\n",
       "Black                                248471\n",
       "Unknown                              219907\n",
       "Asian or Pacific Islander              6367\n",
       "American Indian or Alaskan Native      4165\n",
       "Name: OffRace, dtype: int64"
      ]
     },
     "execution_count": 66,
     "metadata": {},
     "output_type": "execute_result"
    }
   ],
   "source": [
    "# Race of offenders\n",
    "shr['OffRace'].value_counts()"
   ]
  },
  {
   "cell_type": "code",
   "execution_count": 67,
   "metadata": {},
   "outputs": [
    {
     "data": {
      "text/plain": [
       "White                                0.344167\n",
       "Black                                0.340263\n",
       "Unknown                              0.301147\n",
       "Asian or Pacific Islander            0.008719\n",
       "American Indian or Alaskan Native    0.005704\n",
       "Name: OffRace, dtype: float64"
      ]
     },
     "execution_count": 67,
     "metadata": {},
     "output_type": "execute_result"
    }
   ],
   "source": [
    "shr['OffRace'].value_counts(normalize=True)"
   ]
  },
  {
   "cell_type": "markdown",
   "metadata": {},
   "source": [
    "There is a pretty even distribution of white and black offenders. Relatively few Asian, Pacific Islanders, American Indians or Alaskan Natives."
   ]
  },
  {
   "cell_type": "code",
   "execution_count": 69,
   "metadata": {},
   "outputs": [
    {
     "data": {
      "text/plain": [
       "<matplotlib.axes._subplots.AxesSubplot at 0x110e64210>"
      ]
     },
     "execution_count": 69,
     "metadata": {},
     "output_type": "execute_result"
    },
    {
     "data": {
      "image/png": "[encoded data removed]",
      "text/plain": [
       "<matplotlib.figure.Figure at 0x112399590>"
      ]
     },
     "metadata": {},
     "output_type": "display_data"
    }
   ],
   "source": [
    "shr['OffRace'].value_counts().plot(kind='bar' ,figsize=(12,6), fontsize=15,title=\"Race of Offenders\")"
   ]
  },
  {
   "cell_type": "code",
   "execution_count": 70,
   "metadata": {},
   "outputs": [
    {
     "data": {
      "text/plain": [
       "Unknown or not reported    249484\n",
       "Not of Hispanic origin     148687\n",
       "Hispanic origin             47862\n",
       "Name: OffEthnic, dtype: int64"
      ]
     },
     "execution_count": 70,
     "metadata": {},
     "output_type": "execute_result"
    }
   ],
   "source": [
    "# Ethnicity of offenders\n",
    "shr['OffEthnic'].value_counts()"
   ]
  },
  {
   "cell_type": "code",
   "execution_count": 71,
   "metadata": {},
   "outputs": [
    {
     "data": {
      "text/plain": [
       "<matplotlib.axes._subplots.AxesSubplot at 0x10dde8690>"
      ]
     },
     "execution_count": 71,
     "metadata": {},
     "output_type": "execute_result"
    },
    {
     "data": {
      "image/png": "[encoded data removed]",
      "text/plain": [
       "<matplotlib.figure.Figure at 0x112386810>"
      ]
     },
     "metadata": {},
     "output_type": "display_data"
    }
   ],
   "source": [
    "shr['OffEthnic'].value_counts().plot(kind='bar' ,figsize=(12,6), fontsize=15,title=\"Ethnicity of Known Offenders\")"
   ]
  },
  {
   "cell_type": "code",
   "execution_count": 72,
   "metadata": {
    "scrolled": true
   },
   "outputs": [
    {
     "data": {
      "text/plain": [
       "20.0     24370\n",
       "19.0     22793\n",
       "21.0     21721\n",
       "22.0     21344\n",
       "18.0     21084\n",
       "25.0     20498\n",
       "23.0     20296\n",
       "24.0     19153\n",
       "26.0     17224\n",
       "27.0     16440\n",
       "17.0     16023\n",
       "30.0     15877\n",
       "28.0     15695\n",
       "29.0     14635\n",
       "31.0     12683\n",
       "32.0     12599\n",
       "33.0     11457\n",
       "35.0     11236\n",
       "34.0     10797\n",
       "16.0     10745\n",
       "36.0      9547\n",
       "37.0      9130\n",
       "38.0      8557\n",
       "40.0      8089\n",
       "39.0      8017\n",
       "41.0      7003\n",
       "42.0      6787\n",
       "43.0      6272\n",
       "15.0      6190\n",
       "45.0      5847\n",
       "44.0      5840\n",
       "46.0      4831\n",
       "47.0      4769\n",
       "48.0      4499\n",
       "49.0      4191\n",
       "50.0      4177\n",
       "51.0      3605\n",
       "52.0      3353\n",
       "53.0      3043\n",
       "14.0      2985\n",
       "54.0      2787\n",
       "55.0      2661\n",
       "56.0      2430\n",
       "57.0      2139\n",
       "58.0      2027\n",
       "59.0      1891\n",
       "60.0      1713\n",
       "61.0      1483\n",
       "62.0      1408\n",
       "13.0      1295\n",
       "63.0      1276\n",
       "64.0      1263\n",
       "65.0      1145\n",
       "66.0       968\n",
       "67.0       936\n",
       "68.0       874\n",
       "69.0       758\n",
       "70.0       691\n",
       "71.0       647\n",
       "72.0       601\n",
       "12.0       562\n",
       "73.0       549\n",
       "74.0       453\n",
       "75.0       452\n",
       "76.0       418\n",
       "77.0       380\n",
       "78.0       320\n",
       "79.0       295\n",
       "80.0       280\n",
       "11.0       279\n",
       "81.0       276\n",
       "82.0       236\n",
       "83.0       198\n",
       "10.0       188\n",
       "84.0       170\n",
       "85.0       161\n",
       "87.0       124\n",
       "86.0       117\n",
       "9.0        104\n",
       "100.0      102\n",
       "88.0        93\n",
       "8.0         76\n",
       "89.0        64\n",
       "6.0         61\n",
       "90.0        60\n",
       "7.0         52\n",
       "5.0         39\n",
       "91.0        37\n",
       "4.0         37\n",
       "1.0         36\n",
       "92.0        33\n",
       "3.0         32\n",
       "93.0        20\n",
       "94.0        14\n",
       "95.0         9\n",
       "98.0         9\n",
       "2.0          9\n",
       "96.0         7\n",
       "97.0         3\n",
       "Name: OffAge, dtype: int64"
      ]
     },
     "execution_count": 72,
     "metadata": {},
     "output_type": "execute_result"
    }
   ],
   "source": [
    "# Ages of offenders\n",
    "shr['OffAge'].value_counts()"
   ]
  },
  {
   "cell_type": "markdown",
   "metadata": {},
   "source": [
    "At the top of this chart, offenders mostly in their 20s and 30s (and 19, 18 and 17 years old). There are some weird numbers in this variable - very young offenders, like 6, 4 or even 1 years old. This is probably due to data entry errors so it's important to take these results with a grain of salt. It's worth mentioning that the frequencies of these outliers is relatively low.  "
   ]
  },
  {
   "cell_type": "markdown",
   "metadata": {},
   "source": [
    "## Nature of Incidents"
   ]
  },
  {
   "cell_type": "code",
   "execution_count": 73,
   "metadata": {},
   "outputs": [
    {
     "data": {
      "text/plain": [
       "array(['Husband', 'Acquaintance', 'Wife', 'Brother', 'Friend',\n",
       "       'Relationship not determined', 'Stranger', 'In-law', 'Stepfather',\n",
       "       'Boyfriend', 'Father', 'Neighbor', 'Common-law husband',\n",
       "       'Other family', 'Ex-husband', 'Stepson', 'Homosexual relationship',\n",
       "       'Daughter', 'Common-law wife', 'Other - known to victim', 'Son',\n",
       "       'Girlfriend', 'Sister', 'Ex-wife', 'Mother', 'Employee',\n",
       "       'Stepdaughter', 'Employer', 'Stepmother'], dtype=object)"
      ]
     },
     "execution_count": 73,
     "metadata": {},
     "output_type": "execute_result"
    }
   ],
   "source": [
    "# Relationships between offender(s) and victim(s)\n",
    "shr.Relationship.unique()"
   ]
  },
  {
   "cell_type": "code",
   "execution_count": 74,
   "metadata": {},
   "outputs": [
    {
     "data": {
      "text/plain": [
       "Relationship not determined    272234\n",
       "Acquaintance                   147536\n",
       "Stranger                       110161\n",
       "Other - known to victim         32259\n",
       "Wife                            27259\n",
       "Friend                          25606\n",
       "Girlfriend                      18320\n",
       "Husband                         11677\n",
       "Son                             11326\n",
       "Other family                    10806\n",
       "Boyfriend                        8473\n",
       "Daughter                         8446\n",
       "Neighbor                         7721\n",
       "Brother                          6481\n",
       "Father                           5202\n",
       "Mother                           4859\n",
       "In-law                           4654\n",
       "Common-law wife                  3175\n",
       "Common-law husband               2663\n",
       "Ex-wife                          2282\n",
       "Stepfather                       1645\n",
       "Homosexual relationship          1591\n",
       "Sister                           1511\n",
       "Stepson                          1399\n",
       "Ex-husband                        851\n",
       "Stepdaughter                      850\n",
       "Employer                          564\n",
       "Employee                          434\n",
       "Stepmother                        247\n",
       "Name: Relationship, dtype: int64"
      ]
     },
     "execution_count": 74,
     "metadata": {},
     "output_type": "execute_result"
    }
   ],
   "source": [
    "shr.Relationship.value_counts()"
   ]
  },
  {
   "cell_type": "code",
   "execution_count": 75,
   "metadata": {},
   "outputs": [
    {
     "data": {
      "text/plain": [
       "Relationship                 Solved\n",
       "Acquaintance                 Yes       144996\n",
       "                             No          2540\n",
       "Boyfriend                    Yes         8454\n",
       "                             No            19\n",
       "Brother                      Yes         6462\n",
       "                             No            19\n",
       "Common-law husband           Yes         2653\n",
       "                             No            10\n",
       "Common-law wife              Yes         3162\n",
       "                             No            13\n",
       "Daughter                     Yes         8386\n",
       "                             No            60\n",
       "Employee                     Yes          429\n",
       "                             No             5\n",
       "Employer                     Yes          564\n",
       "Ex-husband                   Yes          846\n",
       "                             No             5\n",
       "Ex-wife                      Yes         2274\n",
       "                             No             8\n",
       "Father                       Yes         5191\n",
       "                             No            11\n",
       "Friend                       Yes        25340\n",
       "                             No           266\n",
       "Girlfriend                   Yes        18263\n",
       "                             No            57\n",
       "Homosexual relationship      Yes         1470\n",
       "                             No           121\n",
       "Husband                      Yes        11640\n",
       "                             No            37\n",
       "In-law                       Yes         4640\n",
       "                             No            14\n",
       "Mother                       Yes         4846\n",
       "                             No            13\n",
       "Neighbor                     Yes         7677\n",
       "                             No            44\n",
       "Other - known to victim      Yes        29586\n",
       "                             No          2673\n",
       "Other family                 Yes        10723\n",
       "                             No            83\n",
       "Relationship not determined  No        196470\n",
       "                             Yes        75764\n",
       "Sister                       Yes         1506\n",
       "                             No             5\n",
       "Son                          Yes        11251\n",
       "                             No            75\n",
       "Stepdaughter                 Yes          850\n",
       "Stepfather                   Yes         1642\n",
       "                             No             3\n",
       "Stepmother                   Yes          247\n",
       "Stepson                      Yes         1396\n",
       "                             No             3\n",
       "Stranger                     Yes        99532\n",
       "                             No         10629\n",
       "Wife                         Yes        27198\n",
       "                             No            61\n",
       "Name: Solved, dtype: int64"
      ]
     },
     "execution_count": 75,
     "metadata": {},
     "output_type": "execute_result"
    }
   ],
   "source": [
    "shr.groupby('Relationship').Solved.value_counts()"
   ]
  },
  {
   "cell_type": "code",
   "execution_count": 76,
   "metadata": {},
   "outputs": [
    {
     "data": {
      "text/plain": [
       "Handgun - pistol, revolver, etc         360177\n",
       "Knife or cutting instrument             110644\n",
       "Firearm, type not stated                 52510\n",
       "Personal weapons, includes beating       42893\n",
       "Shotgun                                  37765\n",
       "Other or type unknown                    36228\n",
       "Blunt object - hammer, club, etc         33588\n",
       "Rifle                                    27968\n",
       "Strangulation - hanging                   9689\n",
       "Fire                                      7207\n",
       "Asphyxiation - includes death by gas      4470\n",
       "Other gun                                 2474\n",
       "Narcotics or drugs, sleeping pills        1829\n",
       "Drowning                                  1447\n",
       "Explosives                                 595\n",
       "Poison - does not include gas              503\n",
       "Pushed or thrown out window                245\n",
       "Name: Weapon, dtype: int64"
      ]
     },
     "execution_count": 76,
     "metadata": {},
     "output_type": "execute_result"
    }
   ],
   "source": [
    "# Weapon of choice: \n",
    "shr.Weapon.value_counts()"
   ]
  },
  {
   "cell_type": "code",
   "execution_count": 77,
   "metadata": {},
   "outputs": [
    {
     "data": {
      "image/png": "[encoded data removed]",
      "text/plain": [
       "<matplotlib.figure.Figure at 0x10f9f53d0>"
      ]
     },
     "metadata": {},
     "output_type": "display_data"
    }
   ],
   "source": [
    "plt.figure(figsize=(12,6))\n",
    "sns.countplot(x='Weapon', data=shr)\n",
    "plt.xticks(rotation=90, fontsize=15)\n",
    "plt.title('Type of Weapons Used in Murders')\n",
    "plt.xlabel('Type of Weapon')\n",
    "plt.ylabel('Number of Homicides')\n",
    "plt.show()"
   ]
  },
  {
   "cell_type": "code",
   "execution_count": 78,
   "metadata": {},
   "outputs": [
    {
     "data": {
      "text/plain": [
       "Single victim/single offender           403907\n",
       "Single victim/unknown offender(s)       195309\n",
       "Single victim/multiple offenders         73298\n",
       "Multiple victims/single offender         32446\n",
       "Multiple victims/unknown offender(s)     15680\n",
       "Multiple victims/multiple offenders       9592\n",
       "Name: Situation, dtype: int64"
      ]
     },
     "execution_count": 78,
     "metadata": {},
     "output_type": "execute_result"
    }
   ],
   "source": [
    "# Single vs. Multiple Victims/Offenders\n",
    "shr.Situation.value_counts()"
   ]
  },
  {
   "cell_type": "code",
   "execution_count": 79,
   "metadata": {},
   "outputs": [
    {
     "data": {
      "text/plain": [
       "<matplotlib.axes._subplots.AxesSubplot at 0x1100be7d0>"
      ]
     },
     "execution_count": 79,
     "metadata": {},
     "output_type": "execute_result"
    },
    {
     "data": {
      "image/png": "[encoded data removed]",
      "text/plain": [
       "<matplotlib.figure.Figure at 0x10d943c90>"
      ]
     },
     "metadata": {},
     "output_type": "display_data"
    }
   ],
   "source": [
    "shr.Situation.value_counts().plot(\"barh\",figsize=(12,6), fontsize=15,title=\"Victims vs. Offenders\")"
   ]
  },
  {
   "cell_type": "code",
   "execution_count": 80,
   "metadata": {},
   "outputs": [
    {
     "data": {
      "text/plain": [
       "Other arguments                         194117\n",
       "Circumstances undetermined              186930\n",
       "Other                                    94521\n",
       "Robbery                                  58027\n",
       "Narcotic drug laws                       27517\n",
       "Juvenile gang killings                   23111\n",
       "Other - not specified                    22253\n",
       "Brawl due to influence of alcohol        15839\n",
       "Felon killed by police                   15516\n",
       "Argument over money or property          14883\n",
       "All suspected felony type                12947\n",
       "Felon killed by private citizen          11827\n",
       "Lovers triangle                          11709\n",
       "Burglary                                  6184\n",
       "Brawl due to influence of narcotics       4866\n",
       "Arson                                     4430\n",
       "All other manslaughter by negligence      4370\n",
       "Rape                                      4132\n",
       "Gangland killings                         3933\n",
       "Other negligent handling of gun           3457\n",
       "Other sex offense                         1435\n",
       "Children playing with gun                 1354\n",
       "Child killed by babysitter                1205\n",
       "Motor vehicle theft                       1194\n",
       "Gambling                                  1046\n",
       "Institutional killings                    1043\n",
       "Larceny                                    724\n",
       "Prostitution and commercialized vice       579\n",
       "Sniper attack                              529\n",
       "Victim shot in hunting accident            404\n",
       "Gun-cleaning death - other than self       140\n",
       "Abortion                                    10\n",
       "Name: Circumstance, dtype: int64"
      ]
     },
     "execution_count": 80,
     "metadata": {},
     "output_type": "execute_result"
    }
   ],
   "source": [
    "# Circumstances of incidents\n",
    "shr.Circumstance.value_counts()"
   ]
  },
  {
   "cell_type": "code",
   "execution_count": 81,
   "metadata": {},
   "outputs": [
    {
     "data": {
      "text/plain": [
       "Circumstance                          Solved\n",
       "Abortion                              Yes           10\n",
       "All other manslaughter by negligence  Yes         4074\n",
       "                                      No           296\n",
       "All suspected felony type             No          9356\n",
       "                                      Yes         3591\n",
       "Argument over money or property       Yes        14142\n",
       "                                      No           741\n",
       "Arson                                 Yes         2698\n",
       "                                      No          1732\n",
       "Brawl due to influence of alcohol     Yes        14921\n",
       "                                      No           918\n",
       "Brawl due to influence of narcotics   Yes         3977\n",
       "                                      No           889\n",
       "Burglary                              Yes         4305\n",
       "                                      No          1879\n",
       "Child killed by babysitter            Yes         1189\n",
       "                                      No            16\n",
       "Children playing with gun             Yes         1344\n",
       "                                      No            10\n",
       "Circumstances undetermined            No        115226\n",
       "                                      Yes        71704\n",
       "Felon killed by police                Yes        13757\n",
       "                                      No          1759\n",
       "Felon killed by private citizen       Yes        11091\n",
       "                                      No           736\n",
       "Gambling                              Yes          938\n",
       "                                      No           108\n",
       "Gangland killings                     Yes         2653\n",
       "                                      No          1280\n",
       "Gun-cleaning death - other than self  Yes          137\n",
       "                                      No             3\n",
       "Institutional killings                Yes          850\n",
       "                                      No           193\n",
       "Juvenile gang killings                Yes        12022\n",
       "                                      No         11089\n",
       "Larceny                               Yes          625\n",
       "                                      No            99\n",
       "Lovers triangle                       Yes        11486\n",
       "                                      No           223\n",
       "Motor vehicle theft                   Yes          959\n",
       "                                      No           235\n",
       "Narcotic drug laws                    Yes        17569\n",
       "                                      No          9948\n",
       "Other                                 Yes        80733\n",
       "                                      No         13788\n",
       "Other - not specified                 Yes        14734\n",
       "                                      No          7519\n",
       "Other arguments                       Yes       180338\n",
       "                                      No         13779\n",
       "Other negligent handling of gun       Yes         3412\n",
       "                                      No            45\n",
       "Other sex offense                     Yes         1108\n",
       "                                      No           327\n",
       "Prostitution and commercialized vice  Yes          408\n",
       "                                      No           171\n",
       "Rape                                  Yes         2745\n",
       "                                      No          1387\n",
       "Robbery                               Yes        38790\n",
       "                                      No         19237\n",
       "Sniper attack                         Yes          297\n",
       "                                      No           232\n",
       "Victim shot in hunting accident       Yes          381\n",
       "                                      No            23\n",
       "Name: Solved, dtype: int64"
      ]
     },
     "execution_count": 81,
     "metadata": {},
     "output_type": "execute_result"
    }
   ],
   "source": [
    "shr.groupby('Circumstance').Solved.value_counts()"
   ]
  },
  {
   "cell_type": "code",
   "execution_count": 82,
   "metadata": {},
   "outputs": [
    {
     "data": {
      "text/plain": [
       "Circumstance                          Solved\n",
       "Abortion                              Yes       1.000000\n",
       "All other manslaughter by negligence  Yes       0.932265\n",
       "                                      No        0.067735\n",
       "All suspected felony type             No        0.722638\n",
       "                                      Yes       0.277362\n",
       "Argument over money or property       Yes       0.950212\n",
       "                                      No        0.049788\n",
       "Arson                                 Yes       0.609029\n",
       "                                      No        0.390971\n",
       "Brawl due to influence of alcohol     Yes       0.942042\n",
       "                                      No        0.057958\n",
       "Brawl due to influence of narcotics   Yes       0.817304\n",
       "                                      No        0.182696\n",
       "Burglary                              Yes       0.696151\n",
       "                                      No        0.303849\n",
       "Child killed by babysitter            Yes       0.986722\n",
       "                                      No        0.013278\n",
       "Children playing with gun             Yes       0.992614\n",
       "                                      No        0.007386\n",
       "Circumstances undetermined            No        0.616413\n",
       "                                      Yes       0.383587\n",
       "Felon killed by police                Yes       0.886633\n",
       "                                      No        0.113367\n",
       "Felon killed by private citizen       Yes       0.937770\n",
       "                                      No        0.062230\n",
       "Gambling                              Yes       0.896750\n",
       "                                      No        0.103250\n",
       "Gangland killings                     Yes       0.674549\n",
       "                                      No        0.325451\n",
       "Gun-cleaning death - other than self  Yes       0.978571\n",
       "                                      No        0.021429\n",
       "Institutional killings                Yes       0.814957\n",
       "                                      No        0.185043\n",
       "Juvenile gang killings                Yes       0.520185\n",
       "                                      No        0.479815\n",
       "Larceny                               Yes       0.863260\n",
       "                                      No        0.136740\n",
       "Lovers triangle                       Yes       0.980955\n",
       "                                      No        0.019045\n",
       "Motor vehicle theft                   Yes       0.803183\n",
       "                                      No        0.196817\n",
       "Narcotic drug laws                    Yes       0.638478\n",
       "                                      No        0.361522\n",
       "Other                                 Yes       0.854128\n",
       "                                      No        0.145872\n",
       "Other - not specified                 Yes       0.662113\n",
       "                                      No        0.337887\n",
       "Other arguments                       Yes       0.929017\n",
       "                                      No        0.070983\n",
       "Other negligent handling of gun       Yes       0.986983\n",
       "                                      No        0.013017\n",
       "Other sex offense                     Yes       0.772125\n",
       "                                      No        0.227875\n",
       "Prostitution and commercialized vice  Yes       0.704663\n",
       "                                      No        0.295337\n",
       "Rape                                  Yes       0.664327\n",
       "                                      No        0.335673\n",
       "Robbery                               Yes       0.668482\n",
       "                                      No        0.331518\n",
       "Sniper attack                         Yes       0.561437\n",
       "                                      No        0.438563\n",
       "Victim shot in hunting accident       Yes       0.943069\n",
       "                                      No        0.056931\n",
       "Name: Solved, dtype: float64"
      ]
     },
     "execution_count": 82,
     "metadata": {},
     "output_type": "execute_result"
    }
   ],
   "source": [
    "# Percentage of solved homicides by circumstance of incident\n",
    "shr.groupby('Circumstance').Solved.value_counts(normalize=True)"
   ]
  },
  {
   "cell_type": "code",
   "execution_count": 83,
   "metadata": {
    "scrolled": true
   },
   "outputs": [
    {
     "data": {
      "text/plain": [
       "array([nan, 'Felon killed in commission of a crime',\n",
       "       'Felon attacked a civilian', 'Felon resisted arrest',\n",
       "       'Felon attempted flight from a crime',\n",
       "       'Felon attacked fellow police officer',\n",
       "       'Not enough information to determine',\n",
       "       'Felon attacked police officer'], dtype=object)"
      ]
     },
     "execution_count": 83,
     "metadata": {},
     "output_type": "execute_result"
    }
   ],
   "source": [
    "# Subcircumstances - special set of circumstances \n",
    "shr.Subcircum.unique()"
   ]
  },
  {
   "cell_type": "code",
   "execution_count": 84,
   "metadata": {},
   "outputs": [
    {
     "data": {
      "text/plain": [
       "Felon killed in commission of a crime    9974\n",
       "Felon attacked police officer            8031\n",
       "Felon attacked a civilian                4176\n",
       "Not enough information to determine      2276\n",
       "Felon resisted arrest                    1179\n",
       "Felon attacked fellow police officer      888\n",
       "Felon attempted flight from a crime       809\n",
       "Name: Subcircum, dtype: int64"
      ]
     },
     "execution_count": 84,
     "metadata": {},
     "output_type": "execute_result"
    }
   ],
   "source": [
    "shr.Subcircum.value_counts()"
   ]
  },
  {
   "cell_type": "markdown",
   "metadata": {},
   "source": [
    "## Model Building "
   ]
  },
  {
   "cell_type": "markdown",
   "metadata": {},
   "source": [
    "I am trying to predict whether a murder would be solved or not. "
   ]
  },
  {
   "cell_type": "code",
   "execution_count": 85,
   "metadata": {
    "collapsed": true
   },
   "outputs": [],
   "source": [
    "# My target variable is whether a murder was solved or not. \n",
    "y = [1 if x == 'Yes' else 0 for x in shr.Solved]"
   ]
  },
  {
   "cell_type": "code",
   "execution_count": 86,
   "metadata": {
    "collapsed": true
   },
   "outputs": [],
   "source": [
    "# Assign the new variable y to a dataset column called 'target':\n",
    "shr['target'] = y"
   ]
  },
  {
   "cell_type": "code",
   "execution_count": 87,
   "metadata": {},
   "outputs": [
    {
     "data": {
      "text/plain": [
       "1    516988\n",
       "0    213244\n",
       "Name: target, dtype: int64"
      ]
     },
     "execution_count": 87,
     "metadata": {},
     "output_type": "execute_result"
    }
   ],
   "source": [
    "# Make sure the numbers are correct:\n",
    "shr['target'].value_counts()"
   ]
  },
  {
   "cell_type": "code",
   "execution_count": 89,
   "metadata": {},
   "outputs": [
    {
     "data": {
      "text/plain": [
       "Yes    516988\n",
       "No     213244\n",
       "Name: Solved, dtype: int64"
      ]
     },
     "execution_count": 89,
     "metadata": {},
     "output_type": "execute_result"
    }
   ],
   "source": [
    "shr['Solved'].value_counts()"
   ]
  },
  {
   "cell_type": "markdown",
   "metadata": {},
   "source": [
    "It fits!"
   ]
  },
  {
   "cell_type": "code",
   "execution_count": 90,
   "metadata": {},
   "outputs": [
    {
     "data": {
      "text/html": [
       "<div>\n",
       "<style>\n",
       "    .dataframe thead tr:only-child th {\n",
       "        text-align: right;\n",
       "    }\n",
       "\n",
       "    .dataframe thead th {\n",
       "        text-align: left;\n",
       "    }\n",
       "\n",
       "    .dataframe tbody tr th {\n",
       "        vertical-align: top;\n",
       "    }\n",
       "</style>\n",
       "<table border=\"1\" class=\"dataframe\">\n",
       "  <thead>\n",
       "    <tr style=\"text-align: right;\">\n",
       "      <th></th>\n",
       "      <th>Year</th>\n",
       "      <th>Incident</th>\n",
       "      <th>VicAge</th>\n",
       "      <th>OffAge</th>\n",
       "      <th>VicCount</th>\n",
       "      <th>OffCount</th>\n",
       "      <th>FileDate</th>\n",
       "      <th>target</th>\n",
       "    </tr>\n",
       "  </thead>\n",
       "  <tbody>\n",
       "    <tr>\n",
       "      <th>Year</th>\n",
       "      <td>1.000000</td>\n",
       "      <td>0.130180</td>\n",
       "      <td>-0.017414</td>\n",
       "      <td>0.006846</td>\n",
       "      <td>0.029992</td>\n",
       "      <td>0.062458</td>\n",
       "      <td>0.024893</td>\n",
       "      <td>-0.043978</td>\n",
       "    </tr>\n",
       "    <tr>\n",
       "      <th>Incident</th>\n",
       "      <td>0.130180</td>\n",
       "      <td>1.000000</td>\n",
       "      <td>0.003302</td>\n",
       "      <td>0.007667</td>\n",
       "      <td>-0.007422</td>\n",
       "      <td>-0.005710</td>\n",
       "      <td>-0.102810</td>\n",
       "      <td>-0.022589</td>\n",
       "    </tr>\n",
       "    <tr>\n",
       "      <th>VicAge</th>\n",
       "      <td>-0.017414</td>\n",
       "      <td>0.003302</td>\n",
       "      <td>1.000000</td>\n",
       "      <td>0.376227</td>\n",
       "      <td>-0.022630</td>\n",
       "      <td>-0.028170</td>\n",
       "      <td>-0.009666</td>\n",
       "      <td>-0.005370</td>\n",
       "    </tr>\n",
       "    <tr>\n",
       "      <th>OffAge</th>\n",
       "      <td>0.006846</td>\n",
       "      <td>0.007667</td>\n",
       "      <td>0.376227</td>\n",
       "      <td>1.000000</td>\n",
       "      <td>0.005486</td>\n",
       "      <td>-0.178269</td>\n",
       "      <td>-0.011488</td>\n",
       "      <td>-0.014936</td>\n",
       "    </tr>\n",
       "    <tr>\n",
       "      <th>VicCount</th>\n",
       "      <td>0.029992</td>\n",
       "      <td>-0.007422</td>\n",
       "      <td>-0.022630</td>\n",
       "      <td>0.005486</td>\n",
       "      <td>1.000000</td>\n",
       "      <td>0.057484</td>\n",
       "      <td>0.001150</td>\n",
       "      <td>0.022964</td>\n",
       "    </tr>\n",
       "    <tr>\n",
       "      <th>OffCount</th>\n",
       "      <td>0.062458</td>\n",
       "      <td>-0.005710</td>\n",
       "      <td>-0.028170</td>\n",
       "      <td>-0.178269</td>\n",
       "      <td>0.057484</td>\n",
       "      <td>1.000000</td>\n",
       "      <td>-0.022862</td>\n",
       "      <td>0.162111</td>\n",
       "    </tr>\n",
       "    <tr>\n",
       "      <th>FileDate</th>\n",
       "      <td>0.024893</td>\n",
       "      <td>-0.102810</td>\n",
       "      <td>-0.009666</td>\n",
       "      <td>-0.011488</td>\n",
       "      <td>0.001150</td>\n",
       "      <td>-0.022862</td>\n",
       "      <td>1.000000</td>\n",
       "      <td>-0.009997</td>\n",
       "    </tr>\n",
       "    <tr>\n",
       "      <th>target</th>\n",
       "      <td>-0.043978</td>\n",
       "      <td>-0.022589</td>\n",
       "      <td>-0.005370</td>\n",
       "      <td>-0.014936</td>\n",
       "      <td>0.022964</td>\n",
       "      <td>0.162111</td>\n",
       "      <td>-0.009997</td>\n",
       "      <td>1.000000</td>\n",
       "    </tr>\n",
       "  </tbody>\n",
       "</table>\n",
       "</div>"
      ],
      "text/plain": [
       "              Year  Incident    VicAge    OffAge  VicCount  OffCount  \\\n",
       "Year      1.000000  0.130180 -0.017414  0.006846  0.029992  0.062458   \n",
       "Incident  0.130180  1.000000  0.003302  0.007667 -0.007422 -0.005710   \n",
       "VicAge   -0.017414  0.003302  1.000000  0.376227 -0.022630 -0.028170   \n",
       "OffAge    0.006846  0.007667  0.376227  1.000000  0.005486 -0.178269   \n",
       "VicCount  0.029992 -0.007422 -0.022630  0.005486  1.000000  0.057484   \n",
       "OffCount  0.062458 -0.005710 -0.028170 -0.178269  0.057484  1.000000   \n",
       "FileDate  0.024893 -0.102810 -0.009666 -0.011488  0.001150 -0.022862   \n",
       "target   -0.043978 -0.022589 -0.005370 -0.014936  0.022964  0.162111   \n",
       "\n",
       "          FileDate    target  \n",
       "Year      0.024893 -0.043978  \n",
       "Incident -0.102810 -0.022589  \n",
       "VicAge   -0.009666 -0.005370  \n",
       "OffAge   -0.011488 -0.014936  \n",
       "VicCount  0.001150  0.022964  \n",
       "OffCount -0.022862  0.162111  \n",
       "FileDate  1.000000 -0.009997  \n",
       "target   -0.009997  1.000000  "
      ]
     },
     "execution_count": 90,
     "metadata": {},
     "output_type": "execute_result"
    }
   ],
   "source": [
    "# Correlation matrix:\n",
    "shr.corr()"
   ]
  },
  {
   "cell_type": "code",
   "execution_count": 91,
   "metadata": {},
   "outputs": [
    {
     "data": {
      "text/plain": [
       "<matplotlib.axes._subplots.AxesSubplot at 0x10e38d1d0>"
      ]
     },
     "execution_count": 91,
     "metadata": {},
     "output_type": "execute_result"
    },
    {
     "data": {
      "image/png": "[encoded data removed]",
      "text/plain": [
       "<matplotlib.figure.Figure at 0x1102e9090>"
      ]
     },
     "metadata": {},
     "output_type": "display_data"
    }
   ],
   "source": [
    "sns.heatmap(shr.corr())"
   ]
  },
  {
   "cell_type": "markdown",
   "metadata": {},
   "source": [
    "Not a lot of strong correlations... It seems that the strongest correlations are between the victims' age and the offenders' age. I didn't check the categorical variables - it's time for time features engineering."
   ]
  },
  {
   "cell_type": "markdown",
   "metadata": {},
   "source": [
    "### Feature Engineering \n"
   ]
  },
  {
   "cell_type": "code",
   "execution_count": 92,
   "metadata": {
    "collapsed": true
   },
   "outputs": [],
   "source": [
    "# Build categories - intimate relationships, family relationships and work relationship.\n",
    "def encodeIntimateRelationship(x): return 1 if x in ('Boyfriend', 'Boyfriend/Girlfriend', 'Girlfriend', 'Wife', 'Husband') else 0\n",
    "def encodeFamilyRelationship(x): return 1 if x in ('Son', 'Family', 'Daughter', 'Brother', 'Father', 'Mother', 'Sister') else 0\n",
    "def encodeWorkRelationship(x): return 1 if x in ('Employer', 'Employee') else 0"
   ]
  },
  {
   "cell_type": "code",
   "execution_count": 93,
   "metadata": {
    "collapsed": true
   },
   "outputs": [],
   "source": [
    "shr['enc_IntimateRelationship'] = shr.Relationship.apply(encodeIntimateRelationship)\n",
    "shr['enc_FamilyRelationship'] = shr.Relationship.apply(encodeFamilyRelationship)\n",
    "shr['enc_WorkRelationship'] = shr.Relationship.apply(encodeWorkRelationship)"
   ]
  },
  {
   "cell_type": "code",
   "execution_count": 94,
   "metadata": {},
   "outputs": [
    {
     "data": {
      "text/plain": [
       "0    664503\n",
       "1     65729\n",
       "Name: enc_IntimateRelationship, dtype: int64"
      ]
     },
     "execution_count": 94,
     "metadata": {},
     "output_type": "execute_result"
    }
   ],
   "source": [
    "shr['enc_IntimateRelationship'].value_counts()"
   ]
  },
  {
   "cell_type": "markdown",
   "metadata": {},
   "source": [
    "Not a lot of intimate relationship homicides compared to the entire data - 65,729 out of 730,232."
   ]
  },
  {
   "cell_type": "code",
   "execution_count": 96,
   "metadata": {},
   "outputs": [
    {
     "data": {
      "text/plain": [
       "0    692407\n",
       "1     37825\n",
       "Name: enc_FamilyRelationship, dtype: int64"
      ]
     },
     "execution_count": 96,
     "metadata": {},
     "output_type": "execute_result"
    }
   ],
   "source": [
    "shr['enc_FamilyRelationship'].value_counts()"
   ]
  },
  {
   "cell_type": "markdown",
   "metadata": {},
   "source": [
    "Same with family relationships - 37,825 out of 730,232."
   ]
  },
  {
   "cell_type": "code",
   "execution_count": 97,
   "metadata": {},
   "outputs": [
    {
     "data": {
      "text/plain": [
       "0    729234\n",
       "1       998\n",
       "Name: enc_WorkRelationship, dtype: int64"
      ]
     },
     "execution_count": 97,
     "metadata": {},
     "output_type": "execute_result"
    }
   ],
   "source": [
    "shr['enc_WorkRelationship'].value_counts()"
   ]
  },
  {
   "cell_type": "markdown",
   "metadata": {},
   "source": [
    "Very few work related homicides!"
   ]
  },
  {
   "cell_type": "markdown",
   "metadata": {},
   "source": [
    "Let's get some more dummy variables:"
   ]
  },
  {
   "cell_type": "code",
   "execution_count": 98,
   "metadata": {
    "collapsed": true
   },
   "outputs": [],
   "source": [
    "off_dummies = pd.get_dummies(shr['OffRace'])"
   ]
  },
  {
   "cell_type": "code",
   "execution_count": 99,
   "metadata": {
    "collapsed": true
   },
   "outputs": [],
   "source": [
    "vic_dummies = pd.get_dummies(shr['VicRace'])"
   ]
  },
  {
   "cell_type": "code",
   "execution_count": 100,
   "metadata": {
    "collapsed": true
   },
   "outputs": [],
   "source": [
    "def encodeGender(x): return 1 if x == 'Female' else 0 "
   ]
  },
  {
   "cell_type": "code",
   "execution_count": 101,
   "metadata": {
    "collapsed": true
   },
   "outputs": [],
   "source": [
    "shr['VicSexDummy'] = shr.VicSex.apply(encodeGender)"
   ]
  },
  {
   "cell_type": "code",
   "execution_count": 102,
   "metadata": {},
   "outputs": [
    {
     "data": {
      "text/plain": [
       "0    565796\n",
       "1    164436\n",
       "Name: VicSexDummy, dtype: int64"
      ]
     },
     "execution_count": 102,
     "metadata": {},
     "output_type": "execute_result"
    }
   ],
   "source": [
    "shr.VicSexDummy.value_counts()"
   ]
  },
  {
   "cell_type": "markdown",
   "metadata": {},
   "source": [
    "### Random Forest"
   ]
  },
  {
   "cell_type": "code",
   "execution_count": 104,
   "metadata": {},
   "outputs": [],
   "source": [
    "# Necessary imports for statistical analysis:\n",
    "from sklearn.ensemble import RandomForestClassifier\n",
    "from sklearn import preprocessing\n",
    "from sklearn.model_selection import cross_val_score\n",
    "from sklearn import tree\n",
    "from sklearn.preprocessing import LabelEncoder\n",
    "from sklearn.model_selection import cross_val_score, StratifiedKFold\n",
    "from sklearn.ensemble import RandomForestClassifier, ExtraTreesClassifier, BaggingClassifier\n",
    "from sklearn.model_selection import train_test_split\n",
    "from sklearn.metrics import accuracy_score"
   ]
  },
  {
   "cell_type": "code",
   "execution_count": 105,
   "metadata": {
    "collapsed": true
   },
   "outputs": [],
   "source": [
    "# Dropping missed values for the statistical analysis:\n",
    "shr.dropna(inplace=True)"
   ]
  },
  {
   "cell_type": "code",
   "execution_count": 106,
   "metadata": {
    "collapsed": true
   },
   "outputs": [],
   "source": [
    "# Building the model:\n",
    "y = LabelEncoder().fit_transform(shr['Solved'])\n",
    "X = pd.get_dummies(shr[['VicSex','VicRace','OffAge','OffRace', 'enc_IntimateRelationship', 'enc_FamilyRelationship', 'enc_WorkRelationship']])"
   ]
  },
  {
   "cell_type": "code",
   "execution_count": 107,
   "metadata": {
    "collapsed": true
   },
   "outputs": [],
   "source": [
    "# Creating a train-test split:\n",
    "X_train, X_test, Y_train, Y_test = train_test_split(X, y, test_size=0.33)"
   ]
  },
  {
   "cell_type": "code",
   "execution_count": 108,
   "metadata": {
    "collapsed": true
   },
   "outputs": [],
   "source": [
    "# Use cross-validation:\n",
    "cv = StratifiedKFold(n_splits=5, shuffle=True, random_state=41)"
   ]
  },
  {
   "cell_type": "code",
   "execution_count": 109,
   "metadata": {},
   "outputs": [
    {
     "name": "stdout",
     "output_type": "stream",
     "text": [
      "1.0\n",
      "Random Forest Score:\t0.999 ± 0.0\n"
     ]
    }
   ],
   "source": [
    "rt = RandomForestClassifier(n_jobs=-1)\n",
    "rt.fit(X_train, Y_train)\n",
    "Y_pred = rt.predict(X_test)\n",
    "print rt.score(X_test, Y_test)\n",
    "s = cross_val_score(rt, X_train, Y_train, cv=cv, n_jobs=-1)\n",
    "print \"{} Score:\\t{:0.3} ± {:0.3}\".format(\"Random Forest\", s.mean().round(3), s.std().round(3))"
   ]
  },
  {
   "cell_type": "code",
   "execution_count": 110,
   "metadata": {},
   "outputs": [
    {
     "data": {
      "text/plain": [
       "DecisionTreeClassifier(class_weight=None, criterion='gini', max_depth=None,\n",
       "            max_features=None, max_leaf_nodes=None,\n",
       "            min_impurity_split=1e-07, min_samples_leaf=1,\n",
       "            min_samples_split=2, min_weight_fraction_leaf=0.0,\n",
       "            presort=False, random_state=None, splitter='best')"
      ]
     },
     "execution_count": 110,
     "metadata": {},
     "output_type": "execute_result"
    }
   ],
   "source": [
    "rt.base_estimator"
   ]
  },
  {
   "cell_type": "code",
   "execution_count": 111,
   "metadata": {},
   "outputs": [
    {
     "data": {
      "text/plain": [
       "('criterion',\n",
       " 'max_depth',\n",
       " 'min_samples_split',\n",
       " 'min_samples_leaf',\n",
       " 'min_weight_fraction_leaf',\n",
       " 'max_features',\n",
       " 'max_leaf_nodes',\n",
       " 'min_impurity_split',\n",
       " 'random_state')"
      ]
     },
     "execution_count": 111,
     "metadata": {},
     "output_type": "execute_result"
    }
   ],
   "source": [
    "rt.estimator_params"
   ]
  },
  {
   "cell_type": "code",
   "execution_count": 112,
   "metadata": {},
   "outputs": [
    {
     "data": {
      "text/plain": [
       "<bound method RandomForestClassifier.decision_path of RandomForestClassifier(bootstrap=True, class_weight=None, criterion='gini',\n",
       "            max_depth=None, max_features='auto', max_leaf_nodes=None,\n",
       "            min_impurity_split=1e-07, min_samples_leaf=1,\n",
       "            min_samples_split=2, min_weight_fraction_leaf=0.0,\n",
       "            n_estimators=10, n_jobs=-1, oob_score=False, random_state=None,\n",
       "            verbose=0, warm_start=False)>"
      ]
     },
     "execution_count": 112,
     "metadata": {},
     "output_type": "execute_result"
    }
   ],
   "source": [
    "rt.decision_path"
   ]
  },
  {
   "cell_type": "code",
   "execution_count": 113,
   "metadata": {},
   "outputs": [
    {
     "data": {
      "text/plain": [
       "[DecisionTreeClassifier(class_weight=None, criterion='gini', max_depth=None,\n",
       "             max_features='auto', max_leaf_nodes=None,\n",
       "             min_impurity_split=1e-07, min_samples_leaf=1,\n",
       "             min_samples_split=2, min_weight_fraction_leaf=0.0,\n",
       "             presort=False, random_state=1482750730, splitter='best'),\n",
       " DecisionTreeClassifier(class_weight=None, criterion='gini', max_depth=None,\n",
       "             max_features='auto', max_leaf_nodes=None,\n",
       "             min_impurity_split=1e-07, min_samples_leaf=1,\n",
       "             min_samples_split=2, min_weight_fraction_leaf=0.0,\n",
       "             presort=False, random_state=1994024122, splitter='best'),\n",
       " DecisionTreeClassifier(class_weight=None, criterion='gini', max_depth=None,\n",
       "             max_features='auto', max_leaf_nodes=None,\n",
       "             min_impurity_split=1e-07, min_samples_leaf=1,\n",
       "             min_samples_split=2, min_weight_fraction_leaf=0.0,\n",
       "             presort=False, random_state=909022356, splitter='best'),\n",
       " DecisionTreeClassifier(class_weight=None, criterion='gini', max_depth=None,\n",
       "             max_features='auto', max_leaf_nodes=None,\n",
       "             min_impurity_split=1e-07, min_samples_leaf=1,\n",
       "             min_samples_split=2, min_weight_fraction_leaf=0.0,\n",
       "             presort=False, random_state=1918435070, splitter='best'),\n",
       " DecisionTreeClassifier(class_weight=None, criterion='gini', max_depth=None,\n",
       "             max_features='auto', max_leaf_nodes=None,\n",
       "             min_impurity_split=1e-07, min_samples_leaf=1,\n",
       "             min_samples_split=2, min_weight_fraction_leaf=0.0,\n",
       "             presort=False, random_state=1508578979, splitter='best'),\n",
       " DecisionTreeClassifier(class_weight=None, criterion='gini', max_depth=None,\n",
       "             max_features='auto', max_leaf_nodes=None,\n",
       "             min_impurity_split=1e-07, min_samples_leaf=1,\n",
       "             min_samples_split=2, min_weight_fraction_leaf=0.0,\n",
       "             presort=False, random_state=294196569, splitter='best'),\n",
       " DecisionTreeClassifier(class_weight=None, criterion='gini', max_depth=None,\n",
       "             max_features='auto', max_leaf_nodes=None,\n",
       "             min_impurity_split=1e-07, min_samples_leaf=1,\n",
       "             min_samples_split=2, min_weight_fraction_leaf=0.0,\n",
       "             presort=False, random_state=1042478473, splitter='best'),\n",
       " DecisionTreeClassifier(class_weight=None, criterion='gini', max_depth=None,\n",
       "             max_features='auto', max_leaf_nodes=None,\n",
       "             min_impurity_split=1e-07, min_samples_leaf=1,\n",
       "             min_samples_split=2, min_weight_fraction_leaf=0.0,\n",
       "             presort=False, random_state=1479471676, splitter='best'),\n",
       " DecisionTreeClassifier(class_weight=None, criterion='gini', max_depth=None,\n",
       "             max_features='auto', max_leaf_nodes=None,\n",
       "             min_impurity_split=1e-07, min_samples_leaf=1,\n",
       "             min_samples_split=2, min_weight_fraction_leaf=0.0,\n",
       "             presort=False, random_state=1131681811, splitter='best'),\n",
       " DecisionTreeClassifier(class_weight=None, criterion='gini', max_depth=None,\n",
       "             max_features='auto', max_leaf_nodes=None,\n",
       "             min_impurity_split=1e-07, min_samples_leaf=1,\n",
       "             min_samples_split=2, min_weight_fraction_leaf=0.0,\n",
       "             presort=False, random_state=1660966207, splitter='best')]"
      ]
     },
     "execution_count": 113,
     "metadata": {},
     "output_type": "execute_result"
    }
   ],
   "source": [
    "rt.estimators_"
   ]
  },
  {
   "cell_type": "markdown",
   "metadata": {},
   "source": [
    "Next steps is to check other classification methods (such as logistic regression, for example) for predicting whether a case would be solved or not. Stay toned!"
   ]
  }
 ],
 "metadata": {
  "kernelspec": {
   "display_name": "Python 2",
   "language": "python",
   "name": "python2"
  },
  "language_info": {
   "codemirror_mode": {
    "name": "ipython",
    "version": 2
   },
   "file_extension": ".py",
   "mimetype": "text/x-python",
   "name": "python",
   "nbconvert_exporter": "python",
   "pygments_lexer": "ipython2",
   "version": "2.7.13"
  }
 },
 "nbformat": 4,
 "nbformat_minor": 2
}
